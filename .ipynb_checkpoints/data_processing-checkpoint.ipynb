{
 "cells": [
  {
   "cell_type": "markdown",
   "metadata": {},
   "source": [
    "# Data Cleaning and Processing"
   ]
  },
  {
   "cell_type": "markdown",
   "metadata": {
    "heading_collapsed": true
   },
   "source": [
    "## Required Libraries"
   ]
  },
  {
   "cell_type": "code",
   "execution_count": 1,
   "metadata": {
    "ExecuteTime": {
     "end_time": "2021-03-22T13:32:46.330943Z",
     "start_time": "2021-03-22T13:32:44.269014Z"
    },
    "hidden": true
   },
   "outputs": [],
   "source": [
    "import numpy as np\n",
    "import pandas as pd\n",
    "from time import sleep\n",
    "from random import randint\n",
    "import datetime\n",
    "import pdb\n",
    "import re\n",
    "import os\n",
    "import time\n",
    "import datetime\n",
    "from pathlib import Path\n",
    "import pickle\n",
    "import dateutil\n",
    "from dateutil.relativedelta import relativedelta\n",
    "import random\n",
    "from os import system\n",
    "from math import floor\n",
    "from copy import deepcopy\n",
    "from dask import dataframe as dd"
   ]
  },
  {
   "cell_type": "markdown",
   "metadata": {},
   "source": [
    "## NYT Data"
   ]
  },
  {
   "cell_type": "markdown",
   "metadata": {},
   "source": [
    "### Loading in Best Seller list"
   ]
  },
  {
   "cell_type": "code",
   "execution_count": 2,
   "metadata": {
    "ExecuteTime": {
     "end_time": "2021-03-22T13:32:54.076061Z",
     "start_time": "2021-03-22T13:32:53.813561Z"
    }
   },
   "outputs": [],
   "source": [
    "best_sellers = pd.read_pickle('./revised_df.pkl','zip')"
   ]
  },
  {
   "cell_type": "code",
   "execution_count": 3,
   "metadata": {
    "ExecuteTime": {
     "end_time": "2021-03-22T13:32:54.773661Z",
     "start_time": "2021-03-22T13:32:54.721888Z"
    }
   },
   "outputs": [
    {
     "data": {
      "text/html": [
       "<div>\n",
       "<style scoped>\n",
       "    .dataframe tbody tr th:only-of-type {\n",
       "        vertical-align: middle;\n",
       "    }\n",
       "\n",
       "    .dataframe tbody tr th {\n",
       "        vertical-align: top;\n",
       "    }\n",
       "\n",
       "    .dataframe thead th {\n",
       "        text-align: right;\n",
       "    }\n",
       "</style>\n",
       "<table border=\"1\" class=\"dataframe\">\n",
       "  <thead>\n",
       "    <tr style=\"text-align: right;\">\n",
       "      <th></th>\n",
       "      <th>Title</th>\n",
       "      <th>List_Type</th>\n",
       "      <th>Update_Interval</th>\n",
       "      <th>Author</th>\n",
       "      <th>Rank</th>\n",
       "      <th>Isbn10</th>\n",
       "      <th>Isbn13</th>\n",
       "      <th>BestSeller_Date</th>\n",
       "      <th>List_Published_Date</th>\n",
       "      <th>Publisher</th>\n",
       "      <th>Weeks_on_List</th>\n",
       "      <th>Amazon_Link</th>\n",
       "      <th>Apple_Books_Link</th>\n",
       "      <th>Barnes_and_Nobel_Link</th>\n",
       "      <th>Books_A_Million_Link</th>\n",
       "      <th>Bookshop_Link</th>\n",
       "      <th>IndieBound_Link</th>\n",
       "    </tr>\n",
       "  </thead>\n",
       "  <tbody>\n",
       "    <tr>\n",
       "      <th>0</th>\n",
       "      <td>ODD HOURS</td>\n",
       "      <td>Hardcover Fiction</td>\n",
       "      <td>WEEKLY</td>\n",
       "      <td>Dean R Koontz</td>\n",
       "      <td>1</td>\n",
       "      <td>0553807056</td>\n",
       "      <td>9780553807059</td>\n",
       "      <td>2008-05-24</td>\n",
       "      <td>2008-06-08</td>\n",
       "      <td>Bantam</td>\n",
       "      <td>1</td>\n",
       "      <td>http://www.amazon.com/Odd-Hours-Dean-Koontz/dp...</td>\n",
       "      <td>https://du-gae-books-dot-nyt-du-prd.appspot.co...</td>\n",
       "      <td>https://www.anrdoezrs.net/click-7990613-118195...</td>\n",
       "      <td>https://www.anrdoezrs.net/click-7990613-35140?...</td>\n",
       "      <td>https://bookshop.org/a/3546/9780553807059</td>\n",
       "      <td>https://www.indiebound.org/book/9780553807059?...</td>\n",
       "    </tr>\n",
       "    <tr>\n",
       "      <th>1</th>\n",
       "      <td>THE HOST</td>\n",
       "      <td>Hardcover Fiction</td>\n",
       "      <td>WEEKLY</td>\n",
       "      <td>Stephenie Meyer</td>\n",
       "      <td>2</td>\n",
       "      <td>0316068047</td>\n",
       "      <td>9780316068048</td>\n",
       "      <td>2008-05-24</td>\n",
       "      <td>2008-06-08</td>\n",
       "      <td>Little, Brown</td>\n",
       "      <td>3</td>\n",
       "      <td>http://www.amazon.com/The-Host-Novel-Stephenie...</td>\n",
       "      <td>https://du-gae-books-dot-nyt-du-prd.appspot.co...</td>\n",
       "      <td>https://www.anrdoezrs.net/click-7990613-118195...</td>\n",
       "      <td>https://www.anrdoezrs.net/click-7990613-35140?...</td>\n",
       "      <td>https://bookshop.org/a/3546/9780316068048</td>\n",
       "      <td>https://www.indiebound.org/book/9780316068048?...</td>\n",
       "    </tr>\n",
       "    <tr>\n",
       "      <th>2</th>\n",
       "      <td>LOVE THE ONE YOU'RE WITH</td>\n",
       "      <td>Hardcover Fiction</td>\n",
       "      <td>WEEKLY</td>\n",
       "      <td>Emily Giffin</td>\n",
       "      <td>3</td>\n",
       "      <td>0312348673</td>\n",
       "      <td>9780312348670</td>\n",
       "      <td>2008-05-24</td>\n",
       "      <td>2008-06-08</td>\n",
       "      <td>St. Martin's</td>\n",
       "      <td>2</td>\n",
       "      <td>http://www.amazon.com/Love-Youre-With-Emily-Gi...</td>\n",
       "      <td>https://du-gae-books-dot-nyt-du-prd.appspot.co...</td>\n",
       "      <td>https://www.anrdoezrs.net/click-7990613-118195...</td>\n",
       "      <td>https://www.anrdoezrs.net/click-7990613-35140?...</td>\n",
       "      <td>https://bookshop.org/a/3546/9780312348670</td>\n",
       "      <td>https://www.indiebound.org/book/9780312348670?...</td>\n",
       "    </tr>\n",
       "    <tr>\n",
       "      <th>3</th>\n",
       "      <td>THE FRONT</td>\n",
       "      <td>Hardcover Fiction</td>\n",
       "      <td>WEEKLY</td>\n",
       "      <td>Patricia Cornwell</td>\n",
       "      <td>4</td>\n",
       "      <td>0399154183</td>\n",
       "      <td>9780399154188</td>\n",
       "      <td>2008-05-24</td>\n",
       "      <td>2008-06-08</td>\n",
       "      <td>Putnam</td>\n",
       "      <td>1</td>\n",
       "      <td>http://www.amazon.com/The-Front-Garano-Patrici...</td>\n",
       "      <td>https://du-gae-books-dot-nyt-du-prd.appspot.co...</td>\n",
       "      <td>https://www.anrdoezrs.net/click-7990613-118195...</td>\n",
       "      <td>https://www.anrdoezrs.net/click-7990613-35140?...</td>\n",
       "      <td>https://bookshop.org/a/3546/9780399154188</td>\n",
       "      <td>https://www.indiebound.org/book/9780399154188?...</td>\n",
       "    </tr>\n",
       "    <tr>\n",
       "      <th>4</th>\n",
       "      <td>SNUFF</td>\n",
       "      <td>Hardcover Fiction</td>\n",
       "      <td>WEEKLY</td>\n",
       "      <td>Chuck Palahniuk</td>\n",
       "      <td>5</td>\n",
       "      <td>0385517882</td>\n",
       "      <td>9780385517881</td>\n",
       "      <td>2008-05-24</td>\n",
       "      <td>2008-06-08</td>\n",
       "      <td>Doubleday</td>\n",
       "      <td>1</td>\n",
       "      <td>http://www.amazon.com/Snuff-Chuck-Palahniuk/dp...</td>\n",
       "      <td>https://du-gae-books-dot-nyt-du-prd.appspot.co...</td>\n",
       "      <td>https://www.anrdoezrs.net/click-7990613-118195...</td>\n",
       "      <td>https://www.anrdoezrs.net/click-7990613-35140?...</td>\n",
       "      <td>https://bookshop.org/a/3546/9780385517881</td>\n",
       "      <td>https://www.indiebound.org/book/9780385517881?...</td>\n",
       "    </tr>\n",
       "  </tbody>\n",
       "</table>\n",
       "</div>"
      ],
      "text/plain": [
       "                      Title          List_Type Update_Interval  \\\n",
       "0                 ODD HOURS  Hardcover Fiction          WEEKLY   \n",
       "1                  THE HOST  Hardcover Fiction          WEEKLY   \n",
       "2  LOVE THE ONE YOU'RE WITH  Hardcover Fiction          WEEKLY   \n",
       "3                 THE FRONT  Hardcover Fiction          WEEKLY   \n",
       "4                     SNUFF  Hardcover Fiction          WEEKLY   \n",
       "\n",
       "              Author  Rank      Isbn10         Isbn13 BestSeller_Date  \\\n",
       "0      Dean R Koontz     1  0553807056  9780553807059      2008-05-24   \n",
       "1    Stephenie Meyer     2  0316068047  9780316068048      2008-05-24   \n",
       "2       Emily Giffin     3  0312348673  9780312348670      2008-05-24   \n",
       "3  Patricia Cornwell     4  0399154183  9780399154188      2008-05-24   \n",
       "4    Chuck Palahniuk     5  0385517882  9780385517881      2008-05-24   \n",
       "\n",
       "  List_Published_Date      Publisher  Weeks_on_List  \\\n",
       "0          2008-06-08         Bantam              1   \n",
       "1          2008-06-08  Little, Brown              3   \n",
       "2          2008-06-08   St. Martin's              2   \n",
       "3          2008-06-08         Putnam              1   \n",
       "4          2008-06-08      Doubleday              1   \n",
       "\n",
       "                                         Amazon_Link  \\\n",
       "0  http://www.amazon.com/Odd-Hours-Dean-Koontz/dp...   \n",
       "1  http://www.amazon.com/The-Host-Novel-Stephenie...   \n",
       "2  http://www.amazon.com/Love-Youre-With-Emily-Gi...   \n",
       "3  http://www.amazon.com/The-Front-Garano-Patrici...   \n",
       "4  http://www.amazon.com/Snuff-Chuck-Palahniuk/dp...   \n",
       "\n",
       "                                    Apple_Books_Link  \\\n",
       "0  https://du-gae-books-dot-nyt-du-prd.appspot.co...   \n",
       "1  https://du-gae-books-dot-nyt-du-prd.appspot.co...   \n",
       "2  https://du-gae-books-dot-nyt-du-prd.appspot.co...   \n",
       "3  https://du-gae-books-dot-nyt-du-prd.appspot.co...   \n",
       "4  https://du-gae-books-dot-nyt-du-prd.appspot.co...   \n",
       "\n",
       "                               Barnes_and_Nobel_Link  \\\n",
       "0  https://www.anrdoezrs.net/click-7990613-118195...   \n",
       "1  https://www.anrdoezrs.net/click-7990613-118195...   \n",
       "2  https://www.anrdoezrs.net/click-7990613-118195...   \n",
       "3  https://www.anrdoezrs.net/click-7990613-118195...   \n",
       "4  https://www.anrdoezrs.net/click-7990613-118195...   \n",
       "\n",
       "                                Books_A_Million_Link  \\\n",
       "0  https://www.anrdoezrs.net/click-7990613-35140?...   \n",
       "1  https://www.anrdoezrs.net/click-7990613-35140?...   \n",
       "2  https://www.anrdoezrs.net/click-7990613-35140?...   \n",
       "3  https://www.anrdoezrs.net/click-7990613-35140?...   \n",
       "4  https://www.anrdoezrs.net/click-7990613-35140?...   \n",
       "\n",
       "                               Bookshop_Link  \\\n",
       "0  https://bookshop.org/a/3546/9780553807059   \n",
       "1  https://bookshop.org/a/3546/9780316068048   \n",
       "2  https://bookshop.org/a/3546/9780312348670   \n",
       "3  https://bookshop.org/a/3546/9780399154188   \n",
       "4  https://bookshop.org/a/3546/9780385517881   \n",
       "\n",
       "                                     IndieBound_Link  \n",
       "0  https://www.indiebound.org/book/9780553807059?...  \n",
       "1  https://www.indiebound.org/book/9780316068048?...  \n",
       "2  https://www.indiebound.org/book/9780312348670?...  \n",
       "3  https://www.indiebound.org/book/9780399154188?...  \n",
       "4  https://www.indiebound.org/book/9780385517881?...  "
      ]
     },
     "execution_count": 3,
     "metadata": {},
     "output_type": "execute_result"
    }
   ],
   "source": [
    "best_sellers.head()"
   ]
  },
  {
   "cell_type": "code",
   "execution_count": 4,
   "metadata": {
    "ExecuteTime": {
     "end_time": "2021-03-22T13:32:55.781127Z",
     "start_time": "2021-03-22T13:32:55.772068Z"
    },
    "scrolled": true
   },
   "outputs": [
    {
     "data": {
      "text/plain": [
       "42791"
      ]
     },
     "execution_count": 4,
     "metadata": {},
     "output_type": "execute_result"
    }
   ],
   "source": [
    "len(best_sellers)"
   ]
  },
  {
   "cell_type": "markdown",
   "metadata": {},
   "source": [
    "### Finding all unique Books"
   ]
  },
  {
   "cell_type": "code",
   "execution_count": 5,
   "metadata": {
    "ExecuteTime": {
     "end_time": "2021-03-22T13:32:57.404359Z",
     "start_time": "2021-03-22T13:32:57.392164Z"
    }
   },
   "outputs": [],
   "source": [
    "uni = best_sellers.Isbn13.unique()"
   ]
  },
  {
   "cell_type": "code",
   "execution_count": 6,
   "metadata": {
    "ExecuteTime": {
     "end_time": "2021-03-22T13:32:58.348713Z",
     "start_time": "2021-03-22T13:32:58.338769Z"
    }
   },
   "outputs": [
    {
     "data": {
      "text/plain": [
       "6761"
      ]
     },
     "execution_count": 6,
     "metadata": {},
     "output_type": "execute_result"
    }
   ],
   "source": [
    "len(uni)"
   ]
  },
  {
   "cell_type": "code",
   "execution_count": 7,
   "metadata": {
    "ExecuteTime": {
     "end_time": "2021-03-22T13:32:59.366857Z",
     "start_time": "2021-03-22T13:32:59.318571Z"
    }
   },
   "outputs": [],
   "source": [
    "removed_dups = best_sellers.drop_duplicates(keep='last',subset='Isbn13')"
   ]
  },
  {
   "cell_type": "code",
   "execution_count": 8,
   "metadata": {
    "ExecuteTime": {
     "end_time": "2021-03-22T13:33:00.163313Z",
     "start_time": "2021-03-22T13:33:00.151227Z"
    }
   },
   "outputs": [
    {
     "data": {
      "text/plain": [
       "6761"
      ]
     },
     "execution_count": 8,
     "metadata": {},
     "output_type": "execute_result"
    }
   ],
   "source": [
    "len(removed_dups)"
   ]
  },
  {
   "cell_type": "code",
   "execution_count": 9,
   "metadata": {
    "ExecuteTime": {
     "end_time": "2021-03-22T13:33:01.419482Z",
     "start_time": "2021-03-22T13:33:01.384752Z"
    },
    "scrolled": false
   },
   "outputs": [
    {
     "data": {
      "text/html": [
       "<div>\n",
       "<style scoped>\n",
       "    .dataframe tbody tr th:only-of-type {\n",
       "        vertical-align: middle;\n",
       "    }\n",
       "\n",
       "    .dataframe tbody tr th {\n",
       "        vertical-align: top;\n",
       "    }\n",
       "\n",
       "    .dataframe thead th {\n",
       "        text-align: right;\n",
       "    }\n",
       "</style>\n",
       "<table border=\"1\" class=\"dataframe\">\n",
       "  <thead>\n",
       "    <tr style=\"text-align: right;\">\n",
       "      <th></th>\n",
       "      <th>Title</th>\n",
       "      <th>List_Type</th>\n",
       "      <th>Update_Interval</th>\n",
       "      <th>Author</th>\n",
       "      <th>Rank</th>\n",
       "      <th>Isbn10</th>\n",
       "      <th>Isbn13</th>\n",
       "      <th>BestSeller_Date</th>\n",
       "      <th>List_Published_Date</th>\n",
       "      <th>Publisher</th>\n",
       "      <th>Weeks_on_List</th>\n",
       "      <th>Amazon_Link</th>\n",
       "      <th>Apple_Books_Link</th>\n",
       "      <th>Barnes_and_Nobel_Link</th>\n",
       "      <th>Books_A_Million_Link</th>\n",
       "      <th>Bookshop_Link</th>\n",
       "      <th>IndieBound_Link</th>\n",
       "    </tr>\n",
       "  </thead>\n",
       "  <tbody>\n",
       "    <tr>\n",
       "      <th>3</th>\n",
       "      <td>THE FRONT</td>\n",
       "      <td>Hardcover Fiction</td>\n",
       "      <td>WEEKLY</td>\n",
       "      <td>Patricia Cornwell</td>\n",
       "      <td>4</td>\n",
       "      <td>0399154183</td>\n",
       "      <td>9780399154188</td>\n",
       "      <td>2008-05-24</td>\n",
       "      <td>2008-06-08</td>\n",
       "      <td>Putnam</td>\n",
       "      <td>1</td>\n",
       "      <td>http://www.amazon.com/The-Front-Garano-Patrici...</td>\n",
       "      <td>https://du-gae-books-dot-nyt-du-prd.appspot.co...</td>\n",
       "      <td>https://www.anrdoezrs.net/click-7990613-118195...</td>\n",
       "      <td>https://www.anrdoezrs.net/click-7990613-35140?...</td>\n",
       "      <td>https://bookshop.org/a/3546/9780399154188</td>\n",
       "      <td>https://www.indiebound.org/book/9780399154188?...</td>\n",
       "    </tr>\n",
       "    <tr>\n",
       "      <th>4</th>\n",
       "      <td>SNUFF</td>\n",
       "      <td>Hardcover Fiction</td>\n",
       "      <td>WEEKLY</td>\n",
       "      <td>Chuck Palahniuk</td>\n",
       "      <td>5</td>\n",
       "      <td>0385517882</td>\n",
       "      <td>9780385517881</td>\n",
       "      <td>2008-05-24</td>\n",
       "      <td>2008-06-08</td>\n",
       "      <td>Doubleday</td>\n",
       "      <td>1</td>\n",
       "      <td>http://www.amazon.com/Snuff-Chuck-Palahniuk/dp...</td>\n",
       "      <td>https://du-gae-books-dot-nyt-du-prd.appspot.co...</td>\n",
       "      <td>https://www.anrdoezrs.net/click-7990613-118195...</td>\n",
       "      <td>https://www.anrdoezrs.net/click-7990613-35140?...</td>\n",
       "      <td>https://bookshop.org/a/3546/9780385517881</td>\n",
       "      <td>https://www.indiebound.org/book/9780385517881?...</td>\n",
       "    </tr>\n",
       "    <tr>\n",
       "      <th>9</th>\n",
       "      <td>THE REVOLUTION</td>\n",
       "      <td>Hardcover Nonfiction</td>\n",
       "      <td>WEEKLY</td>\n",
       "      <td>Ron Paul</td>\n",
       "      <td>5</td>\n",
       "      <td>0446537519</td>\n",
       "      <td>9780446537513</td>\n",
       "      <td>2008-05-24</td>\n",
       "      <td>2008-06-08</td>\n",
       "      <td>Grand Central</td>\n",
       "      <td>5</td>\n",
       "      <td>http://www.amazon.com/The-Revolution-Manifesto...</td>\n",
       "      <td>https://du-gae-books-dot-nyt-du-prd.appspot.co...</td>\n",
       "      <td>https://www.anrdoezrs.net/click-7990613-118195...</td>\n",
       "      <td>https://www.anrdoezrs.net/click-7990613-35140?...</td>\n",
       "      <td>https://bookshop.org/a/3546/9780446537513</td>\n",
       "      <td>https://www.indiebound.org/book/9780446537513?...</td>\n",
       "    </tr>\n",
       "    <tr>\n",
       "      <th>16</th>\n",
       "      <td>THE GOOD GUY</td>\n",
       "      <td>Mass Market Paperback</td>\n",
       "      <td>WEEKLY</td>\n",
       "      <td>Dean R Koontz</td>\n",
       "      <td>2</td>\n",
       "      <td>0553589113</td>\n",
       "      <td>9780553589115</td>\n",
       "      <td>2008-05-24</td>\n",
       "      <td>2008-06-08</td>\n",
       "      <td>Bantam</td>\n",
       "      <td>4</td>\n",
       "      <td>http://www.amazon.com/Warriors-Revenge-Exectio...</td>\n",
       "      <td>https://du-gae-books-dot-nyt-du-prd.appspot.co...</td>\n",
       "      <td>https://www.anrdoezrs.net/click-7990613-118195...</td>\n",
       "      <td>https://www.anrdoezrs.net/click-7990613-35140?...</td>\n",
       "      <td>https://bookshop.org/a/3546/9780553589115</td>\n",
       "      <td>https://www.indiebound.org/book/9780553589115?...</td>\n",
       "    </tr>\n",
       "    <tr>\n",
       "      <th>17</th>\n",
       "      <td>INVISIBLE PREY</td>\n",
       "      <td>Mass Market Paperback</td>\n",
       "      <td>WEEKLY</td>\n",
       "      <td>John Sandford</td>\n",
       "      <td>3</td>\n",
       "      <td>0425221156</td>\n",
       "      <td>9780425221150</td>\n",
       "      <td>2008-05-24</td>\n",
       "      <td>2008-06-08</td>\n",
       "      <td>Berkley</td>\n",
       "      <td>5</td>\n",
       "      <td>http://www.amazon.com/Invisible-Prey-John-Sand...</td>\n",
       "      <td>https://du-gae-books-dot-nyt-du-prd.appspot.co...</td>\n",
       "      <td>https://www.anrdoezrs.net/click-7990613-118195...</td>\n",
       "      <td>https://www.anrdoezrs.net/click-7990613-35140?...</td>\n",
       "      <td>https://bookshop.org/a/3546/9780425221150</td>\n",
       "      <td>https://www.indiebound.org/book/9780425221150?...</td>\n",
       "    </tr>\n",
       "  </tbody>\n",
       "</table>\n",
       "</div>"
      ],
      "text/plain": [
       "             Title              List_Type Update_Interval             Author  \\\n",
       "3        THE FRONT      Hardcover Fiction          WEEKLY  Patricia Cornwell   \n",
       "4            SNUFF      Hardcover Fiction          WEEKLY    Chuck Palahniuk   \n",
       "9   THE REVOLUTION   Hardcover Nonfiction          WEEKLY           Ron Paul   \n",
       "16    THE GOOD GUY  Mass Market Paperback          WEEKLY      Dean R Koontz   \n",
       "17  INVISIBLE PREY  Mass Market Paperback          WEEKLY      John Sandford   \n",
       "\n",
       "    Rank      Isbn10         Isbn13 BestSeller_Date List_Published_Date  \\\n",
       "3      4  0399154183  9780399154188      2008-05-24          2008-06-08   \n",
       "4      5  0385517882  9780385517881      2008-05-24          2008-06-08   \n",
       "9      5  0446537519  9780446537513      2008-05-24          2008-06-08   \n",
       "16     2  0553589113  9780553589115      2008-05-24          2008-06-08   \n",
       "17     3  0425221156  9780425221150      2008-05-24          2008-06-08   \n",
       "\n",
       "        Publisher  Weeks_on_List  \\\n",
       "3          Putnam              1   \n",
       "4       Doubleday              1   \n",
       "9   Grand Central              5   \n",
       "16         Bantam              4   \n",
       "17        Berkley              5   \n",
       "\n",
       "                                          Amazon_Link  \\\n",
       "3   http://www.amazon.com/The-Front-Garano-Patrici...   \n",
       "4   http://www.amazon.com/Snuff-Chuck-Palahniuk/dp...   \n",
       "9   http://www.amazon.com/The-Revolution-Manifesto...   \n",
       "16  http://www.amazon.com/Warriors-Revenge-Exectio...   \n",
       "17  http://www.amazon.com/Invisible-Prey-John-Sand...   \n",
       "\n",
       "                                     Apple_Books_Link  \\\n",
       "3   https://du-gae-books-dot-nyt-du-prd.appspot.co...   \n",
       "4   https://du-gae-books-dot-nyt-du-prd.appspot.co...   \n",
       "9   https://du-gae-books-dot-nyt-du-prd.appspot.co...   \n",
       "16  https://du-gae-books-dot-nyt-du-prd.appspot.co...   \n",
       "17  https://du-gae-books-dot-nyt-du-prd.appspot.co...   \n",
       "\n",
       "                                Barnes_and_Nobel_Link  \\\n",
       "3   https://www.anrdoezrs.net/click-7990613-118195...   \n",
       "4   https://www.anrdoezrs.net/click-7990613-118195...   \n",
       "9   https://www.anrdoezrs.net/click-7990613-118195...   \n",
       "16  https://www.anrdoezrs.net/click-7990613-118195...   \n",
       "17  https://www.anrdoezrs.net/click-7990613-118195...   \n",
       "\n",
       "                                 Books_A_Million_Link  \\\n",
       "3   https://www.anrdoezrs.net/click-7990613-35140?...   \n",
       "4   https://www.anrdoezrs.net/click-7990613-35140?...   \n",
       "9   https://www.anrdoezrs.net/click-7990613-35140?...   \n",
       "16  https://www.anrdoezrs.net/click-7990613-35140?...   \n",
       "17  https://www.anrdoezrs.net/click-7990613-35140?...   \n",
       "\n",
       "                                Bookshop_Link  \\\n",
       "3   https://bookshop.org/a/3546/9780399154188   \n",
       "4   https://bookshop.org/a/3546/9780385517881   \n",
       "9   https://bookshop.org/a/3546/9780446537513   \n",
       "16  https://bookshop.org/a/3546/9780553589115   \n",
       "17  https://bookshop.org/a/3546/9780425221150   \n",
       "\n",
       "                                      IndieBound_Link  \n",
       "3   https://www.indiebound.org/book/9780399154188?...  \n",
       "4   https://www.indiebound.org/book/9780385517881?...  \n",
       "9   https://www.indiebound.org/book/9780446537513?...  \n",
       "16  https://www.indiebound.org/book/9780553589115?...  \n",
       "17  https://www.indiebound.org/book/9780425221150?...  "
      ]
     },
     "execution_count": 9,
     "metadata": {},
     "output_type": "execute_result"
    }
   ],
   "source": [
    "removed_dups.head()"
   ]
  },
  {
   "cell_type": "markdown",
   "metadata": {},
   "source": [
    "### Turning Unique Titiles into list to filter reviews"
   ]
  },
  {
   "cell_type": "code",
   "execution_count": 2,
   "metadata": {
    "ExecuteTime": {
     "end_time": "2021-03-31T18:13:18.291127Z",
     "start_time": "2021-03-31T18:13:18.286430Z"
    }
   },
   "outputs": [],
   "source": [
    "#filtered = list(removed_dups['Title'])\n",
    "#filtered"
   ]
  },
  {
   "cell_type": "markdown",
   "metadata": {},
   "source": [
    "## Review Data"
   ]
  },
  {
   "cell_type": "markdown",
   "metadata": {},
   "source": [
    "### Loading Amazon Review Data"
   ]
  },
  {
   "cell_type": "code",
   "execution_count": 11,
   "metadata": {
    "ExecuteTime": {
     "end_time": "2021-03-22T13:33:04.144064Z",
     "start_time": "2021-03-22T13:33:04.085430Z"
    }
   },
   "outputs": [
    {
     "name": "stdout",
     "output_type": "stream",
     "text": [
      "Read csv with dask:  0.04118919372558594 sec\n"
     ]
    }
   ],
   "source": [
    "path = '../../../Downloads/'                               #<---local directory path where dataset resides\n",
    "filename = 'amazon_reviews_us_Books_v1_00' #<---name of dataset being processed\n",
    "ext = '.tsv'                                 #<---file extension (tab seperated values)\n",
    "\n",
    "cols = ['marketplace',       #<---2 letter country code of review marketplace\n",
    "        'customer_id',       #<---random identifier to aggregate reviews by single author\n",
    "        'review_id',         #<---unique ID of review\n",
    "        'product_id',        #<---unique ID of product to which review pertains\n",
    "        'product_parent',    #<---random identifier to aggregate reviews for same product\n",
    "        'product_title',     #<---product title\n",
    "        'product_category',  #<---product category to group dataset into coherent parts \n",
    "        'star_rating',       #<---1-5 star rating of product\n",
    "        'helpful_votes',     #<---number of helpful votes review received\n",
    "        'total_votes',       #<---total number of votes review received\n",
    "        'vine',              #<---review part of Vine program\n",
    "        'verified_purchase', #<---review of verified purchase\n",
    "        'review_headline',   #<---review title\n",
    "        'review_body',       #<---review text\n",
    "        'review_date']       #<---review date\n",
    "\n",
    "chunksize = 10 ** 6\n",
    "start = time.time()\n",
    "dask_df = dd.read_csv(path+filename+ext,sep='\\t',usecols = cols,dtype={'helpful_votes': 'float64','star_rating': 'object','total_votes': 'float64'})\n",
    "end = time.time()\n",
    "print(\"Read csv with dask: \",(end-start),\"sec\")\n",
    "# df = pd.read_csv(path+filename+ext,\n",
    "#                  sep='\\t',\n",
    "#                  usecols = cols,\n",
    "#                 low_memory=False)\n"
   ]
  },
  {
   "cell_type": "code",
   "execution_count": 12,
   "metadata": {
    "ExecuteTime": {
     "end_time": "2021-03-22T13:33:08.671033Z",
     "start_time": "2021-03-22T13:33:07.245158Z"
    },
    "scrolled": true
   },
   "outputs": [
    {
     "data": {
      "text/html": [
       "<div>\n",
       "<style scoped>\n",
       "    .dataframe tbody tr th:only-of-type {\n",
       "        vertical-align: middle;\n",
       "    }\n",
       "\n",
       "    .dataframe tbody tr th {\n",
       "        vertical-align: top;\n",
       "    }\n",
       "\n",
       "    .dataframe thead th {\n",
       "        text-align: right;\n",
       "    }\n",
       "</style>\n",
       "<table border=\"1\" class=\"dataframe\">\n",
       "  <thead>\n",
       "    <tr style=\"text-align: right;\">\n",
       "      <th></th>\n",
       "      <th>marketplace</th>\n",
       "      <th>customer_id</th>\n",
       "      <th>review_id</th>\n",
       "      <th>product_id</th>\n",
       "      <th>product_parent</th>\n",
       "      <th>product_title</th>\n",
       "      <th>product_category</th>\n",
       "      <th>star_rating</th>\n",
       "      <th>helpful_votes</th>\n",
       "      <th>total_votes</th>\n",
       "      <th>vine</th>\n",
       "      <th>verified_purchase</th>\n",
       "      <th>review_headline</th>\n",
       "      <th>review_body</th>\n",
       "      <th>review_date</th>\n",
       "    </tr>\n",
       "  </thead>\n",
       "  <tbody>\n",
       "    <tr>\n",
       "      <th>0</th>\n",
       "      <td>US</td>\n",
       "      <td>25933450</td>\n",
       "      <td>RJOVP071AVAJO</td>\n",
       "      <td>0439873800</td>\n",
       "      <td>84656342</td>\n",
       "      <td>There Was an Old Lady Who Swallowed a Shell!</td>\n",
       "      <td>Books</td>\n",
       "      <td>5</td>\n",
       "      <td>0.0</td>\n",
       "      <td>0.0</td>\n",
       "      <td>N</td>\n",
       "      <td>Y</td>\n",
       "      <td>Five Stars</td>\n",
       "      <td>I love it and so does my students!</td>\n",
       "      <td>2015-08-31</td>\n",
       "    </tr>\n",
       "    <tr>\n",
       "      <th>1</th>\n",
       "      <td>US</td>\n",
       "      <td>1801372</td>\n",
       "      <td>R1ORGBETCDW3AI</td>\n",
       "      <td>1623953553</td>\n",
       "      <td>729938122</td>\n",
       "      <td>I Saw a Friend</td>\n",
       "      <td>Books</td>\n",
       "      <td>5</td>\n",
       "      <td>0.0</td>\n",
       "      <td>0.0</td>\n",
       "      <td>N</td>\n",
       "      <td>Y</td>\n",
       "      <td>Please buy \"I Saw a Friend\"! Your children wil...</td>\n",
       "      <td>My wife and I ordered 2 books and gave them as...</td>\n",
       "      <td>2015-08-31</td>\n",
       "    </tr>\n",
       "    <tr>\n",
       "      <th>2</th>\n",
       "      <td>US</td>\n",
       "      <td>5782091</td>\n",
       "      <td>R7TNRFQAOUTX5</td>\n",
       "      <td>142151981X</td>\n",
       "      <td>678139048</td>\n",
       "      <td>Black Lagoon, Vol. 6</td>\n",
       "      <td>Books</td>\n",
       "      <td>5</td>\n",
       "      <td>0.0</td>\n",
       "      <td>0.0</td>\n",
       "      <td>N</td>\n",
       "      <td>Y</td>\n",
       "      <td>Shipped fast.</td>\n",
       "      <td>Great book just like all the others in the ser...</td>\n",
       "      <td>2015-08-31</td>\n",
       "    </tr>\n",
       "    <tr>\n",
       "      <th>3</th>\n",
       "      <td>US</td>\n",
       "      <td>32715830</td>\n",
       "      <td>R2GANXKDIFZ6OI</td>\n",
       "      <td>014241543X</td>\n",
       "      <td>712432151</td>\n",
       "      <td>If I Stay</td>\n",
       "      <td>Books</td>\n",
       "      <td>5</td>\n",
       "      <td>0.0</td>\n",
       "      <td>0.0</td>\n",
       "      <td>N</td>\n",
       "      <td>N</td>\n",
       "      <td>Five Stars</td>\n",
       "      <td>So beautiful</td>\n",
       "      <td>2015-08-31</td>\n",
       "    </tr>\n",
       "    <tr>\n",
       "      <th>4</th>\n",
       "      <td>US</td>\n",
       "      <td>14005703</td>\n",
       "      <td>R2NYB6C3R8LVN6</td>\n",
       "      <td>1604600527</td>\n",
       "      <td>800572372</td>\n",
       "      <td>Stars 'N Strips Forever</td>\n",
       "      <td>Books</td>\n",
       "      <td>5</td>\n",
       "      <td>2.0</td>\n",
       "      <td>2.0</td>\n",
       "      <td>N</td>\n",
       "      <td>Y</td>\n",
       "      <td>Five Stars</td>\n",
       "      <td>Enjoyed the author's story and his quilts are ...</td>\n",
       "      <td>2015-08-31</td>\n",
       "    </tr>\n",
       "  </tbody>\n",
       "</table>\n",
       "</div>"
      ],
      "text/plain": [
       "  marketplace  customer_id       review_id  product_id  product_parent  \\\n",
       "0          US     25933450   RJOVP071AVAJO  0439873800        84656342   \n",
       "1          US      1801372  R1ORGBETCDW3AI  1623953553       729938122   \n",
       "2          US      5782091   R7TNRFQAOUTX5  142151981X       678139048   \n",
       "3          US     32715830  R2GANXKDIFZ6OI  014241543X       712432151   \n",
       "4          US     14005703  R2NYB6C3R8LVN6  1604600527       800572372   \n",
       "\n",
       "                                  product_title product_category star_rating  \\\n",
       "0  There Was an Old Lady Who Swallowed a Shell!            Books           5   \n",
       "1                                I Saw a Friend            Books           5   \n",
       "2                          Black Lagoon, Vol. 6            Books           5   \n",
       "3                                     If I Stay            Books           5   \n",
       "4                       Stars 'N Strips Forever            Books           5   \n",
       "\n",
       "   helpful_votes  total_votes vine verified_purchase  \\\n",
       "0            0.0          0.0    N                 Y   \n",
       "1            0.0          0.0    N                 Y   \n",
       "2            0.0          0.0    N                 Y   \n",
       "3            0.0          0.0    N                 N   \n",
       "4            2.0          2.0    N                 Y   \n",
       "\n",
       "                                     review_headline  \\\n",
       "0                                         Five Stars   \n",
       "1  Please buy \"I Saw a Friend\"! Your children wil...   \n",
       "2                                      Shipped fast.   \n",
       "3                                         Five Stars   \n",
       "4                                         Five Stars   \n",
       "\n",
       "                                         review_body review_date  \n",
       "0                 I love it and so does my students!  2015-08-31  \n",
       "1  My wife and I ordered 2 books and gave them as...  2015-08-31  \n",
       "2  Great book just like all the others in the ser...  2015-08-31  \n",
       "3                                       So beautiful  2015-08-31  \n",
       "4  Enjoyed the author's story and his quilts are ...  2015-08-31  "
      ]
     },
     "execution_count": 12,
     "metadata": {},
     "output_type": "execute_result"
    }
   ],
   "source": [
    "dask_df.head()"
   ]
  },
  {
   "cell_type": "markdown",
   "metadata": {},
   "source": [
    "### Cutting Data to only Verified Purchases"
   ]
  },
  {
   "cell_type": "code",
   "execution_count": 13,
   "metadata": {
    "ExecuteTime": {
     "end_time": "2021-03-22T13:33:15.463513Z",
     "start_time": "2021-03-22T13:33:15.431114Z"
    }
   },
   "outputs": [],
   "source": [
    "verified_df = dask_df[dask_df['verified_purchase'] == 'Y']"
   ]
  },
  {
   "cell_type": "code",
   "execution_count": 77,
   "metadata": {
    "ExecuteTime": {
     "end_time": "2021-03-22T13:32:10.906229Z",
     "start_time": "2021-03-22T13:29:10.042357Z"
    }
   },
   "outputs": [
    {
     "name": "stdout",
     "output_type": "stream",
     "text": [
      "7388560\n"
     ]
    }
   ],
   "source": [
    "print(len(verified_df))"
   ]
  },
  {
   "cell_type": "code",
   "execution_count": 2,
   "metadata": {
    "ExecuteTime": {
     "end_time": "2021-03-25T11:32:27.295712Z",
     "start_time": "2021-03-25T11:32:27.290938Z"
    },
    "scrolled": true
   },
   "outputs": [],
   "source": [
    "#verified_df.tail(10)"
   ]
  },
  {
   "cell_type": "markdown",
   "metadata": {},
   "source": [
    "### Removing Unnecessary Columns"
   ]
  },
  {
   "cell_type": "code",
   "execution_count": 15,
   "metadata": {
    "ExecuteTime": {
     "end_time": "2021-03-22T13:33:26.653580Z",
     "start_time": "2021-03-22T13:33:26.647967Z"
    }
   },
   "outputs": [],
   "source": [
    "columns = ['customer_id','review_id','product_id','product_parent','product_category','vine',]"
   ]
  },
  {
   "cell_type": "code",
   "execution_count": 16,
   "metadata": {
    "ExecuteTime": {
     "end_time": "2021-03-22T13:33:29.377296Z",
     "start_time": "2021-03-22T13:33:29.359213Z"
    }
   },
   "outputs": [],
   "source": [
    "slim_verified = verified_df.drop(columns=columns)"
   ]
  },
  {
   "cell_type": "code",
   "execution_count": 3,
   "metadata": {
    "ExecuteTime": {
     "end_time": "2021-03-25T11:33:16.597764Z",
     "start_time": "2021-03-25T11:33:16.593332Z"
    }
   },
   "outputs": [],
   "source": [
    "#slim_verified.head()"
   ]
  },
  {
   "cell_type": "markdown",
   "metadata": {},
   "source": [
    "### Making Titles uniform"
   ]
  },
  {
   "cell_type": "code",
   "execution_count": 18,
   "metadata": {
    "ExecuteTime": {
     "end_time": "2021-03-22T13:33:36.965679Z",
     "start_time": "2021-03-22T13:33:36.945698Z"
    }
   },
   "outputs": [],
   "source": [
    "slim_verified['product_title'] = slim_verified['product_title'].str.upper()"
   ]
  },
  {
   "cell_type": "code",
   "execution_count": 4,
   "metadata": {
    "ExecuteTime": {
     "end_time": "2021-03-25T11:34:40.827882Z",
     "start_time": "2021-03-25T11:34:40.822933Z"
    }
   },
   "outputs": [],
   "source": [
    "#slim_verified.head()"
   ]
  },
  {
   "cell_type": "markdown",
   "metadata": {},
   "source": [
    "### Resetting Index"
   ]
  },
  {
   "cell_type": "code",
   "execution_count": 3,
   "metadata": {
    "ExecuteTime": {
     "end_time": "2021-03-31T18:13:31.487351Z",
     "start_time": "2021-03-31T18:13:31.482714Z"
    }
   },
   "outputs": [],
   "source": [
    "#slim_verified.reset_index(drop=True)"
   ]
  },
  {
   "cell_type": "code",
   "execution_count": 5,
   "metadata": {
    "ExecuteTime": {
     "end_time": "2021-03-25T11:35:14.096470Z",
     "start_time": "2021-03-25T11:35:14.093592Z"
    }
   },
   "outputs": [],
   "source": [
    "#slim_verified.head()"
   ]
  },
  {
   "cell_type": "markdown",
   "metadata": {},
   "source": [
    "### Getting reviews for only possitive class"
   ]
  },
  {
   "cell_type": "code",
   "execution_count": 22,
   "metadata": {
    "ExecuteTime": {
     "end_time": "2021-03-22T13:33:53.681880Z",
     "start_time": "2021-03-22T13:33:53.617761Z"
    }
   },
   "outputs": [],
   "source": [
    "series = slim_verified.product_title.isin(filtered)\n",
    "filtered_df = slim_verified[series]"
   ]
  },
  {
   "cell_type": "code",
   "execution_count": 64,
   "metadata": {
    "ExecuteTime": {
     "end_time": "2021-03-22T11:42:33.849765Z",
     "start_time": "2021-03-22T11:40:03.172379Z"
    },
    "scrolled": true
   },
   "outputs": [
    {
     "data": {
      "text/plain": [
       "153760"
      ]
     },
     "execution_count": 64,
     "metadata": {},
     "output_type": "execute_result"
    }
   ],
   "source": [
    "len(filtered_df)"
   ]
  },
  {
   "cell_type": "markdown",
   "metadata": {},
   "source": [
    "### Changing back to Pandas dataframe"
   ]
  },
  {
   "cell_type": "code",
   "execution_count": 23,
   "metadata": {
    "ExecuteTime": {
     "end_time": "2021-03-22T13:37:02.834691Z",
     "start_time": "2021-03-22T13:34:02.007366Z"
    }
   },
   "outputs": [],
   "source": [
    "filtered_df = filtered_df.compute()"
   ]
  },
  {
   "cell_type": "code",
   "execution_count": 24,
   "metadata": {
    "ExecuteTime": {
     "end_time": "2021-03-22T14:14:55.876631Z",
     "start_time": "2021-03-22T14:14:55.821285Z"
    },
    "scrolled": true
   },
   "outputs": [
    {
     "data": {
      "text/plain": [
       "pandas.core.frame.DataFrame"
      ]
     },
     "execution_count": 24,
     "metadata": {},
     "output_type": "execute_result"
    }
   ],
   "source": [
    "type(filtered_df)"
   ]
  },
  {
   "cell_type": "markdown",
   "metadata": {},
   "source": [
    "### Saving Data"
   ]
  },
  {
   "cell_type": "code",
   "execution_count": 26,
   "metadata": {
    "ExecuteTime": {
     "end_time": "2021-03-22T14:19:49.098516Z",
     "start_time": "2021-03-22T14:19:47.039921Z"
    }
   },
   "outputs": [],
   "source": [
    "filtered_df.to_csv(r'./possitive_case.csv')\n"
   ]
  },
  {
   "cell_type": "markdown",
   "metadata": {},
   "source": [
    "## Getting Negative Class reviews"
   ]
  },
  {
   "cell_type": "code",
   "execution_count": 27,
   "metadata": {
    "ExecuteTime": {
     "end_time": "2021-03-22T14:20:15.296544Z",
     "start_time": "2021-03-22T14:20:15.223719Z"
    }
   },
   "outputs": [],
   "source": [
    "inverse_series = ~slim_verified.product_title.isin(filtered)\n",
    "inverse_df = slim_verified[inverse_series]\n"
   ]
  },
  {
   "cell_type": "code",
   "execution_count": 28,
   "metadata": {
    "ExecuteTime": {
     "end_time": "2021-03-22T14:23:37.395249Z",
     "start_time": "2021-03-22T14:20:42.939225Z"
    }
   },
   "outputs": [
    {
     "data": {
      "text/plain": [
       "7234800"
      ]
     },
     "execution_count": 28,
     "metadata": {},
     "output_type": "execute_result"
    }
   ],
   "source": [
    "len(inverse_df)"
   ]
  },
  {
   "cell_type": "code",
   "execution_count": 29,
   "metadata": {
    "ExecuteTime": {
     "end_time": "2021-03-22T16:20:11.980294Z",
     "start_time": "2021-03-22T16:20:11.949370Z"
    },
    "scrolled": true
   },
   "outputs": [
    {
     "data": {
      "text/plain": [
       "dask.dataframe.core.DataFrame"
      ]
     },
     "execution_count": 29,
     "metadata": {},
     "output_type": "execute_result"
    }
   ],
   "source": [
    "type(inverse_df)"
   ]
  },
  {
   "cell_type": "code",
   "execution_count": 30,
   "metadata": {
    "ExecuteTime": {
     "end_time": "2021-03-22T16:20:52.118475Z",
     "start_time": "2021-03-22T16:20:51.901593Z"
    }
   },
   "outputs": [
    {
     "data": {
      "text/html": [
       "<div><strong>Dask DataFrame Structure:</strong></div>\n",
       "<div>\n",
       "<style scoped>\n",
       "    .dataframe tbody tr th:only-of-type {\n",
       "        vertical-align: middle;\n",
       "    }\n",
       "\n",
       "    .dataframe tbody tr th {\n",
       "        vertical-align: top;\n",
       "    }\n",
       "\n",
       "    .dataframe thead th {\n",
       "        text-align: right;\n",
       "    }\n",
       "</style>\n",
       "<table border=\"1\" class=\"dataframe\">\n",
       "  <thead>\n",
       "    <tr style=\"text-align: right;\">\n",
       "      <th></th>\n",
       "      <th>marketplace</th>\n",
       "      <th>product_title</th>\n",
       "      <th>star_rating</th>\n",
       "      <th>helpful_votes</th>\n",
       "      <th>total_votes</th>\n",
       "      <th>verified_purchase</th>\n",
       "      <th>review_headline</th>\n",
       "      <th>review_body</th>\n",
       "      <th>review_date</th>\n",
       "    </tr>\n",
       "    <tr>\n",
       "      <th>npartitions=105</th>\n",
       "      <th></th>\n",
       "      <th></th>\n",
       "      <th></th>\n",
       "      <th></th>\n",
       "      <th></th>\n",
       "      <th></th>\n",
       "      <th></th>\n",
       "      <th></th>\n",
       "      <th></th>\n",
       "    </tr>\n",
       "  </thead>\n",
       "  <tbody>\n",
       "    <tr>\n",
       "      <th></th>\n",
       "      <td>object</td>\n",
       "      <td>object</td>\n",
       "      <td>object</td>\n",
       "      <td>float64</td>\n",
       "      <td>float64</td>\n",
       "      <td>object</td>\n",
       "      <td>object</td>\n",
       "      <td>object</td>\n",
       "      <td>object</td>\n",
       "    </tr>\n",
       "    <tr>\n",
       "      <th></th>\n",
       "      <td>...</td>\n",
       "      <td>...</td>\n",
       "      <td>...</td>\n",
       "      <td>...</td>\n",
       "      <td>...</td>\n",
       "      <td>...</td>\n",
       "      <td>...</td>\n",
       "      <td>...</td>\n",
       "      <td>...</td>\n",
       "    </tr>\n",
       "    <tr>\n",
       "      <th>...</th>\n",
       "      <td>...</td>\n",
       "      <td>...</td>\n",
       "      <td>...</td>\n",
       "      <td>...</td>\n",
       "      <td>...</td>\n",
       "      <td>...</td>\n",
       "      <td>...</td>\n",
       "      <td>...</td>\n",
       "      <td>...</td>\n",
       "    </tr>\n",
       "    <tr>\n",
       "      <th></th>\n",
       "      <td>...</td>\n",
       "      <td>...</td>\n",
       "      <td>...</td>\n",
       "      <td>...</td>\n",
       "      <td>...</td>\n",
       "      <td>...</td>\n",
       "      <td>...</td>\n",
       "      <td>...</td>\n",
       "      <td>...</td>\n",
       "    </tr>\n",
       "    <tr>\n",
       "      <th></th>\n",
       "      <td>...</td>\n",
       "      <td>...</td>\n",
       "      <td>...</td>\n",
       "      <td>...</td>\n",
       "      <td>...</td>\n",
       "      <td>...</td>\n",
       "      <td>...</td>\n",
       "      <td>...</td>\n",
       "      <td>...</td>\n",
       "    </tr>\n",
       "  </tbody>\n",
       "</table>\n",
       "</div>\n",
       "<div>Dask Name: getitem, 1261 tasks</div>"
      ],
      "text/plain": [
       "Dask DataFrame Structure:\n",
       "                marketplace product_title star_rating helpful_votes total_votes verified_purchase review_headline review_body review_date\n",
       "npartitions=105                                                                                                                          \n",
       "                     object        object      object       float64     float64            object          object      object      object\n",
       "                        ...           ...         ...           ...         ...               ...             ...         ...         ...\n",
       "...                     ...           ...         ...           ...         ...               ...             ...         ...         ...\n",
       "                        ...           ...         ...           ...         ...               ...             ...         ...         ...\n",
       "                        ...           ...         ...           ...         ...               ...             ...         ...         ...\n",
       "Dask Name: getitem, 1261 tasks"
      ]
     },
     "execution_count": 30,
     "metadata": {},
     "output_type": "execute_result"
    }
   ],
   "source": [
    "inverse_df.repartition(npartitions=inverse_df.npartitions)"
   ]
  },
  {
   "cell_type": "code",
   "execution_count": 31,
   "metadata": {
    "ExecuteTime": {
     "end_time": "2021-03-22T16:23:40.869249Z",
     "start_time": "2021-03-22T16:21:22.303681Z"
    }
   },
   "outputs": [
    {
     "data": {
      "text/plain": [
       "7234800"
      ]
     },
     "execution_count": 31,
     "metadata": {},
     "output_type": "execute_result"
    }
   ],
   "source": [
    "len(inverse_df)"
   ]
  },
  {
   "cell_type": "code",
   "execution_count": 32,
   "metadata": {
    "ExecuteTime": {
     "end_time": "2021-03-22T16:24:26.918079Z",
     "start_time": "2021-03-22T16:24:26.910941Z"
    }
   },
   "outputs": [],
   "source": [
    "neg_df = inverse_df.repartition(npartitions=inverse_df.npartitions)"
   ]
  },
  {
   "cell_type": "code",
   "execution_count": 33,
   "metadata": {
    "ExecuteTime": {
     "end_time": "2021-03-22T16:26:50.339872Z",
     "start_time": "2021-03-22T16:24:39.474707Z"
    }
   },
   "outputs": [
    {
     "data": {
      "text/plain": [
       "7234800"
      ]
     },
     "execution_count": 33,
     "metadata": {},
     "output_type": "execute_result"
    }
   ],
   "source": [
    "len(neg_df)"
   ]
  },
  {
   "cell_type": "code",
   "execution_count": 34,
   "metadata": {
    "ExecuteTime": {
     "end_time": "2021-03-22T16:31:25.521442Z",
     "start_time": "2021-03-22T16:31:25.471922Z"
    }
   },
   "outputs": [],
   "source": [
    "inverse_df['Status'] = 0"
   ]
  },
  {
   "cell_type": "code",
   "execution_count": 6,
   "metadata": {
    "ExecuteTime": {
     "end_time": "2021-03-25T11:39:36.487892Z",
     "start_time": "2021-03-25T11:39:36.475117Z"
    }
   },
   "outputs": [],
   "source": [
    "#inverse_df.head()"
   ]
  },
  {
   "cell_type": "code",
   "execution_count": 37,
   "metadata": {
    "ExecuteTime": {
     "end_time": "2021-03-22T16:32:37.848826Z",
     "start_time": "2021-03-22T16:32:37.840546Z"
    },
    "scrolled": true
   },
   "outputs": [
    {
     "data": {
      "text/plain": [
       "105"
      ]
     },
     "execution_count": 37,
     "metadata": {},
     "output_type": "execute_result"
    }
   ],
   "source": [
    "inverse_df.npartitions"
   ]
  },
  {
   "cell_type": "markdown",
   "metadata": {},
   "source": [
    "### Cutting the data down to match Possitive class"
   ]
  },
  {
   "cell_type": "code",
   "execution_count": 95,
   "metadata": {
    "ExecuteTime": {
     "end_time": "2021-03-22T16:52:11.278991Z",
     "start_time": "2021-03-22T16:52:11.272936Z"
    }
   },
   "outputs": [],
   "source": [
    "neg_df = inverse_df.partitions[::59]"
   ]
  },
  {
   "cell_type": "code",
   "execution_count": 96,
   "metadata": {
    "ExecuteTime": {
     "end_time": "2021-03-22T16:52:15.621572Z",
     "start_time": "2021-03-22T16:52:12.584065Z"
    }
   },
   "outputs": [
    {
     "data": {
      "text/plain": [
       "157551"
      ]
     },
     "execution_count": 96,
     "metadata": {},
     "output_type": "execute_result"
    }
   ],
   "source": [
    "len(neg_df)"
   ]
  },
  {
   "cell_type": "code",
   "execution_count": 97,
   "metadata": {
    "ExecuteTime": {
     "end_time": "2021-03-22T16:52:20.720497Z",
     "start_time": "2021-03-22T16:52:20.706202Z"
    }
   },
   "outputs": [
    {
     "data": {
      "text/plain": [
       "2"
      ]
     },
     "execution_count": 97,
     "metadata": {},
     "output_type": "execute_result"
    }
   ],
   "source": [
    "neg_df.npartitions"
   ]
  },
  {
   "cell_type": "code",
   "execution_count": 7,
   "metadata": {
    "ExecuteTime": {
     "end_time": "2021-03-25T11:40:16.716673Z",
     "start_time": "2021-03-25T11:40:16.709440Z"
    }
   },
   "outputs": [],
   "source": [
    "#neg_df.head()"
   ]
  },
  {
   "cell_type": "code",
   "execution_count": 99,
   "metadata": {
    "ExecuteTime": {
     "end_time": "2021-03-22T16:52:24.159426Z",
     "start_time": "2021-03-22T16:52:24.146311Z"
    }
   },
   "outputs": [],
   "source": [
    "neg_df = neg_df.reset_index(drop=True)"
   ]
  },
  {
   "cell_type": "code",
   "execution_count": 8,
   "metadata": {
    "ExecuteTime": {
     "end_time": "2021-03-25T11:40:24.966339Z",
     "start_time": "2021-03-25T11:40:24.962891Z"
    }
   },
   "outputs": [],
   "source": [
    "#neg_df.head()"
   ]
  },
  {
   "cell_type": "code",
   "execution_count": 101,
   "metadata": {
    "ExecuteTime": {
     "end_time": "2021-03-22T16:52:47.575402Z",
     "start_time": "2021-03-22T16:52:44.574121Z"
    }
   },
   "outputs": [],
   "source": [
    "neg_df = neg_df.compute()"
   ]
  },
  {
   "cell_type": "code",
   "execution_count": 102,
   "metadata": {
    "ExecuteTime": {
     "end_time": "2021-03-22T16:52:53.660837Z",
     "start_time": "2021-03-22T16:52:53.651568Z"
    },
    "scrolled": true
   },
   "outputs": [
    {
     "data": {
      "text/plain": [
       "pandas.core.frame.DataFrame"
      ]
     },
     "execution_count": 102,
     "metadata": {},
     "output_type": "execute_result"
    }
   ],
   "source": [
    "type(neg_df)"
   ]
  },
  {
   "cell_type": "markdown",
   "metadata": {},
   "source": [
    "### Saving Data"
   ]
  },
  {
   "cell_type": "code",
   "execution_count": 103,
   "metadata": {
    "ExecuteTime": {
     "end_time": "2021-03-22T16:53:33.624305Z",
     "start_time": "2021-03-22T16:53:31.591289Z"
    }
   },
   "outputs": [],
   "source": [
    "neg_df.to_csv(r'./negative_case.csv')"
   ]
  },
  {
   "cell_type": "code",
   "execution_count": null,
   "metadata": {},
   "outputs": [],
   "source": []
  }
 ],
 "metadata": {
  "kernelspec": {
   "display_name": "learn-env",
   "language": "python",
   "name": "learn-env"
  },
  "language_info": {
   "codemirror_mode": {
    "name": "ipython",
    "version": 3
   },
   "file_extension": ".py",
   "mimetype": "text/x-python",
   "name": "python",
   "nbconvert_exporter": "python",
   "pygments_lexer": "ipython3",
   "version": "3.6.13"
  },
  "toc": {
   "base_numbering": 1,
   "nav_menu": {},
   "number_sections": true,
   "sideBar": true,
   "skip_h1_title": false,
   "title_cell": "Table of Contents",
   "title_sidebar": "Contents",
   "toc_cell": false,
   "toc_position": {},
   "toc_section_display": true,
   "toc_window_display": false
  }
 },
 "nbformat": 4,
 "nbformat_minor": 4
}
