{
 "cells": [
  {
   "cell_type": "code",
   "execution_count": 5,
   "metadata": {
    "ExecuteTime": {
     "end_time": "2021-03-14T18:29:18.903574Z",
     "start_time": "2021-03-14T18:29:16.747623Z"
    }
   },
   "outputs": [],
   "source": [
    "import requests \n",
    "from bs4 import BeautifulSoup\n",
    "import numpy as np\n",
    "import pandas as pd\n",
    "from time import sleep\n",
    "from random import randint\n",
    "import datetime\n",
    "import pdb\n",
    "import re\n",
    "import os\n",
    "import json\n",
    "import time\n",
    "import datetime\n",
    "import dateutil\n",
    "from dateutil.relativedelta import relativedelta\n"
   ]
  },
  {
   "cell_type": "code",
   "execution_count": null,
   "metadata": {},
   "outputs": [],
   "source": [
    "dateutil.parser.parse()"
   ]
  },
  {
   "cell_type": "code",
   "execution_count": 6,
   "metadata": {
    "ExecuteTime": {
     "end_time": "2021-03-14T18:29:22.521967Z",
     "start_time": "2021-03-14T18:29:22.511987Z"
    }
   },
   "outputs": [],
   "source": [
    "start_date = datetime.date(2010,1,1)\n",
    "end_date = datetime.date(2021,3,1)\n",
    "def send_request(date):\n",
    "    headers = {'Accept-Language': 'en-US,en;q=0.5'}\n",
    "    api_key = '8H770iyWiY9GaSuw2eULzJjGZVKw73AF'\n",
    "    base_url = 'https://api.nytimes.com/svc/books/v3/lists/overview.json?published_date='\n",
    "    url = base_url +str(start_date)+'&api-key='+api_key+'&ref_=adv_nxt'\n",
    "    response = requests.get(url, headers=headers).json()\n",
    "    time.sleep(randint(2,10))\n",
    "    return response\n",
    "    return response"
   ]
  },
  {
   "cell_type": "code",
   "execution_count": 7,
   "metadata": {
    "ExecuteTime": {
     "end_time": "2021-03-14T18:29:26.944871Z",
     "start_time": "2021-03-14T18:29:23.930116Z"
    }
   },
   "outputs": [],
   "source": [
    "responce = send_request(start_date)\n"
   ]
  },
  {
   "cell_type": "code",
   "execution_count": 33,
   "metadata": {
    "ExecuteTime": {
     "end_time": "2021-03-14T22:11:53.508010Z",
     "start_time": "2021-03-14T22:11:53.496011Z"
    }
   },
   "outputs": [
    {
     "data": {
      "text/plain": [
       "dict_keys(['status', 'copyright', 'num_results', 'results'])"
      ]
     },
     "execution_count": 33,
     "metadata": {},
     "output_type": "execute_result"
    }
   ],
   "source": [
    "responce.keys()\n"
   ]
  },
  {
   "cell_type": "code",
   "execution_count": 57,
   "metadata": {
    "ExecuteTime": {
     "end_time": "2021-03-15T01:35:48.106171Z",
     "start_time": "2021-03-15T01:35:48.100482Z"
    }
   },
   "outputs": [],
   "source": [
    "results = responce['results']"
   ]
  },
  {
   "cell_type": "code",
   "execution_count": 58,
   "metadata": {
    "ExecuteTime": {
     "end_time": "2021-03-15T01:36:03.243782Z",
     "start_time": "2021-03-15T01:36:03.231471Z"
    }
   },
   "outputs": [
    {
     "data": {
      "text/plain": [
       "dict_keys(['bestsellers_date', 'published_date', 'published_date_description', 'previous_published_date', 'next_published_date', 'lists'])"
      ]
     },
     "execution_count": 58,
     "metadata": {},
     "output_type": "execute_result"
    }
   ],
   "source": [
    "results.keys()"
   ]
  },
  {
   "cell_type": "code",
   "execution_count": 8,
   "metadata": {
    "ExecuteTime": {
     "end_time": "2021-03-14T18:29:28.090118Z",
     "start_time": "2021-03-14T18:29:28.084180Z"
    }
   },
   "outputs": [],
   "source": [
    "lists = responce['results']['lists']\n"
   ]
  },
  {
   "cell_type": "code",
   "execution_count": 159,
   "metadata": {
    "ExecuteTime": {
     "end_time": "2021-03-08T18:06:52.341597Z",
     "start_time": "2021-03-08T18:06:52.334783Z"
    }
   },
   "outputs": [
    {
     "data": {
      "text/plain": [
       "14"
      ]
     },
     "execution_count": 159,
     "metadata": {},
     "output_type": "execute_result"
    }
   ],
   "source": [
    "len(lists)\n"
   ]
  },
  {
   "cell_type": "code",
   "execution_count": 9,
   "metadata": {
    "ExecuteTime": {
     "end_time": "2021-03-14T18:29:35.122833Z",
     "start_time": "2021-03-14T18:29:35.113311Z"
    }
   },
   "outputs": [],
   "source": [
    "first_list = lists[0]\n"
   ]
  },
  {
   "cell_type": "code",
   "execution_count": 31,
   "metadata": {
    "ExecuteTime": {
     "end_time": "2021-03-14T22:10:58.106594Z",
     "start_time": "2021-03-14T22:10:58.077733Z"
    }
   },
   "outputs": [
    {
     "data": {
      "text/plain": [
       "dict_keys(['list_id', 'list_name', 'list_name_encoded', 'display_name', 'updated', 'list_image', 'list_image_width', 'list_image_height', 'books'])"
      ]
     },
     "execution_count": 31,
     "metadata": {},
     "output_type": "execute_result"
    }
   ],
   "source": [
    "first_list.keys()\n"
   ]
  },
  {
   "cell_type": "code",
   "execution_count": 64,
   "metadata": {
    "ExecuteTime": {
     "end_time": "2021-03-15T01:44:35.313334Z",
     "start_time": "2021-03-15T01:44:35.306717Z"
    }
   },
   "outputs": [
    {
     "data": {
      "text/plain": [
       "'WEEKLY'"
      ]
     },
     "execution_count": 64,
     "metadata": {},
     "output_type": "execute_result"
    }
   ],
   "source": [
    "first_list['updated']"
   ]
  },
  {
   "cell_type": "code",
   "execution_count": 70,
   "metadata": {
    "ExecuteTime": {
     "end_time": "2021-03-15T01:48:39.675615Z",
     "start_time": "2021-03-15T01:48:39.672137Z"
    }
   },
   "outputs": [],
   "source": [
    "books = first_list['books']\n"
   ]
  },
  {
   "cell_type": "code",
   "execution_count": 72,
   "metadata": {
    "ExecuteTime": {
     "end_time": "2021-03-15T01:49:02.819794Z",
     "start_time": "2021-03-15T01:49:02.811403Z"
    }
   },
   "outputs": [
    {
     "data": {
      "text/plain": [
       "dict_keys(['age_group', 'amazon_product_url', 'article_chapter_link', 'author', 'book_image', 'book_image_width', 'book_image_height', 'book_review_link', 'contributor', 'contributor_note', 'created_date', 'description', 'first_chapter_link', 'price', 'primary_isbn10', 'primary_isbn13', 'book_uri', 'publisher', 'rank', 'rank_last_week', 'sunday_review_link', 'title', 'updated_date', 'weeks_on_list', 'buy_links'])"
      ]
     },
     "execution_count": 72,
     "metadata": {},
     "output_type": "execute_result"
    }
   ],
   "source": [
    "books[0].keys()"
   ]
  },
  {
   "cell_type": "code",
   "execution_count": 91,
   "metadata": {
    "ExecuteTime": {
     "end_time": "2021-03-15T02:17:17.882170Z",
     "start_time": "2021-03-15T02:17:17.868335Z"
    },
    "scrolled": true
   },
   "outputs": [],
   "source": [
    "#books[0]\n"
   ]
  },
  {
   "cell_type": "code",
   "execution_count": 102,
   "metadata": {
    "ExecuteTime": {
     "end_time": "2021-03-15T02:22:15.672937Z",
     "start_time": "2021-03-15T02:22:15.597978Z"
    },
    "scrolled": false
   },
   "outputs": [],
   "source": [
    "def parse_response(response):\n",
    "    '''Parses and returns response as pandas data frame.'''\n",
    "    data = {\n",
    "        'Title':[],\n",
    "        'List_Type': [], \n",
    "        'Update_Interval': [],\n",
    "        'Author': [],\n",
    "        'Rank':[],\n",
    "        'Isbn10': [],\n",
    "        'Isbn13': [],\n",
    "        'BestSeller_Date':[],\n",
    "        'List_Published_Date':[],\n",
    "        'Publisher':[],\n",
    "        'Weeks_on_List':[],\n",
    "        'Amazon_Link':[],\n",
    "        'Apple_Books_Link':[],\n",
    "        'Barnes_and_Nobel_Link':[],\n",
    "        'Books_A_Million_Link':[],\n",
    "        'Bookshop_Link':[],\n",
    "        'IndieBound_Link':[],\n",
    "        }\n",
    "    status = response['status']\n",
    "    if status == 'OK':\n",
    "        lists = response['results']['lists']\n",
    "        date = dateutil.parser.parse(response['results']['published_date'])\n",
    "        sell_date = dateutil.parser.parse(response['results']['bestsellers_date'])\n",
    "        for lis in lists: \n",
    "            #this_list = list[lis]\n",
    "            for book in lis['books']:\n",
    "                data['Title'].append(book['title'])\n",
    "                data['Author'].append(book['author'])\n",
    "                data['Rank'].append(book['rank'])\n",
    "                data['Isbn10'].append(book['primary_isbn10'])\n",
    "                data['Isbn13'].append(book['primary_isbn13'])\n",
    "                data['Publisher'].append(book['publisher'])\n",
    "                data['Weeks_on_List'].append(book['weeks_on_list'])\n",
    "                data['List_Type'].append(lis['list_name'])\n",
    "                data['Update_Interval'].append(lis['updated'])\n",
    "                data['List_Published_Date'].append(date)\n",
    "                data['BestSeller_Date'].append(sell_date)\n",
    "                data['Amazon_Link'].append(book['buy_links'][0]['url'])\n",
    "                data['Apple_Books_Link'].append(book['buy_links'][1]['url'])\n",
    "                data['Barnes_and_Nobel_Link'].append(book['buy_links'][2]['url'])\n",
    "                data['Books_A_Million_Link'].append(book['buy_links'][3]['url'])\n",
    "                data['Bookshop_Link'].append(book['buy_links'][4]['url'])\n",
    "                data['IndieBound_Link'].append(book['buy_links'][5]['url'])\n",
    "    NYT_Data = pd.DataFrame(data) \n",
    "    pd.to\n",
    "    print(\"DONE\")\n",
    "    return NYT_Data\n",
    "               "
   ]
  },
  {
   "cell_type": "code",
   "execution_count": 104,
   "metadata": {
    "ExecuteTime": {
     "end_time": "2021-03-15T02:22:40.435622Z",
     "start_time": "2021-03-15T02:22:40.431508Z"
    }
   },
   "outputs": [],
   "source": [
    "#parse_response(send_request(start_date))"
   ]
  },
  {
   "cell_type": "code",
   "execution_count": 105,
   "metadata": {
    "ExecuteTime": {
     "end_time": "2021-03-15T02:22:44.234846Z",
     "start_time": "2021-03-15T02:22:44.216189Z"
    }
   },
   "outputs": [
    {
     "ename": "NameError",
     "evalue": "name 'NYT_Data' is not defined",
     "output_type": "error",
     "traceback": [
      "\u001b[0;31m---------------------------------------------------------------------------\u001b[0m",
      "\u001b[0;31mNameError\u001b[0m                                 Traceback (most recent call last)",
      "\u001b[0;32m<ipython-input-105-53e0d7fe4476>\u001b[0m in \u001b[0;36m<module>\u001b[0;34m()\u001b[0m\n\u001b[0;32m----> 1\u001b[0;31m \u001b[0mNYT_Data\u001b[0m\u001b[0;34m\u001b[0m\u001b[0;34m\u001b[0m\u001b[0m\n\u001b[0m",
      "\u001b[0;31mNameError\u001b[0m: name 'NYT_Data' is not defined"
     ]
    }
   ],
   "source": [
    "#NYT_Data"
   ]
  },
  {
   "cell_type": "code",
   "execution_count": 17,
   "metadata": {
    "ExecuteTime": {
     "end_time": "2021-03-14T21:58:50.135111Z",
     "start_time": "2021-03-14T21:58:50.120947Z"
    }
   },
   "outputs": [],
   "source": [
    "# url='https://api.nytimes.com/svc/books/v3/lists/overview.json?published_date='\n",
    "# def get_api_calls(url):\n",
    "#     try:\n",
    "#         start_date = str(datetime.date(2010,1,1))\n",
    "#         end_date = str(datetime.date(2020,12,31))\n",
    "#         delta = datetime.timedelta(days=1)\n",
    "#         api_key='8H770iyWiY9GaSuw2eULzJjGZVKw73AF'\n",
    "#         headers = {'Accept-Language': 'en-US,en;q=0.5'}\n",
    "#         while start_date <= end_date:\n",
    "#             df = pd.DataFrame()\n",
    "#             r = requests.get(url+start_date+'&api-key='+ api_key + '&ref_=adv_nxt', headers=headers)\n",
    "#             sleep(randint(2,10))\n",
    "#             x = r.json()\n",
    "#             x_df = pd.DataFrame(x['results'])\n",
    "#             if x_df.shape[0] == 0:\n",
    "#                 start_date += delta\n",
    "#                 r = requests.get(url+start_date+'&api-key='+ api_key + '&ref_=adv_nxt', headers=headers)\n",
    "#                 sleep(randint(2,10))\n",
    "#                 x = r.json()\n",
    "#                 x_df = pd.DataFrame(x['results'])\n",
    "#             if df.shape[0] == 0:\n",
    "#                 df = pd.concat([df,x_df])\n",
    "#             elif df['published_date'].iloc[-1] == x_df['published_date'].iloc[1]:\n",
    "#                 continue\n",
    "#             else:\n",
    "#                 df = pd.concat([df,x_df])\n",
    "#                 start_date += delta\n",
    "#         return df\n",
    "#     except IndexError as e: print(e)"
   ]
  },
  {
   "cell_type": "code",
   "execution_count": null,
   "metadata": {},
   "outputs": [],
   "source": []
  },
  {
   "cell_type": "code",
   "execution_count": null,
   "metadata": {},
   "outputs": [],
   "source": []
  }
 ],
 "metadata": {
  "kernelspec": {
   "display_name": "learn-env",
   "language": "python",
   "name": "learn-env"
  },
  "language_info": {
   "codemirror_mode": {
    "name": "ipython",
    "version": 3
   },
   "file_extension": ".py",
   "mimetype": "text/x-python",
   "name": "python",
   "nbconvert_exporter": "python",
   "pygments_lexer": "ipython3",
   "version": "3.6.9"
  },
  "toc": {
   "base_numbering": 1,
   "nav_menu": {},
   "number_sections": true,
   "sideBar": true,
   "skip_h1_title": false,
   "title_cell": "Table of Contents",
   "title_sidebar": "Contents",
   "toc_cell": false,
   "toc_position": {},
   "toc_section_display": true,
   "toc_window_display": false
  }
 },
 "nbformat": 4,
 "nbformat_minor": 4
}
