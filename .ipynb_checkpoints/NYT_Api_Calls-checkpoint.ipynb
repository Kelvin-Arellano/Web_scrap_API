{
 "cells": [
  {
   "cell_type": "code",
   "execution_count": 640,
   "metadata": {
    "ExecuteTime": {
     "end_time": "2021-03-17T19:04:12.693167Z",
     "start_time": "2021-03-17T19:04:12.590802Z"
    }
   },
   "outputs": [],
   "source": [
    "import requests \n",
    "from bs4 import BeautifulSoup\n",
    "import numpy as np\n",
    "import pandas as pd\n",
    "from time import sleep\n",
    "from random import randint\n",
    "import datetime\n",
    "import pdb\n",
    "import re\n",
    "import os\n",
    "import json\n",
    "import time\n",
    "import datetime\n",
    "from pathlib import Path\n",
    "import pickle\n",
    "import dateutil\n",
    "from selenium import webdriver\n",
    "import lxml\n",
    "from dateutil.relativedelta import relativedelta\n",
    "import time\n",
    "import random\n",
    "from os import system\n",
    "from math import floor\n",
    "from copy import deepcopy\n",
    "from selenium.webdriver.common.by import By\n",
    "from selenium.webdriver.common.keys import Keys\n",
    "from selenium.common.exceptions import TimeoutException\n",
    "from selenium.webdriver.support.ui import WebDriverWait\n",
    "from selenium.webdriver.support import expected_conditions as EC\n"
   ]
  },
  {
   "cell_type": "code",
   "execution_count": 299,
   "metadata": {
    "ExecuteTime": {
     "end_time": "2021-03-16T20:41:55.209419Z",
     "start_time": "2021-03-16T20:41:55.181022Z"
    }
   },
   "outputs": [],
   "source": [
    "def send_request(date):\n",
    "    bad_list=[]\n",
    "    try:\n",
    "        headers = {'Accept-Language': 'en-US,en;q=0.5'}\n",
    "        api_key = 'zRJXJxjyXQ4wICf08bZbSFmyPpeNAoVW'\n",
    "        base_url = 'https://api.nytimes.com/svc/books/v3/lists/overview.json?published_date='\n",
    "        url = base_url +date+'&api-key='+api_key+'&ref_=adv_nxt'\n",
    "        response = requests.get(url, headers=headers).json()\n",
    "        NYT_DATA = parse_response(response)\n",
    "        time.sleep(randint(6,10))\n",
    "        return NYT_DATA\n",
    "    except KeyError as e:\n",
    "        bad_list.append(response)\n",
    "        print(bad_list)\n",
    "        print(e)"
   ]
  },
  {
   "cell_type": "code",
   "execution_count": 300,
   "metadata": {
    "ExecuteTime": {
     "end_time": "2021-03-16T20:41:56.328388Z",
     "start_time": "2021-03-16T20:41:56.156825Z"
    }
   },
   "outputs": [],
   "source": [
    "def parse_response(response):\n",
    "    '''Parses and returns response as pandas data frame.'''\n",
    "    data = {\n",
    "        'Title':[],\n",
    "        'List_Type': [], \n",
    "        'Update_Interval': [],\n",
    "        'Author': [],\n",
    "        'Rank':[],\n",
    "        'Isbn10': [],\n",
    "        'Isbn13': [],\n",
    "        'BestSeller_Date':[],\n",
    "        'List_Published_Date':[],\n",
    "        'Publisher':[],\n",
    "        'Weeks_on_List':[],\n",
    "        'Amazon_Link':[],\n",
    "        'Apple_Books_Link':[],\n",
    "        'Barnes_and_Nobel_Link':[],\n",
    "        'Books_A_Million_Link':[],\n",
    "        'Bookshop_Link':[],\n",
    "        'IndieBound_Link':[],\n",
    "        }\n",
    "    status = response['status']\n",
    "    if status == 'OK':\n",
    "        lists = response['results']['lists']\n",
    "        pub_date = dateutil.parser.parse(response['results']['published_date'])\n",
    "        sell_date = dateutil.parser.parse(response['results']['bestsellers_date'])\n",
    "        for lis in lists: \n",
    "            #this_list = list[lis]\n",
    "            for book in lis['books']:\n",
    "                data['Title'].append(book['title'])\n",
    "                data['Author'].append(book['author'])\n",
    "                data['Rank'].append(book['rank'])\n",
    "                data['Isbn10'].append(book['primary_isbn10'])\n",
    "                data['Isbn13'].append(book['primary_isbn13'])\n",
    "                data['Publisher'].append(book['publisher'])\n",
    "                data['Weeks_on_List'].append(book['weeks_on_list'])\n",
    "                data['List_Type'].append(lis['list_name'])\n",
    "                data['Update_Interval'].append(lis['updated'])\n",
    "                data['List_Published_Date'].append(pub_date)\n",
    "                data['BestSeller_Date'].append(sell_date)\n",
    "                data['Amazon_Link'].append(book['buy_links'][0]['url'])\n",
    "                data['Apple_Books_Link'].append(book['buy_links'][1]['url'])\n",
    "                data['Barnes_and_Nobel_Link'].append(book['buy_links'][2]['url'])\n",
    "                data['Books_A_Million_Link'].append(book['buy_links'][3]['url'])\n",
    "                data['Bookshop_Link'].append(book['buy_links'][4]['url'])\n",
    "                data['IndieBound_Link'].append(book['buy_links'][5]['url'])\n",
    "    NYT_Data = pd.DataFrame(data) \n",
    "    #pd.to\n",
    "    return NYT_Data\n",
    "               "
   ]
  },
  {
   "cell_type": "code",
   "execution_count": 317,
   "metadata": {
    "ExecuteTime": {
     "end_time": "2021-03-16T22:00:46.442915Z",
     "start_time": "2021-03-16T22:00:46.375162Z"
    }
   },
   "outputs": [],
   "source": [
    "def get_full_data(date):\n",
    "    #inputing date to start loop\n",
    "    full_data = []\n",
    "    bad_dates =[]\n",
    "    for date in weeks_in_range:\n",
    "        try:\n",
    "            \n",
    "            #loop will continue until start_date is equal to end_date\n",
    "            #setting start and end_dates\n",
    "            new_request = send_request(date[0]+'-'+date[1]+'-'+date[2])\n",
    "            full_data.append(new_request)\n",
    "            print(date)\n",
    "        \n",
    "        except KeyError as e:\n",
    "            bad_dates.append(date)\n",
    "    return full_data"
   ]
  },
  {
   "cell_type": "code",
   "execution_count": 315,
   "metadata": {
    "ExecuteTime": {
     "end_time": "2021-03-16T22:00:26.478982Z",
     "start_time": "2021-03-16T22:00:26.322581Z"
    }
   },
   "outputs": [],
   "source": [
    "weeks_in_range = [x.split(' ') for x in pd.date_range(first_end_date, end_date, freq='W').strftime(\"%Y %m %d\").tolist()]"
   ]
  },
  {
   "cell_type": "code",
   "execution_count": 320,
   "metadata": {
    "ExecuteTime": {
     "end_time": "2021-03-16T22:07:38.897938Z",
     "start_time": "2021-03-16T22:07:38.850282Z"
    }
   },
   "outputs": [],
   "source": [
    "#weeks_in_range"
   ]
  },
  {
   "cell_type": "code",
   "execution_count": 293,
   "metadata": {
    "ExecuteTime": {
     "end_time": "2021-03-16T20:40:12.297572Z",
     "start_time": "2021-03-16T20:40:12.283248Z"
    }
   },
   "outputs": [],
   "source": [
    "#start_date =datetime.date(2010,1,1)\n",
    "end_date = datetime.date(2021,3,14)\n",
    "first_end_date = datetime.date(2016,10,30)"
   ]
  },
  {
   "cell_type": "code",
   "execution_count": 260,
   "metadata": {
    "ExecuteTime": {
     "end_time": "2021-03-16T20:20:52.083475Z",
     "start_time": "2021-03-16T20:20:52.078741Z"
    }
   },
   "outputs": [],
   "source": [
    "#first_weeks_in_range = [x.split(' ') for x in pd.date_range(start_date, first_end_date, freq=\"W\").strftime(\"%Y %-m %d\").tolist()]"
   ]
  },
  {
   "cell_type": "code",
   "execution_count": 289,
   "metadata": {
    "ExecuteTime": {
     "end_time": "2021-03-16T20:36:50.007315Z",
     "start_time": "2021-03-16T20:36:49.982202Z"
    }
   },
   "outputs": [],
   "source": [
    "#two_weeks_in_range = [x.split(' ') for x in pd.date_range(start_date, end_date, freq=\"W\").strftime(\"%Y %m %d\").tolist()]"
   ]
  },
  {
   "cell_type": "code",
   "execution_count": 322,
   "metadata": {
    "ExecuteTime": {
     "end_time": "2021-03-16T22:42:24.344013Z",
     "start_time": "2021-03-16T22:42:24.297996Z"
    },
    "scrolled": false
   },
   "outputs": [],
   "source": [
    "#y = get_full_data(first_end_date)"
   ]
  },
  {
   "cell_type": "code",
   "execution_count": 340,
   "metadata": {
    "ExecuteTime": {
     "end_time": "2021-03-17T02:32:56.868972Z",
     "start_time": "2021-03-17T02:32:56.852812Z"
    }
   },
   "outputs": [],
   "source": [
    "#len(x)"
   ]
  },
  {
   "cell_type": "code",
   "execution_count": 341,
   "metadata": {
    "ExecuteTime": {
     "end_time": "2021-03-17T02:32:58.195743Z",
     "start_time": "2021-03-17T02:32:58.191385Z"
    }
   },
   "outputs": [],
   "source": [
    "#len(y)"
   ]
  },
  {
   "cell_type": "code",
   "execution_count": 342,
   "metadata": {
    "ExecuteTime": {
     "end_time": "2021-03-17T02:32:58.956793Z",
     "start_time": "2021-03-17T02:32:58.953651Z"
    }
   },
   "outputs": [],
   "source": [
    "#x.extend(y)"
   ]
  },
  {
   "cell_type": "code",
   "execution_count": 343,
   "metadata": {
    "ExecuteTime": {
     "end_time": "2021-03-17T02:33:00.071637Z",
     "start_time": "2021-03-17T02:33:00.066542Z"
    }
   },
   "outputs": [],
   "source": [
    "#len(x)"
   ]
  },
  {
   "cell_type": "code",
   "execution_count": 344,
   "metadata": {
    "ExecuteTime": {
     "end_time": "2021-03-17T02:33:39.575752Z",
     "start_time": "2021-03-17T02:33:39.569714Z"
    }
   },
   "outputs": [],
   "source": [
    "#pd.to_pickle(x,'./NYT_API_CALL.pkl','zip')"
   ]
  },
  {
   "cell_type": "code",
   "execution_count": 345,
   "metadata": {
    "ExecuteTime": {
     "end_time": "2021-03-17T02:33:43.005577Z",
     "start_time": "2021-03-17T02:33:43.001851Z"
    }
   },
   "outputs": [],
   "source": [
    "#pd.read_pickle('./NYT_API_CALL.pkl','zip')"
   ]
  },
  {
   "cell_type": "code",
   "execution_count": 1,
   "metadata": {
    "ExecuteTime": {
     "end_time": "2021-03-15T11:20:22.677839Z",
     "start_time": "2021-03-15T11:20:22.672901Z"
    }
   },
   "outputs": [],
   "source": [
    "#NYT_Data"
   ]
  },
  {
   "cell_type": "code",
   "execution_count": 17,
   "metadata": {
    "ExecuteTime": {
     "end_time": "2021-03-14T21:58:50.135111Z",
     "start_time": "2021-03-14T21:58:50.120947Z"
    }
   },
   "outputs": [],
   "source": [
    "# url='https://api.nytimes.com/svc/books/v3/lists/overview.json?published_date='\n",
    "# def get_api_calls(url):\n",
    "#     try:\n",
    "#         start_date = str(datetime.date(2010,1,1))\n",
    "#         end_date = str(datetime.date(2020,12,31))\n",
    "#         delta = datetime.timedelta(days=1)\n",
    "#         api_key='8H770iyWiY9GaSuw2eULzJjGZVKw73AF'\n",
    "#         headers = {'Accept-Language': 'en-US,en;q=0.5'}\n",
    "#         while start_date <= end_date:\n",
    "#             df = pd.DataFrame()\n",
    "#             r = requests.get(url+start_date+'&api-key='+ api_key + '&ref_=adv_nxt', headers=headers)\n",
    "#             sleep(randint(2,10))\n",
    "#             x = r.json()\n",
    "#             x_df = pd.DataFrame(x['results'])\n",
    "#             if x_df.shape[0] == 0:\n",
    "#                 start_date += delta\n",
    "#                 r = requests.get(url+start_date+'&api-key='+ api_key + '&ref_=adv_nxt', headers=headers)\n",
    "#                 sleep(randint(2,10))\n",
    "#                 x = r.json()\n",
    "#                 x_df = pd.DataFrame(x['results'])\n",
    "#             if df.shape[0] == 0:\n",
    "#                 df = pd.concat([df,x_df])\n",
    "#             elif df['published_date'].iloc[-1] == x_df['published_date'].iloc[1]:\n",
    "#                 continue\n",
    "#             else:\n",
    "#                 df = pd.concat([df,x_df])\n",
    "#                 start_date += delta\n",
    "#         return df\n",
    "#     except IndexError as e: print(e)"
   ]
  },
  {
   "cell_type": "code",
   "execution_count": 624,
   "metadata": {
    "ExecuteTime": {
     "end_time": "2021-03-17T16:08:42.239922Z",
     "start_time": "2021-03-17T16:08:37.746647Z"
    }
   },
   "outputs": [],
   "source": [
    "#path for chrome driver\n",
    "DRIVER_PATH = str(Path('chromedriver').resolve())\n",
    "driver=webdriver.Chrome()"
   ]
  },
  {
   "cell_type": "code",
   "execution_count": 625,
   "metadata": {
    "ExecuteTime": {
     "end_time": "2021-03-17T16:08:58.447958Z",
     "start_time": "2021-03-17T16:08:54.025160Z"
    }
   },
   "outputs": [],
   "source": [
    "driver.get('http://www.amazon.com/The-Lost-Symbol-Featuring-Langdon-ebook/dp/B002KQ6BT6?tag=NYTBSREV-20')\n",
    "#driver.quit()"
   ]
  },
  {
   "cell_type": "code",
   "execution_count": 644,
   "metadata": {
    "ExecuteTime": {
     "end_time": "2021-03-17T19:56:19.243768Z",
     "start_time": "2021-03-17T19:56:19.215888Z"
    }
   },
   "outputs": [],
   "source": [
    "#x[0]['Amazon_Link'][0]\n",
    "# def join_scrapes(list1,list2):\n",
    "\n",
    "\n",
    "# x_y = x[0] \n",
    "# # x_y.keys()\n",
    "# # for val in x_y['Amazon_Link']:\n",
    "# #     for item in val.split(' '):\n",
    "# #         print(item)\n",
    "def get_reviews(df):\n",
    "    reviews = []\n",
    "    bad_links = []\n",
    "    for link in df['Amazon_Link']:\n",
    "            driver = webdriver.Chrome()\n",
    "            driver.get(link)\n",
    "            time.sleep(randint(2,10)/10)\n",
    "            try:\n",
    "                x = WebDriverWait(driver, 10).until(EC.presence_of_element_located((By.ID, \"cm-cr-dp-review-list\")))\n",
    "                q = [i.text for i in x.find_elements_by_class_name('review-text')]\n",
    "                reviews.append(q)\n",
    "finally:\n",
    "    driver.quit()\n",
    "            x = driver.find_element_by_id('cm-cr-dp-review-list')\n",
    "            q = [i.text for i in x.find_elements_by_class_name('review-text')]\n",
    "            reviews.append(q)\n",
    "            driver.quit()\n",
    "        except 'error':\n",
    "            bad_links.append(link)\n",
    "            \n",
    "    return reviews, bad_links\n",
    "# reviews= []\n",
    "# driver = web.chrome\n",
    "# for url in urls:\n",
    "#     driver.get(url)\n",
    "#     time.sleep([random.choice])\n",
    "#     x = driver.find_element_by_id('cm-cr-dp-review-list')\n",
    "#     q = [i.text for i in x.find_elements_by_class_name('review-text')]\n",
    "#     reviews.append(q)\n",
    "# list(zip(urls,reviews))\n",
    "# time.sleep(random.choice([x/10 for x in range(8,14)]))"
   ]
  },
  {
   "cell_type": "code",
   "execution_count": 646,
   "metadata": {
    "ExecuteTime": {
     "end_time": "2021-03-17T20:38:17.982573Z",
     "start_time": "2021-03-17T20:27:05.210478Z"
    }
   },
   "outputs": [
    {
     "ename": "TypeError",
     "evalue": "catching classes that do not inherit from BaseException is not allowed",
     "output_type": "error",
     "traceback": [
      "\u001b[0;31m---------------------------------------------------------------------------\u001b[0m",
      "\u001b[0;31mNoSuchElementException\u001b[0m                    Traceback (most recent call last)",
      "\u001b[0;32m<ipython-input-644-4126472e36ea>\u001b[0m in \u001b[0;36mget_reviews\u001b[0;34m(df)\u001b[0m\n\u001b[1;32m     17\u001b[0m             \u001b[0mtime\u001b[0m\u001b[0;34m.\u001b[0m\u001b[0msleep\u001b[0m\u001b[0;34m(\u001b[0m\u001b[0mrandint\u001b[0m\u001b[0;34m(\u001b[0m\u001b[0;36m2\u001b[0m\u001b[0;34m,\u001b[0m\u001b[0;36m10\u001b[0m\u001b[0;34m)\u001b[0m\u001b[0;34m/\u001b[0m\u001b[0;36m10\u001b[0m\u001b[0;34m)\u001b[0m\u001b[0;34m\u001b[0m\u001b[0;34m\u001b[0m\u001b[0m\n\u001b[0;32m---> 18\u001b[0;31m             \u001b[0mx\u001b[0m \u001b[0;34m=\u001b[0m \u001b[0mdriver\u001b[0m\u001b[0;34m.\u001b[0m\u001b[0mfind_element_by_id\u001b[0m\u001b[0;34m(\u001b[0m\u001b[0;34m'cm-cr-dp-review-list'\u001b[0m\u001b[0;34m)\u001b[0m\u001b[0;34m\u001b[0m\u001b[0;34m\u001b[0m\u001b[0m\n\u001b[0m\u001b[1;32m     19\u001b[0m             \u001b[0mq\u001b[0m \u001b[0;34m=\u001b[0m \u001b[0;34m[\u001b[0m\u001b[0mi\u001b[0m\u001b[0;34m.\u001b[0m\u001b[0mtext\u001b[0m \u001b[0;32mfor\u001b[0m \u001b[0mi\u001b[0m \u001b[0;32min\u001b[0m \u001b[0mx\u001b[0m\u001b[0;34m.\u001b[0m\u001b[0mfind_elements_by_class_name\u001b[0m\u001b[0;34m(\u001b[0m\u001b[0;34m'review-text'\u001b[0m\u001b[0;34m)\u001b[0m\u001b[0;34m]\u001b[0m\u001b[0;34m\u001b[0m\u001b[0;34m\u001b[0m\u001b[0m\n",
      "\u001b[0;32m/Users/kelvinarellano/opt/anaconda3/envs/learn-env/lib/python3.6/site-packages/selenium/webdriver/remote/webdriver.py\u001b[0m in \u001b[0;36mfind_element_by_id\u001b[0;34m(self, id_)\u001b[0m\n\u001b[1;32m    359\u001b[0m         \"\"\"\n\u001b[0;32m--> 360\u001b[0;31m         \u001b[0;32mreturn\u001b[0m \u001b[0mself\u001b[0m\u001b[0;34m.\u001b[0m\u001b[0mfind_element\u001b[0m\u001b[0;34m(\u001b[0m\u001b[0mby\u001b[0m\u001b[0;34m=\u001b[0m\u001b[0mBy\u001b[0m\u001b[0;34m.\u001b[0m\u001b[0mID\u001b[0m\u001b[0;34m,\u001b[0m \u001b[0mvalue\u001b[0m\u001b[0;34m=\u001b[0m\u001b[0mid_\u001b[0m\u001b[0;34m)\u001b[0m\u001b[0;34m\u001b[0m\u001b[0;34m\u001b[0m\u001b[0m\n\u001b[0m\u001b[1;32m    361\u001b[0m \u001b[0;34m\u001b[0m\u001b[0m\n",
      "\u001b[0;32m/Users/kelvinarellano/opt/anaconda3/envs/learn-env/lib/python3.6/site-packages/selenium/webdriver/remote/webdriver.py\u001b[0m in \u001b[0;36mfind_element\u001b[0;34m(self, by, value)\u001b[0m\n\u001b[1;32m    977\u001b[0m             \u001b[0;34m'using'\u001b[0m\u001b[0;34m:\u001b[0m \u001b[0mby\u001b[0m\u001b[0;34m,\u001b[0m\u001b[0;34m\u001b[0m\u001b[0;34m\u001b[0m\u001b[0m\n\u001b[0;32m--> 978\u001b[0;31m             'value': value})['value']\n\u001b[0m\u001b[1;32m    979\u001b[0m \u001b[0;34m\u001b[0m\u001b[0m\n",
      "\u001b[0;32m/Users/kelvinarellano/opt/anaconda3/envs/learn-env/lib/python3.6/site-packages/selenium/webdriver/remote/webdriver.py\u001b[0m in \u001b[0;36mexecute\u001b[0;34m(self, driver_command, params)\u001b[0m\n\u001b[1;32m    320\u001b[0m         \u001b[0;32mif\u001b[0m \u001b[0mresponse\u001b[0m\u001b[0;34m:\u001b[0m\u001b[0;34m\u001b[0m\u001b[0;34m\u001b[0m\u001b[0m\n\u001b[0;32m--> 321\u001b[0;31m             \u001b[0mself\u001b[0m\u001b[0;34m.\u001b[0m\u001b[0merror_handler\u001b[0m\u001b[0;34m.\u001b[0m\u001b[0mcheck_response\u001b[0m\u001b[0;34m(\u001b[0m\u001b[0mresponse\u001b[0m\u001b[0;34m)\u001b[0m\u001b[0;34m\u001b[0m\u001b[0;34m\u001b[0m\u001b[0m\n\u001b[0m\u001b[1;32m    322\u001b[0m             response['value'] = self._unwrap_value(\n",
      "\u001b[0;32m/Users/kelvinarellano/opt/anaconda3/envs/learn-env/lib/python3.6/site-packages/selenium/webdriver/remote/errorhandler.py\u001b[0m in \u001b[0;36mcheck_response\u001b[0;34m(self, response)\u001b[0m\n\u001b[1;32m    241\u001b[0m             \u001b[0;32mraise\u001b[0m \u001b[0mexception_class\u001b[0m\u001b[0;34m(\u001b[0m\u001b[0mmessage\u001b[0m\u001b[0;34m,\u001b[0m \u001b[0mscreen\u001b[0m\u001b[0;34m,\u001b[0m \u001b[0mstacktrace\u001b[0m\u001b[0;34m,\u001b[0m \u001b[0malert_text\u001b[0m\u001b[0;34m)\u001b[0m\u001b[0;34m\u001b[0m\u001b[0;34m\u001b[0m\u001b[0m\n\u001b[0;32m--> 242\u001b[0;31m         \u001b[0;32mraise\u001b[0m \u001b[0mexception_class\u001b[0m\u001b[0;34m(\u001b[0m\u001b[0mmessage\u001b[0m\u001b[0;34m,\u001b[0m \u001b[0mscreen\u001b[0m\u001b[0;34m,\u001b[0m \u001b[0mstacktrace\u001b[0m\u001b[0;34m)\u001b[0m\u001b[0;34m\u001b[0m\u001b[0;34m\u001b[0m\u001b[0m\n\u001b[0m\u001b[1;32m    243\u001b[0m \u001b[0;34m\u001b[0m\u001b[0m\n",
      "\u001b[0;31mNoSuchElementException\u001b[0m: Message: no such element: Unable to locate element: {\"method\":\"css selector\",\"selector\":\"[id=\"cm-cr-dp-review-list\"]\"}\n  (Session info: chrome=89.0.4389.90)\n",
      "\nDuring handling of the above exception, another exception occurred:\n",
      "\u001b[0;31mTypeError\u001b[0m                                 Traceback (most recent call last)",
      "\u001b[0;32m<ipython-input-646-66abe2edff8d>\u001b[0m in \u001b[0;36m<module>\u001b[0;34m()\u001b[0m\n\u001b[0;32m----> 1\u001b[0;31m \u001b[0ma_links\u001b[0m \u001b[0;34m=\u001b[0m \u001b[0mget_reviews\u001b[0m\u001b[0;34m(\u001b[0m\u001b[0mnew\u001b[0m\u001b[0;34m)\u001b[0m\u001b[0;34m\u001b[0m\u001b[0;34m\u001b[0m\u001b[0m\n\u001b[0m",
      "\u001b[0;32m<ipython-input-644-4126472e36ea>\u001b[0m in \u001b[0;36mget_reviews\u001b[0;34m(df)\u001b[0m\n\u001b[1;32m     20\u001b[0m             \u001b[0mreviews\u001b[0m\u001b[0;34m.\u001b[0m\u001b[0mappend\u001b[0m\u001b[0;34m(\u001b[0m\u001b[0mq\u001b[0m\u001b[0;34m)\u001b[0m\u001b[0;34m\u001b[0m\u001b[0;34m\u001b[0m\u001b[0m\n\u001b[1;32m     21\u001b[0m             \u001b[0mdriver\u001b[0m\u001b[0;34m.\u001b[0m\u001b[0mquit\u001b[0m\u001b[0;34m(\u001b[0m\u001b[0;34m)\u001b[0m\u001b[0;34m\u001b[0m\u001b[0;34m\u001b[0m\u001b[0m\n\u001b[0;32m---> 22\u001b[0;31m         \u001b[0;32mexcept\u001b[0m \u001b[0;34m'error'\u001b[0m\u001b[0;34m:\u001b[0m\u001b[0;34m\u001b[0m\u001b[0;34m\u001b[0m\u001b[0m\n\u001b[0m\u001b[1;32m     23\u001b[0m             \u001b[0mbad_links\u001b[0m\u001b[0;34m.\u001b[0m\u001b[0mappend\u001b[0m\u001b[0;34m(\u001b[0m\u001b[0mlink\u001b[0m\u001b[0;34m)\u001b[0m\u001b[0;34m\u001b[0m\u001b[0;34m\u001b[0m\u001b[0m\n\u001b[1;32m     24\u001b[0m \u001b[0;34m\u001b[0m\u001b[0m\n",
      "\u001b[0;31mTypeError\u001b[0m: catching classes that do not inherit from BaseException is not allowed"
     ]
    }
   ],
   "source": [
    "a_links = get_reviews(new)"
   ]
  },
  {
   "cell_type": "code",
   "execution_count": 604,
   "metadata": {
    "ExecuteTime": {
     "end_time": "2021-03-17T15:48:28.097775Z",
     "start_time": "2021-03-17T15:48:26.304502Z"
    }
   },
   "outputs": [],
   "source": [
    "new = pd.concat(x)"
   ]
  },
  {
   "cell_type": "code",
   "execution_count": 606,
   "metadata": {
    "ExecuteTime": {
     "end_time": "2021-03-17T15:49:30.664049Z",
     "start_time": "2021-03-17T15:49:29.528536Z"
    }
   },
   "outputs": [],
   "source": [
    "#pd.to_pickle(new,'./NYT_DF.pkl','zip')"
   ]
  },
  {
   "cell_type": "code",
   "execution_count": 608,
   "metadata": {
    "ExecuteTime": {
     "end_time": "2021-03-17T15:52:01.319835Z",
     "start_time": "2021-03-17T15:52:01.315815Z"
    }
   },
   "outputs": [],
   "source": [
    "#pd.read_pickle('./NYT_DF.pkl','zip')"
   ]
  },
  {
   "cell_type": "code",
   "execution_count": 638,
   "metadata": {
    "ExecuteTime": {
     "end_time": "2021-03-17T18:39:46.574267Z",
     "start_time": "2021-03-17T18:39:46.522759Z"
    }
   },
   "outputs": [
    {
     "data": {
      "text/plain": [
       "0     http://www.amazon.com/The-Lost-Symbol-Featurin...\n",
       "1     http://www.amazon.com/I-Alex-Cross-James-Patte...\n",
       "2     http://www.amazon.com/Under-Dome-Novel-Stephen...\n",
       "3     http://www.amazon.com/The-Help-Kathryn-Stocket...\n",
       "4     http://www.amazon.com/U-Undertow-Kinsey-Millho...\n",
       "                            ...                        \n",
       "85    http://www.amazon.com/We-Were-Liars-E-Lockhart...\n",
       "86    https://www.amazon.com/They-Both-Die-at-End/dp...\n",
       "87    https://www.amazon.com/Good-Girls-Guide-Murder...\n",
       "88    http://www.amazon.com/Six-Crows-Leigh-Bardugo/...\n",
       "89    http://www.amazon.com/The-Book-Thief-Markus-Zu...\n",
       "Name: Amazon_Link, Length: 67310, dtype: object"
      ]
     },
     "execution_count": 638,
     "metadata": {},
     "output_type": "execute_result"
    }
   ],
   "source": [
    "new['Amazon_Link']"
   ]
  },
  {
   "cell_type": "code",
   "execution_count": 534,
   "metadata": {
    "ExecuteTime": {
     "end_time": "2021-03-17T05:00:09.813305Z",
     "start_time": "2021-03-17T05:00:09.622886Z"
    }
   },
   "outputs": [],
   "source": [
    "headers = ({'User-Agent':'Mozilla/5.0 (X11; Linux x86_64) AppleWebKit/537.36(KHTML, like Gecko)Chrome/44.0.2403.157 Safari/537.36', \n",
    "            'Accept-Language': 'en-US, en;q=0.5'})\n",
    "\n",
    "response = requests.get(url=link,headers=headers)\n",
    "soup = BeautifulSoup(response.content, \"lxml\")"
   ]
  },
  {
   "cell_type": "code",
   "execution_count": 539,
   "metadata": {
    "ExecuteTime": {
     "end_time": "2021-03-17T05:11:39.919726Z",
     "start_time": "2021-03-17T05:11:39.914434Z"
    }
   },
   "outputs": [],
   "source": [
    "editorial_review = soup.find(\"div\",attrs={'class':\"a-expander-content reviewText review-text-content a-expander-partial-collapse-content a-expander-content-expanded\"})"
   ]
  },
  {
   "cell_type": "code",
   "execution_count": 540,
   "metadata": {
    "ExecuteTime": {
     "end_time": "2021-03-17T05:11:40.446949Z",
     "start_time": "2021-03-17T05:11:40.432670Z"
    }
   },
   "outputs": [
    {
     "ename": "AttributeError",
     "evalue": "'NoneType' object has no attribute 'string'",
     "output_type": "error",
     "traceback": [
      "\u001b[0;31m---------------------------------------------------------------------------\u001b[0m",
      "\u001b[0;31mAttributeError\u001b[0m                            Traceback (most recent call last)",
      "\u001b[0;32m<ipython-input-540-22fbd3ba46bb>\u001b[0m in \u001b[0;36m<module>\u001b[0;34m()\u001b[0m\n\u001b[0;32m----> 1\u001b[0;31m \u001b[0meditorial_review\u001b[0m\u001b[0;34m.\u001b[0m\u001b[0mstring\u001b[0m\u001b[0;34m\u001b[0m\u001b[0;34m\u001b[0m\u001b[0m\n\u001b[0m",
      "\u001b[0;31mAttributeError\u001b[0m: 'NoneType' object has no attribute 'string'"
     ]
    }
   ],
   "source": [
    "editorial_review.string"
   ]
  },
  {
   "cell_type": "code",
   "execution_count": null,
   "metadata": {},
   "outputs": [],
   "source": []
  }
 ],
 "metadata": {
  "kernelspec": {
   "display_name": "learn-env",
   "language": "python",
   "name": "learn-env"
  },
  "language_info": {
   "codemirror_mode": {
    "name": "ipython",
    "version": 3
   },
   "file_extension": ".py",
   "mimetype": "text/x-python",
   "name": "python",
   "nbconvert_exporter": "python",
   "pygments_lexer": "ipython3",
   "version": "3.6.13"
  },
  "toc": {
   "base_numbering": 1,
   "nav_menu": {},
   "number_sections": true,
   "sideBar": true,
   "skip_h1_title": false,
   "title_cell": "Table of Contents",
   "title_sidebar": "Contents",
   "toc_cell": false,
   "toc_position": {},
   "toc_section_display": true,
   "toc_window_display": false
  }
 },
 "nbformat": 4,
 "nbformat_minor": 4
}
