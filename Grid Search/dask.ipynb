{
 "cells": [
  {
   "cell_type": "code",
   "execution_count": 77,
   "id": "partial-indication",
   "metadata": {
    "ExecuteTime": {
     "end_time": "2021-03-24T20:00:09.186606Z",
     "start_time": "2021-03-24T19:59:48.894820Z"
    }
   },
   "outputs": [],
   "source": [
    "from dask_ml.model_selection import HyperbandSearchCV\n",
    "from dask_ml.wrappers import ParallelPostFit\n",
    "from dask.distributed import Client\n",
    "from sklearn.pipeline import Pipeline\n",
    "from sklearn.feature_extraction.text import TfidfTransformer\n",
    "from sklearn.model_selection import GridSearchCV\n",
    "import joblib\n",
    "from sklearn.svm import SVC\n",
    "from dask import dataframe as dd\n",
    "from sklearn.feature_extraction.text import TfidfVectorizer\n",
    "from sklearn.linear_model import LogisticRegression\n",
    "from sklearn.metrics import classification_report\n",
    "from sklearn.metrics import confusion_matrix\n",
    "import re\n",
    "from nltk.stem import WordNetLemmatizer\n",
    "import time\n",
    "import numpy as np\n",
    "import pandas as pd\n",
    "import matplotlib.pyplot as plt\n",
    "import seaborn as sns\n",
    "from sklearn.model_selection import train_test_split\n",
    "from ray.util.joblib import register_ray  \n"
   ]
  },
  {
   "cell_type": "code",
   "execution_count": 54,
   "id": "suspended-seeker",
   "metadata": {
    "ExecuteTime": {
     "end_time": "2021-03-24T13:20:24.183605Z",
     "start_time": "2021-03-24T13:20:20.934142Z"
    },
    "scrolled": true
   },
   "outputs": [],
   "source": [
    "pos = pd.read_csv('./data/possitive_case.csv')\n",
    "neg = pd.read_csv('./data/negative_case.csv')"
   ]
  },
  {
   "cell_type": "code",
   "execution_count": 55,
   "id": "recorded-drunk",
   "metadata": {
    "ExecuteTime": {
     "end_time": "2021-03-24T13:20:27.144714Z",
     "start_time": "2021-03-24T13:20:27.129887Z"
    }
   },
   "outputs": [],
   "source": [
    "neg_columns = ['Unnamed: 0','marketplace','star_rating','helpful_votes','total_votes','verified_purchase','review_headline','review_date','product_title']"
   ]
  },
  {
   "cell_type": "code",
   "execution_count": 56,
   "id": "signal-inquiry",
   "metadata": {
    "ExecuteTime": {
     "end_time": "2021-03-24T13:20:36.068858Z",
     "start_time": "2021-03-24T13:20:36.030558Z"
    }
   },
   "outputs": [],
   "source": [
    "neg_reviews_df = neg.drop(columns=neg_columns)"
   ]
  },
  {
   "cell_type": "code",
   "execution_count": 57,
   "id": "hourly-yemen",
   "metadata": {
    "ExecuteTime": {
     "end_time": "2021-03-24T13:20:37.341988Z",
     "start_time": "2021-03-24T13:20:37.319163Z"
    }
   },
   "outputs": [],
   "source": [
    "pos['Status'] = 1"
   ]
  },
  {
   "cell_type": "code",
   "execution_count": 58,
   "id": "revised-interference",
   "metadata": {
    "ExecuteTime": {
     "end_time": "2021-03-24T13:20:44.216482Z",
     "start_time": "2021-03-24T13:20:44.182004Z"
    }
   },
   "outputs": [],
   "source": [
    "pos_reviews_df = pos.drop(columns=neg_columns)"
   ]
  },
  {
   "cell_type": "code",
   "execution_count": 59,
   "id": "equal-pittsburgh",
   "metadata": {
    "ExecuteTime": {
     "end_time": "2021-03-24T13:20:45.319968Z",
     "start_time": "2021-03-24T13:20:45.310946Z"
    }
   },
   "outputs": [],
   "source": [
    "join = [pos_reviews_df,neg_reviews_df]"
   ]
  },
  {
   "cell_type": "code",
   "execution_count": 60,
   "id": "other-sandwich",
   "metadata": {
    "ExecuteTime": {
     "end_time": "2021-03-24T13:21:08.268043Z",
     "start_time": "2021-03-24T13:21:08.201197Z"
    }
   },
   "outputs": [],
   "source": [
    "joined = pd.concat(join)"
   ]
  },
  {
   "cell_type": "code",
   "execution_count": 61,
   "id": "concrete-silence",
   "metadata": {
    "ExecuteTime": {
     "end_time": "2021-03-24T13:21:09.679089Z",
     "start_time": "2021-03-24T13:21:09.577447Z"
    }
   },
   "outputs": [],
   "source": [
    "joined = joined.dropna()"
   ]
  },
  {
   "cell_type": "code",
   "execution_count": 62,
   "id": "broke-cleaner",
   "metadata": {
    "ExecuteTime": {
     "end_time": "2021-03-24T13:21:13.986966Z",
     "start_time": "2021-03-24T13:21:13.805757Z"
    }
   },
   "outputs": [],
   "source": [
    "text, status = list(joined['review_body']), list(joined['Status'])"
   ]
  },
  {
   "cell_type": "code",
   "execution_count": 63,
   "id": "apparent-norwegian",
   "metadata": {
    "ExecuteTime": {
     "end_time": "2021-03-24T13:21:14.830618Z",
     "start_time": "2021-03-24T13:21:14.735851Z"
    }
   },
   "outputs": [],
   "source": [
    "emojis = {':)': 'smile', ':-)': 'smile', ';d': 'wink', ':-E': 'vampire', ':(': 'sad', \n",
    "          ':-(': 'sad', ':-<': 'sad', ':P': 'raspberry', ':O': 'surprised',\n",
    "          ':-@': 'shocked', ':@': 'shocked',':-$': 'confused', ':\\\\': 'annoyed', \n",
    "          ':#': 'mute', ':X': 'mute', ':^)': 'smile', ':-&': 'confused', '$_$': 'greedy',\n",
    "          '@@': 'eyeroll', ':-!': 'confused', ':-D': 'smile', ':-0': 'yell', 'O.o': 'confused',\n",
    "          '<(-_-)>': 'robot', 'd[-_-]b': 'dj', \":'-)\": 'sadsmile', ';)': 'wink', \n",
    "          ';-)': 'wink', 'O:-)': 'angel','O*-)': 'angel','(:-D': 'gossip', '=^.^=': 'cat'}\n",
    "\n",
    "Url_Pattern = r\"((http://)[^ ]*|(https://)[^ ]*|( www\\.)[^ ]*)\"\n",
    "User_Pattern = '@[^\\s]+'\n",
    "Alph_Num_Pattern = \"[^a-zA-Z0-9]\"\n",
    "Repeat_Pattern = r\"(.)\\1\\1+\"\n",
    "Replace_Pattern = r\"\\1\\1\"\n",
    "\n",
    "def process_words(text):\n",
    "    processed_text = []\n",
    "    wordLemm = WordNetLemmatizer()\n",
    "    for review in text:\n",
    "        review = re.sub(Alph_Num_Pattern, ' ', review)\n",
    "        review = review.lower()\n",
    "        review = re.sub(Url_Pattern, 'Url', review)\n",
    "        for emoji in emojis.keys():\n",
    "            review = review.replace(emoji, emojis[emoji])\n",
    "        review = re.sub(User_Pattern, 'User', review)\n",
    "        review = re.sub(Repeat_Pattern, Replace_Pattern, review)\n",
    "        review_words = ''\n",
    "        for word in review.split():\n",
    "            if len(word)>1:\n",
    "                word = wordLemm.lemmatize(word)\n",
    "                review_words += (word+' ')\n",
    "                \n",
    "        processed_text.append(review_words)\n",
    "    return processed_text\n",
    "    "
   ]
  },
  {
   "cell_type": "code",
   "execution_count": 64,
   "id": "occasional-trinity",
   "metadata": {
    "ExecuteTime": {
     "end_time": "2021-03-24T13:23:34.311119Z",
     "start_time": "2021-03-24T13:21:18.665552Z"
    }
   },
   "outputs": [
    {
     "name": "stdout",
     "output_type": "stream",
     "text": [
      "Text Preprocessing complete.\n",
      "Time Taken: 136 seconds\n"
     ]
    }
   ],
   "source": [
    "t = time.time()\n",
    "processedtext = process_words(text)\n",
    "print(f'Text Preprocessing complete.')\n",
    "print(f'Time Taken: {round(time.time()-t)} seconds')"
   ]
  },
  {
   "cell_type": "code",
   "execution_count": 66,
   "id": "premier-desktop",
   "metadata": {
    "ExecuteTime": {
     "end_time": "2021-03-24T13:23:44.765939Z",
     "start_time": "2021-03-24T13:23:44.376163Z"
    }
   },
   "outputs": [
    {
     "name": "stdout",
     "output_type": "stream",
     "text": [
      "Data Split done.\n"
     ]
    }
   ],
   "source": [
    "X_train, X_test, y_train, y_test = train_test_split(text, status,\n",
    "                                                    test_size = 0.2, random_state = 0,shuffle=True)\n",
    "print(f'Data Split done.')"
   ]
  },
  {
   "cell_type": "code",
   "execution_count": 67,
   "id": "unlike-journey",
   "metadata": {
    "ExecuteTime": {
     "end_time": "2021-03-24T13:25:10.665333Z",
     "start_time": "2021-03-24T13:23:47.369340Z"
    }
   },
   "outputs": [
    {
     "name": "stdout",
     "output_type": "stream",
     "text": [
      "Vectoriser fitted.\n",
      "No. of feature_words:  400000\n"
     ]
    }
   ],
   "source": [
    "vectoriser = TfidfVectorizer(ngram_range=(1,2), max_features=400000)\n",
    "X_train = vectoriser.fit_transform(X_train)\n",
    "X_test = vectoriser.transform(X_test)\n",
    "print(f'Vectoriser fitted.')\n",
    "print('No. of feature_words: ', len(vectoriser.get_feature_names()))"
   ]
  },
  {
   "cell_type": "code",
   "execution_count": 70,
   "id": "floating-toronto",
   "metadata": {
    "ExecuteTime": {
     "end_time": "2021-03-24T13:44:31.124357Z",
     "start_time": "2021-03-24T13:44:30.925639Z"
    }
   },
   "outputs": [],
   "source": [
    "def model_Evaluate(model):\n",
    "    \n",
    "    # Predict values for Test dataset\n",
    "    y_pred = model.predict(X_test)\n",
    "\n",
    "    # Print the evaluation metrics for the dataset.\n",
    "    print(classification_report(y_test, y_pred))\n",
    "    \n",
    "    # Compute and plot the Confusion matrix\n",
    "    cf_matrix = confusion_matrix(y_test, y_pred)\n",
    "\n",
    "    categories  = ['Negative','Positive']\n",
    "    group_names = ['True Neg','False Pos', 'False Neg','True Pos']\n",
    "    group_percentages = ['{0:.2%}'.format(value) for value in cf_matrix.flatten() / np.sum(cf_matrix)]\n",
    "\n",
    "    labels = [f'{v1}\\n{v2}' for v1, v2 in zip(group_names,group_percentages)]\n",
    "    labels = np.asarray(labels).reshape(2,2)\n",
    "\n",
    "    sns.heatmap(cf_matrix, annot = labels, cmap = 'Blues',fmt = '',\n",
    "                xticklabels = categories, yticklabels = categories)\n",
    "\n",
    "    plt.xlabel(\"Predicted values\", fontdict = {'size':14}, labelpad = 10)\n",
    "    plt.ylabel(\"Actual values\"   , fontdict = {'size':14}, labelpad = 10)\n",
    "    plt.title (\"Confusion Matrix\", fontdict = {'size':18}, pad = 20)"
   ]
  },
  {
   "cell_type": "code",
   "execution_count": 84,
   "id": "inappropriate-pioneer",
   "metadata": {
    "ExecuteTime": {
     "end_time": "2021-03-24T20:35:48.357511Z",
     "start_time": "2021-03-24T20:33:37.505658Z"
    },
    "scrolled": true
   },
   "outputs": [
    {
     "name": "stdout",
     "output_type": "stream",
     "text": [
      "              precision    recall  f1-score   support\n",
      "\n",
      "           0       0.76      0.75      0.75     31484\n",
      "           1       0.75      0.75      0.75     30777\n",
      "\n",
      "    accuracy                           0.75     62261\n",
      "   macro avg       0.75      0.75      0.75     62261\n",
      "weighted avg       0.75      0.75      0.75     62261\n",
      "\n"
     ]
    },
    {
     "data": {
      "image/png": "[encoded data removed]",
      "text/plain": [
       "<Figure size 432x288 with 2 Axes>"
      ]
     },
     "metadata": {
      "needs_background": "light"
     },
     "output_type": "display_data"
    }
   ],
   "source": [
    "LogModel = LogisticRegression(max_iter=1000)\n",
    "LogModel.fit(X_train, y_train)\n",
    "model_Evaluate(LogModel)"
   ]
  },
  {
   "cell_type": "code",
   "execution_count": 85,
   "id": "current-royalty",
   "metadata": {
    "ExecuteTime": {
     "end_time": "2021-03-24T20:35:52.038532Z",
     "start_time": "2021-03-24T20:35:48.367604Z"
    }
   },
   "outputs": [
    {
     "name": "stderr",
     "output_type": "stream",
     "text": [
      "/Users/kelvinarellano/opt/anaconda3/envs/learn-env/lib/python3.6/site-packages/distributed/node.py:155: UserWarning: Port 8787 is already in use.\n",
      "Perhaps you already have a cluster running?\n",
      "Hosting the HTTP server on port 52480 instead\n",
      "  http_address[\"port\"], self.http_server.port\n"
     ]
    }
   ],
   "source": [
    "client = Client()"
   ]
  },
  {
   "cell_type": "code",
   "execution_count": 86,
   "id": "lonely-superior",
   "metadata": {
    "ExecuteTime": {
     "end_time": "2021-03-24T20:35:52.123971Z",
     "start_time": "2021-03-24T20:35:52.069988Z"
    }
   },
   "outputs": [],
   "source": [
    "LogParams = {\n",
    "    'C':[1.0,10.0,100.0,1000.0],\n",
    "    'max_iter':[1,10,100,1000], \n",
    "    'solver':['lbfgs','liblinear','sag','saga'], \n",
    "    'penalty':['l1','l2','elasticnet']\n",
    "}"
   ]
  },
  {
   "cell_type": "code",
   "execution_count": null,
   "id": "cardiac-yellow",
   "metadata": {
    "ExecuteTime": {
     "start_time": "2021-03-24T20:34:34.758Z"
    }
   },
   "outputs": [
    {
     "name": "stdout",
     "output_type": "stream",
     "text": [
      "Fitting 5 folds for each of 192 candidates, totalling 960 fits\n"
     ]
    },
    {
     "name": "stderr",
     "output_type": "stream",
     "text": [
      "distributed.comm.tcp - WARNING - Could not set timeout on TCP stream: [Errno 22] Invalid argument\n",
      "distributed.comm.tcp - WARNING - Could not set timeout on TCP stream: [Errno 22] Invalid argument\n",
      "distributed.comm.tcp - WARNING - Could not set timeout on TCP stream: [Errno 22] Invalid argument\n",
      "distributed.utils_perf - WARNING - full garbage collections took 10% CPU time recently (threshold: 10%)\n",
      "distributed.utils_perf - WARNING - full garbage collections took 10% CPU time recently (threshold: 10%)\n",
      "distributed.utils_perf - WARNING - full garbage collections took 10% CPU time recently (threshold: 10%)\n",
      "distributed.utils_perf - WARNING - full garbage collections took 10% CPU time recently (threshold: 10%)\n",
      "distributed.utils_perf - WARNING - full garbage collections took 10% CPU time recently (threshold: 10%)\n",
      "distributed.utils_perf - WARNING - full garbage collections took 11% CPU time recently (threshold: 10%)\n"
     ]
    }
   ],
   "source": [
    "with joblib.parallel_backend(backend='loky', n_jobs=-1,):\n",
    "    grid_log = GridSearchCV(estimator=LogisticRegression(),\n",
    "                 param_grid=LogParams,\n",
    "                 scoring='accuracy',\n",
    "                 verbose=1,\n",
    "                 n_jobs=-1)\n",
    "    results_grid_Log = grid_log.fit(X_train,y_train)"
   ]
  },
  {
   "cell_type": "code",
   "execution_count": null,
   "id": "industrial-debut",
   "metadata": {},
   "outputs": [],
   "source": []
  },
  {
   "cell_type": "code",
   "execution_count": null,
   "id": "protecting-antenna",
   "metadata": {},
   "outputs": [],
   "source": [
    "grid_Log = GridSearchCV(estimator=LogisticRegression(),\n",
    "                    param_grid=LogParams,\n",
    "                    scoring='accuracy',\n",
    "                    verbose=1,\n",
    "                    n_jobs=-1)\n",
    "\n",
    "result_grid_SVC = grid_Log.fit(X_train, y_train)"
   ]
  },
  {
   "cell_type": "code",
   "execution_count": null,
   "id": "brutal-bottom",
   "metadata": {},
   "outputs": [],
   "source": [
    "grid_search = GridSearchCV(estimator, param_grid, verbose=2, cv=2)\n",
    "grid_search.fit(X, y)"
   ]
  }
 ],
 "metadata": {
  "kernelspec": {
   "display_name": "learn-env",
   "language": "python",
   "name": "learn-env"
  },
  "language_info": {
   "codemirror_mode": {
    "name": "ipython",
    "version": 3
   },
   "file_extension": ".py",
   "mimetype": "text/x-python",
   "name": "python",
   "nbconvert_exporter": "python",
   "pygments_lexer": "ipython3",
   "version": "3.6.13"
  },
  "toc": {
   "base_numbering": 1,
   "nav_menu": {},
   "number_sections": true,
   "sideBar": true,
   "skip_h1_title": false,
   "title_cell": "Table of Contents",
   "title_sidebar": "Contents",
   "toc_cell": false,
   "toc_position": {},
   "toc_section_display": true,
   "toc_window_display": false
  }
 },
 "nbformat": 4,
 "nbformat_minor": 5
}
