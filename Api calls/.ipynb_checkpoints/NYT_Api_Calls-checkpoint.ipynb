{
 "cells": [
  {
   "cell_type": "code",
   "execution_count": 20,
   "metadata": {
    "ExecuteTime": {
     "end_time": "2021-03-27T02:51:57.701165Z",
     "start_time": "2021-03-27T02:51:57.675558Z"
    }
   },
   "outputs": [],
   "source": [
    "import requests \n",
    "from bs4 import BeautifulSoup\n",
    "import numpy as np\n",
    "import pandas as pd\n",
    "from time import sleep\n",
    "from random import randint\n",
    "import re\n",
    "import json\n",
    "import time\n",
    "import datetime\n",
    "import pickle\n",
    "import dateutil\n",
    "import time\n",
    "import random"
   ]
  },
  {
   "cell_type": "code",
   "execution_count": 21,
   "metadata": {
    "ExecuteTime": {
     "end_time": "2021-03-27T02:52:04.455101Z",
     "start_time": "2021-03-27T02:52:04.447632Z"
    }
   },
   "outputs": [],
   "source": [
    "f = open(\"nyt_api.txt\", \"r\")\n",
    "str(f.readline()[:31])\n",
    "api_key = open(\"nyt_api.txt\", \"r\")"
   ]
  },
  {
   "cell_type": "code",
   "execution_count": 22,
   "metadata": {
    "ExecuteTime": {
     "end_time": "2021-03-27T02:52:06.063469Z",
     "start_time": "2021-03-27T02:52:06.050637Z"
    }
   },
   "outputs": [],
   "source": [
    "def send_request(date):\n",
    "    bad_list=[]\n",
    "    try:\n",
    "        headers = {'Accept-Language': 'en-US,en;q=0.5'}\n",
    "        api_key = open(\"nyt_api.txt\", \"r\")\n",
    "        base_url = 'https://api.nytimes.com/svc/books/v3/lists/overview.json?published_date='\n",
    "        url = base_url +date+'&api-key='+str(api_key.readline()[:32])+'&ref_=adv_nxt'\n",
    "        response = requests.get(url, headers=headers).json()\n",
    "        NYT_DATA = parse_response(response)\n",
    "        time.sleep(randint(6,10))\n",
    "        return NYT_DATA\n",
    "    except KeyError as e:\n",
    "        bad_list.append(response)\n",
    "        print(bad_list)\n",
    "        print(e)"
   ]
  },
  {
   "cell_type": "code",
   "execution_count": 23,
   "metadata": {
    "ExecuteTime": {
     "end_time": "2021-03-27T02:52:07.668769Z",
     "start_time": "2021-03-27T02:52:07.663035Z"
    }
   },
   "outputs": [],
   "source": [
    "# g = open(\"web_browser_api.txt\", \"r\")\n",
    "# print(g.readline())"
   ]
  },
  {
   "cell_type": "code",
   "execution_count": 24,
   "metadata": {
    "ExecuteTime": {
     "end_time": "2021-03-27T02:52:08.388798Z",
     "start_time": "2021-03-27T02:52:08.338644Z"
    }
   },
   "outputs": [],
   "source": [
    "def parse_response(response):\n",
    "    '''Parses and returns response as pandas data frame.'''\n",
    "    data = {\n",
    "        'Title':[],\n",
    "        'List_Type': [], \n",
    "        'Update_Interval': [],\n",
    "        'Author': [],\n",
    "        'Rank':[],\n",
    "        'Isbn10': [],\n",
    "        'Isbn13': [],\n",
    "        'BestSeller_Date':[],\n",
    "        'List_Published_Date':[],\n",
    "        'Publisher':[],\n",
    "        'Weeks_on_List':[],\n",
    "        'Amazon_Link':[],\n",
    "        'Apple_Books_Link':[],\n",
    "        'Barnes_and_Nobel_Link':[],\n",
    "        'Books_A_Million_Link':[],\n",
    "        'Bookshop_Link':[],\n",
    "        'IndieBound_Link':[],\n",
    "        }\n",
    "    status = response['status']\n",
    "    if status == 'OK':\n",
    "        lists = response['results']['lists']\n",
    "        pub_date = dateutil.parser.parse(response['results']['published_date'])\n",
    "        sell_date = dateutil.parser.parse(response['results']['bestsellers_date'])\n",
    "        for lis in lists: \n",
    "            #this_list = list[lis]\n",
    "            for book in lis['books']:\n",
    "                data['Title'].append(book['title'])\n",
    "                data['Author'].append(book['author'])\n",
    "                data['Rank'].append(book['rank'])\n",
    "                data['Isbn10'].append(book['primary_isbn10'])\n",
    "                data['Isbn13'].append(book['primary_isbn13'])\n",
    "                data['Publisher'].append(book['publisher'])\n",
    "                data['Weeks_on_List'].append(book['weeks_on_list'])\n",
    "                data['List_Type'].append(lis['list_name'])\n",
    "                data['Update_Interval'].append(lis['updated'])\n",
    "                data['List_Published_Date'].append(pub_date)\n",
    "                data['BestSeller_Date'].append(sell_date)\n",
    "                data['Amazon_Link'].append(book['buy_links'][0]['url'])\n",
    "                data['Apple_Books_Link'].append(book['buy_links'][1]['url'])\n",
    "                data['Barnes_and_Nobel_Link'].append(book['buy_links'][2]['url'])\n",
    "                data['Books_A_Million_Link'].append(book['buy_links'][3]['url'])\n",
    "                data['Bookshop_Link'].append(book['buy_links'][4]['url'])\n",
    "                data['IndieBound_Link'].append(book['buy_links'][5]['url'])\n",
    "    NYT_Data = pd.DataFrame(data) \n",
    "    #pd.to\n",
    "    return NYT_Data\n",
    "               "
   ]
  },
  {
   "cell_type": "code",
   "execution_count": 25,
   "metadata": {
    "ExecuteTime": {
     "end_time": "2021-03-27T02:52:12.886372Z",
     "start_time": "2021-03-27T02:52:12.876142Z"
    }
   },
   "outputs": [],
   "source": [
    "def get_full_data(date):\n",
    "    #inputing date to start loop\n",
    "    full_data = []\n",
    "    bad_dates =[]\n",
    "    for date in weeks_in_range:\n",
    "        try:\n",
    "            \n",
    "            #loop will continue until start_date is equal to end_date\n",
    "            #setting start and end_dates\n",
    "            new_request = send_request(date[0]+'-'+date[1]+'-'+date[2])\n",
    "            full_data.append(new_request)\n",
    "            print(date)\n",
    "        \n",
    "        except KeyError as e:\n",
    "            bad_dates.append(date)\n",
    "    return full_data"
   ]
  },
  {
   "cell_type": "code",
   "execution_count": 19,
   "metadata": {
    "ExecuteTime": {
     "end_time": "2021-03-27T02:46:54.476563Z",
     "start_time": "2021-03-27T02:46:54.469668Z"
    }
   },
   "outputs": [],
   "source": [
    "#revised = get_full_data(start_date)"
   ]
  },
  {
   "cell_type": "code",
   "execution_count": 26,
   "metadata": {
    "ExecuteTime": {
     "end_time": "2021-03-27T02:52:21.873891Z",
     "start_time": "2021-03-27T02:52:21.868568Z"
    }
   },
   "outputs": [],
   "source": [
    "#revised_df = pd.concat(revised)"
   ]
  },
  {
   "cell_type": "code",
   "execution_count": 27,
   "metadata": {
    "ExecuteTime": {
     "end_time": "2021-03-27T02:52:23.022380Z",
     "start_time": "2021-03-27T02:52:23.012452Z"
    }
   },
   "outputs": [
    {
     "data": {
      "text/plain": [
       "66516"
      ]
     },
     "execution_count": 27,
     "metadata": {},
     "output_type": "execute_result"
    }
   ],
   "source": [
    "len(revised_df)"
   ]
  },
  {
   "cell_type": "code",
   "execution_count": 28,
   "metadata": {
    "ExecuteTime": {
     "end_time": "2021-03-27T02:52:28.961076Z",
     "start_time": "2021-03-27T02:52:28.954450Z"
    }
   },
   "outputs": [],
   "source": [
    "#pd.to_pickle(revised_df,'./Full_NYT_df.pkl','zip')"
   ]
  },
  {
   "cell_type": "code",
   "execution_count": 29,
   "metadata": {
    "ExecuteTime": {
     "end_time": "2021-03-27T02:52:32.451053Z",
     "start_time": "2021-03-27T02:52:32.445865Z"
    }
   },
   "outputs": [],
   "source": [
    "# weeks_in_range = [x.split(' ') for x in pd.date_range(start_date, end_date, freq='W').strftime(\"%Y %m %d\").tolist()]"
   ]
  },
  {
   "cell_type": "code",
   "execution_count": 30,
   "metadata": {
    "ExecuteTime": {
     "end_time": "2021-03-27T02:52:33.196244Z",
     "start_time": "2021-03-27T02:52:33.189535Z"
    }
   },
   "outputs": [],
   "source": [
    "start_date =datetime.date(2008,6,7)\n",
    "end_date = datetime.date(2019,12,31)\n",
    "# first_end_date = datetime.date(2016,10,30)"
   ]
  },
  {
   "cell_type": "code",
   "execution_count": null,
   "metadata": {},
   "outputs": [],
   "source": []
  }
 ],
 "metadata": {
  "kernelspec": {
   "display_name": "learn-env",
   "language": "python",
   "name": "learn-env"
  },
  "language_info": {
   "codemirror_mode": {
    "name": "ipython",
    "version": 3
   },
   "file_extension": ".py",
   "mimetype": "text/x-python",
   "name": "python",
   "nbconvert_exporter": "python",
   "pygments_lexer": "ipython3",
   "version": "3.6.13"
  },
  "toc": {
   "base_numbering": 1,
   "nav_menu": {},
   "number_sections": true,
   "sideBar": true,
   "skip_h1_title": false,
   "title_cell": "Table of Contents",
   "title_sidebar": "Contents",
   "toc_cell": false,
   "toc_position": {},
   "toc_section_display": true,
   "toc_window_display": false
  }
 },
 "nbformat": 4,
 "nbformat_minor": 4
}
