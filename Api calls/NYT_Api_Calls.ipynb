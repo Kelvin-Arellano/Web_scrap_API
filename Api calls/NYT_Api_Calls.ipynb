{
 "cells": [
  {
   "cell_type": "code",
   "execution_count": 2,
   "metadata": {
    "ExecuteTime": {
     "end_time": "2021-03-18T21:38:53.928374Z",
     "start_time": "2021-03-18T21:38:42.282957Z"
    }
   },
   "outputs": [],
   "source": [
    "import requests \n",
    "from bs4 import BeautifulSoup\n",
    "import numpy as np\n",
    "import pandas as pd\n",
    "from time import sleep\n",
    "from random import randint\n",
    "import datetime\n",
    "import pdb\n",
    "import re\n",
    "import os\n",
    "import json\n",
    "import time\n",
    "import datetime\n",
    "from pathlib import Path\n",
    "import pickle\n",
    "import dateutil\n",
    "import lxml\n",
    "from dateutil.relativedelta import relativedelta\n",
    "import time\n",
    "import random\n",
    "from os import system\n",
    "from math import floor\n",
    "from copy import deepcopy\n",
    "from requests_html import HTMLSession\n",
    "from selenium import webdriver\n",
    "from selenium.webdriver.common.by import By\n",
    "from selenium.webdriver.common.keys import Keys\n",
    "from selenium.common.exceptions import TimeoutException\n",
    "from selenium.webdriver.support.ui import WebDriverWait\n",
    "from selenium.webdriver.support import expected_conditions as EC\n"
   ]
  },
  {
   "cell_type": "code",
   "execution_count": 49,
   "metadata": {
    "ExecuteTime": {
     "end_time": "2021-03-18T21:54:41.914561Z",
     "start_time": "2021-03-18T21:54:41.832513Z"
    }
   },
   "outputs": [
    {
     "data": {
      "text/plain": [
       "'tGsPXK23KZL6lrdgBqEAC0v5aZU9FXbB'"
      ]
     },
     "execution_count": 49,
     "metadata": {},
     "output_type": "execute_result"
    }
   ],
   "source": [
    "f = open(\"nyt_api.txt\", \"r\")\n",
    "str(f.readline()[:31])\n",
    "api_key = open(\"nyt_api.txt\", \"r\")\n",
    "str(api_key.readline()[:32])"
   ]
  },
  {
   "cell_type": "code",
   "execution_count": 50,
   "metadata": {
    "ExecuteTime": {
     "end_time": "2021-03-18T21:54:48.750292Z",
     "start_time": "2021-03-18T21:54:48.737952Z"
    }
   },
   "outputs": [],
   "source": [
    "def send_request(date):\n",
    "    bad_list=[]\n",
    "    try:\n",
    "        headers = {'Accept-Language': 'en-US,en;q=0.5'}\n",
    "        api_key = open(\"nyt_api.txt\", \"r\")\n",
    "        base_url = 'https://api.nytimes.com/svc/books/v3/lists/overview.json?published_date='\n",
    "        url = base_url +date+'&api-key='+str(api_key.readline()[:32])+'&ref_=adv_nxt'\n",
    "        response = requests.get(url, headers=headers).json()\n",
    "        NYT_DATA = parse_response(response)\n",
    "        time.sleep(randint(6,10))\n",
    "        return NYT_DATA\n",
    "    except KeyError as e:\n",
    "        bad_list.append(response)\n",
    "        print(bad_list)\n",
    "        print(e)"
   ]
  },
  {
   "cell_type": "code",
   "execution_count": 51,
   "metadata": {
    "ExecuteTime": {
     "end_time": "2021-03-18T21:54:49.727297Z",
     "start_time": "2021-03-18T21:54:49.721435Z"
    }
   },
   "outputs": [],
   "source": [
    "# g = open(\"web_browser_api.txt\", \"r\")\n",
    "# print(g.readline())"
   ]
  },
  {
   "cell_type": "code",
   "execution_count": 52,
   "metadata": {
    "ExecuteTime": {
     "end_time": "2021-03-18T21:54:50.309703Z",
     "start_time": "2021-03-18T21:54:50.246566Z"
    }
   },
   "outputs": [],
   "source": [
    "def parse_response(response):\n",
    "    '''Parses and returns response as pandas data frame.'''\n",
    "    data = {\n",
    "        'Title':[],\n",
    "        'List_Type': [], \n",
    "        'Update_Interval': [],\n",
    "        'Author': [],\n",
    "        'Rank':[],\n",
    "        'Isbn10': [],\n",
    "        'Isbn13': [],\n",
    "        'BestSeller_Date':[],\n",
    "        'List_Published_Date':[],\n",
    "        'Publisher':[],\n",
    "        'Weeks_on_List':[],\n",
    "        'Amazon_Link':[],\n",
    "        'Apple_Books_Link':[],\n",
    "        'Barnes_and_Nobel_Link':[],\n",
    "        'Books_A_Million_Link':[],\n",
    "        'Bookshop_Link':[],\n",
    "        'IndieBound_Link':[],\n",
    "        }\n",
    "    status = response['status']\n",
    "    if status == 'OK':\n",
    "        lists = response['results']['lists']\n",
    "        pub_date = dateutil.parser.parse(response['results']['published_date'])\n",
    "        sell_date = dateutil.parser.parse(response['results']['bestsellers_date'])\n",
    "        for lis in lists: \n",
    "            #this_list = list[lis]\n",
    "            for book in lis['books']:\n",
    "                data['Title'].append(book['title'])\n",
    "                data['Author'].append(book['author'])\n",
    "                data['Rank'].append(book['rank'])\n",
    "                data['Isbn10'].append(book['primary_isbn10'])\n",
    "                data['Isbn13'].append(book['primary_isbn13'])\n",
    "                data['Publisher'].append(book['publisher'])\n",
    "                data['Weeks_on_List'].append(book['weeks_on_list'])\n",
    "                data['List_Type'].append(lis['list_name'])\n",
    "                data['Update_Interval'].append(lis['updated'])\n",
    "                data['List_Published_Date'].append(pub_date)\n",
    "                data['BestSeller_Date'].append(sell_date)\n",
    "                data['Amazon_Link'].append(book['buy_links'][0]['url'])\n",
    "                data['Apple_Books_Link'].append(book['buy_links'][1]['url'])\n",
    "                data['Barnes_and_Nobel_Link'].append(book['buy_links'][2]['url'])\n",
    "                data['Books_A_Million_Link'].append(book['buy_links'][3]['url'])\n",
    "                data['Bookshop_Link'].append(book['buy_links'][4]['url'])\n",
    "                data['IndieBound_Link'].append(book['buy_links'][5]['url'])\n",
    "    NYT_Data = pd.DataFrame(data) \n",
    "    #pd.to\n",
    "    return NYT_Data\n",
    "               "
   ]
  },
  {
   "cell_type": "code",
   "execution_count": 53,
   "metadata": {
    "ExecuteTime": {
     "end_time": "2021-03-18T21:54:50.823636Z",
     "start_time": "2021-03-18T21:54:50.802965Z"
    }
   },
   "outputs": [],
   "source": [
    "def get_full_data(date):\n",
    "    #inputing date to start loop\n",
    "    full_data = []\n",
    "    bad_dates =[]\n",
    "    for date in weeks_in_range:\n",
    "        try:\n",
    "            \n",
    "            #loop will continue until start_date is equal to end_date\n",
    "            #setting start and end_dates\n",
    "            new_request = send_request(date[0]+'-'+date[1]+'-'+date[2])\n",
    "            full_data.append(new_request)\n",
    "            print(date)\n",
    "        \n",
    "        except KeyError as e:\n",
    "            bad_dates.append(date)\n",
    "    return full_data"
   ]
  },
  {
   "cell_type": "code",
   "execution_count": 55,
   "metadata": {
    "ExecuteTime": {
     "end_time": "2021-03-18T22:54:06.171544Z",
     "start_time": "2021-03-18T22:54:06.067160Z"
    }
   },
   "outputs": [],
   "source": [
    "#revised = get_full_data(start_date)"
   ]
  },
  {
   "cell_type": "code",
   "execution_count": 57,
   "metadata": {
    "ExecuteTime": {
     "end_time": "2021-03-18T22:55:04.814137Z",
     "start_time": "2021-03-18T22:54:54.425060Z"
    }
   },
   "outputs": [],
   "source": [
    "revised_df = pd.concat(revised)"
   ]
  },
  {
   "cell_type": "code",
   "execution_count": 60,
   "metadata": {
    "ExecuteTime": {
     "end_time": "2021-03-19T00:44:47.085539Z",
     "start_time": "2021-03-19T00:44:45.739090Z"
    }
   },
   "outputs": [],
   "source": [
    "pd.to_pickle(revised_df,'./revised_df.pkl','zip')"
   ]
  },
  {
   "cell_type": "code",
   "execution_count": 58,
   "metadata": {
    "ExecuteTime": {
     "end_time": "2021-03-18T22:55:17.206067Z",
     "start_time": "2021-03-18T22:55:17.065841Z"
    }
   },
   "outputs": [
    {
     "data": {
      "text/plain": [
       "42791"
      ]
     },
     "execution_count": 58,
     "metadata": {},
     "output_type": "execute_result"
    }
   ],
   "source": [
    "len(revised_df)"
   ]
  },
  {
   "cell_type": "code",
   "execution_count": 7,
   "metadata": {
    "ExecuteTime": {
     "end_time": "2021-03-18T06:10:00.626482Z",
     "start_time": "2021-03-18T06:10:00.621259Z"
    }
   },
   "outputs": [],
   "source": [
    "# weeks_in_range = [x.split(' ') for x in pd.date_range(start_date, end_date, freq='W').strftime(\"%Y %m %d\").tolist()]"
   ]
  },
  {
   "cell_type": "code",
   "execution_count": 4,
   "metadata": {
    "ExecuteTime": {
     "end_time": "2021-03-18T21:40:07.685260Z",
     "start_time": "2021-03-18T21:40:07.679204Z"
    }
   },
   "outputs": [],
   "source": [
    "# start_date =datetime.date(2008,6,7)\n",
    "# end_date = datetime.date(2015,12,31)\n",
    "# first_end_date = datetime.date(2016,10,30)"
   ]
  },
  {
   "cell_type": "code",
   "execution_count": 9,
   "metadata": {
    "ExecuteTime": {
     "end_time": "2021-03-18T06:10:12.775029Z",
     "start_time": "2021-03-18T06:10:12.771787Z"
    }
   },
   "outputs": [],
   "source": [
    "#first_weeks_in_range = [x.split(' ') for x in pd.date_range(start_date, first_end_date, freq=\"W\").strftime(\"%Y %-m %d\").tolist()]"
   ]
  },
  {
   "cell_type": "code",
   "execution_count": 5,
   "metadata": {
    "ExecuteTime": {
     "end_time": "2021-03-18T21:40:10.654859Z",
     "start_time": "2021-03-18T21:40:10.509311Z"
    }
   },
   "outputs": [],
   "source": [
    "weeks_in_range = [x.split(' ') for x in pd.date_range(start_date, end_date, freq=\"W\").strftime(\"%Y %m %d\").tolist()]"
   ]
  },
  {
   "cell_type": "code",
   "execution_count": 7,
   "metadata": {
    "ExecuteTime": {
     "end_time": "2021-03-18T21:40:28.628090Z",
     "start_time": "2021-03-18T21:40:28.622751Z"
    }
   },
   "outputs": [],
   "source": [
    "#weeks_in_range"
   ]
  },
  {
   "cell_type": "code",
   "execution_count": 11,
   "metadata": {
    "ExecuteTime": {
     "end_time": "2021-03-18T06:10:16.853062Z",
     "start_time": "2021-03-18T06:10:16.848423Z"
    },
    "scrolled": false
   },
   "outputs": [],
   "source": [
    "#y = get_full_data(first_end_date)"
   ]
  },
  {
   "cell_type": "code",
   "execution_count": 56,
   "metadata": {
    "ExecuteTime": {
     "end_time": "2021-03-18T22:54:16.685812Z",
     "start_time": "2021-03-18T22:54:16.678550Z"
    }
   },
   "outputs": [],
   "source": [
    "#pd.read_pickle('./NYT_API_CALL.pkl','zip')"
   ]
  },
  {
   "cell_type": "code",
   "execution_count": 20,
   "metadata": {
    "ExecuteTime": {
     "end_time": "2021-03-18T06:34:08.723255Z",
     "start_time": "2021-03-18T06:34:08.717912Z"
    }
   },
   "outputs": [],
   "source": [
    "user_agents_list = ['Mozilla/5.0 (Windows NT 10.0; WOW64; rv:50.0) Gecko/20100101 Firefox/50.0','Mozilla/5.0 (Macintosh; Intel Mac OS X 10_15_7) AppleWebKit/537.36 (KHTML, like Gecko) Chrome/89.0.4389.82 Safari/537.36','Mozilla/5.0 CK={} (Windows NT 6.1; WOW64; Trident/7.0; rv:11.0) like Gecko','Mozilla/5.0 (iPhone; CPU iPhone OS 12_2 like Mac OS X) AppleWebKit/605.1.15 (KHTML, like Gecko) Mobile/15E148','Mozilla/5.0 (Macintosh; Intel Mac OS X 10_11_2) AppleWebKit/601.3.9 (KHTML, like Gecko) Version/9.0.2 Safari/601.3.9','Mozilla/5.0 (CrKey armv7l 1.5.16041) AppleWebKit/537.36 (KHTML, like Gecko) Chrome/31.0.1650.0 Safari/537.36','Mozilla/5.0 (Linux; Android 7.0; SM-G892A Build/NRD90M; wv) AppleWebKit/537.36 (KHTML, like Gecko) Version/4.0 Chrome/60.0.3112.107 Mobile Safari/537.36','Mozilla/5.0 (Linux; Android 7.0; SM-G930VC Build/NRD90M; wv) AppleWebKit/537.36 (KHTML, like Gecko) Version/4.0 Chrome/58.0.3029.83 Mobile Safari/537.36']\n",
    "proxies_list = [\"128.199.109.241:8080\",\"113.53.230.195:3128\",\"125.141.200.53:80\",\"125.141.200.14:80\",\"128.199.200.112:138\",\"149.56.123.99:3128\",\"128.199.200.112:80\",\"125.141.200.39:80\",\"134.213.29.202:4444\",\"64.235.204.107\",\"157.245.222.183\",\"152.179.12.86\"]"
   ]
  },
  {
   "cell_type": "code",
   "execution_count": 21,
   "metadata": {
    "ExecuteTime": {
     "end_time": "2021-03-18T06:34:09.355485Z",
     "start_time": "2021-03-18T06:34:09.348111Z"
    }
   },
   "outputs": [],
   "source": [
    "headers = {'User-Agent': random.choice(user_agents_list),'Accept-Language':'en-US','Referer':'http://www.google.com/'}\n",
    "proxies = {'https': random.choice(proxies_list)}\n",
    "#r = requests.get(url, header = headers, proxies=proxies)"
   ]
  },
  {
   "cell_type": "code",
   "execution_count": 4,
   "metadata": {
    "ExecuteTime": {
     "end_time": "2021-03-18T13:52:53.476591Z",
     "start_time": "2021-03-18T13:52:52.890328Z"
    }
   },
   "outputs": [],
   "source": [
    "new = pd.read_pickle('./NYT_DF.pkl','zip')"
   ]
  },
  {
   "cell_type": "code",
   "execution_count": 5,
   "metadata": {
    "ExecuteTime": {
     "end_time": "2021-03-18T13:52:54.596844Z",
     "start_time": "2021-03-18T13:52:54.501622Z"
    }
   },
   "outputs": [
    {
     "data": {
      "text/html": [
       "<div>\n",
       "<style scoped>\n",
       "    .dataframe tbody tr th:only-of-type {\n",
       "        vertical-align: middle;\n",
       "    }\n",
       "\n",
       "    .dataframe tbody tr th {\n",
       "        vertical-align: top;\n",
       "    }\n",
       "\n",
       "    .dataframe thead th {\n",
       "        text-align: right;\n",
       "    }\n",
       "</style>\n",
       "<table border=\"1\" class=\"dataframe\">\n",
       "  <thead>\n",
       "    <tr style=\"text-align: right;\">\n",
       "      <th></th>\n",
       "      <th>Title</th>\n",
       "      <th>List_Type</th>\n",
       "      <th>Update_Interval</th>\n",
       "      <th>Author</th>\n",
       "      <th>Rank</th>\n",
       "      <th>Isbn10</th>\n",
       "      <th>Isbn13</th>\n",
       "      <th>BestSeller_Date</th>\n",
       "      <th>List_Published_Date</th>\n",
       "      <th>Publisher</th>\n",
       "      <th>Weeks_on_List</th>\n",
       "      <th>Amazon_Link</th>\n",
       "      <th>Apple_Books_Link</th>\n",
       "      <th>Barnes_and_Nobel_Link</th>\n",
       "      <th>Books_A_Million_Link</th>\n",
       "      <th>Bookshop_Link</th>\n",
       "      <th>IndieBound_Link</th>\n",
       "    </tr>\n",
       "  </thead>\n",
       "  <tbody>\n",
       "    <tr>\n",
       "      <th>0</th>\n",
       "      <td>THE LOST SYMBOL</td>\n",
       "      <td>Hardcover Fiction</td>\n",
       "      <td>WEEKLY</td>\n",
       "      <td>Dan Brown</td>\n",
       "      <td>1</td>\n",
       "      <td>0385533136</td>\n",
       "      <td>9780385533133</td>\n",
       "      <td>2009-12-19</td>\n",
       "      <td>2010-01-03</td>\n",
       "      <td>Doubleday</td>\n",
       "      <td>14</td>\n",
       "      <td>http://www.amazon.com/The-Lost-Symbol-Featurin...</td>\n",
       "      <td>https://du-gae-books-dot-nyt-du-prd.appspot.co...</td>\n",
       "      <td>https://www.anrdoezrs.net/click-7990613-118195...</td>\n",
       "      <td>https://www.anrdoezrs.net/click-7990613-35140?...</td>\n",
       "      <td>https://bookshop.org/a/3546/9780385533133</td>\n",
       "      <td>https://www.indiebound.org/book/9780385533133?...</td>\n",
       "    </tr>\n",
       "    <tr>\n",
       "      <th>1</th>\n",
       "      <td>CROSS FIRE</td>\n",
       "      <td>Hardcover Fiction</td>\n",
       "      <td>WEEKLY</td>\n",
       "      <td>James Patterson</td>\n",
       "      <td>2</td>\n",
       "      <td>0316071900</td>\n",
       "      <td>9780316071901</td>\n",
       "      <td>2009-12-19</td>\n",
       "      <td>2010-01-03</td>\n",
       "      <td>Little, Brown</td>\n",
       "      <td>5</td>\n",
       "      <td>http://www.amazon.com/I-Alex-Cross-James-Patte...</td>\n",
       "      <td>https://du-gae-books-dot-nyt-du-prd.appspot.co...</td>\n",
       "      <td>https://www.anrdoezrs.net/click-7990613-118195...</td>\n",
       "      <td>https://www.anrdoezrs.net/click-7990613-35140?...</td>\n",
       "      <td>https://bookshop.org/a/3546/9780316071901</td>\n",
       "      <td>https://www.indiebound.org/book/9780316071901?...</td>\n",
       "    </tr>\n",
       "    <tr>\n",
       "      <th>2</th>\n",
       "      <td>UNDER THE DOME, PART 1</td>\n",
       "      <td>Hardcover Fiction</td>\n",
       "      <td>WEEKLY</td>\n",
       "      <td>Stephen King</td>\n",
       "      <td>3</td>\n",
       "      <td>1439148503</td>\n",
       "      <td>9781439148501</td>\n",
       "      <td>2009-12-19</td>\n",
       "      <td>2010-01-03</td>\n",
       "      <td>Scribner</td>\n",
       "      <td>6</td>\n",
       "      <td>http://www.amazon.com/Under-Dome-Novel-Stephen...</td>\n",
       "      <td>https://du-gae-books-dot-nyt-du-prd.appspot.co...</td>\n",
       "      <td>https://www.anrdoezrs.net/click-7990613-118195...</td>\n",
       "      <td>https://www.anrdoezrs.net/click-7990613-35140?...</td>\n",
       "      <td>https://bookshop.org/a/3546/9781439148501</td>\n",
       "      <td>https://www.indiebound.org/book/9781439148501?...</td>\n",
       "    </tr>\n",
       "    <tr>\n",
       "      <th>3</th>\n",
       "      <td>THE HELP</td>\n",
       "      <td>Hardcover Fiction</td>\n",
       "      <td>WEEKLY</td>\n",
       "      <td>Kathryn Stockett</td>\n",
       "      <td>4</td>\n",
       "      <td>0399155341</td>\n",
       "      <td>9780399155345</td>\n",
       "      <td>2009-12-19</td>\n",
       "      <td>2010-01-03</td>\n",
       "      <td>Amy Einhorn/Putnam</td>\n",
       "      <td>38</td>\n",
       "      <td>http://www.amazon.com/The-Help-Kathryn-Stocket...</td>\n",
       "      <td>https://du-gae-books-dot-nyt-du-prd.appspot.co...</td>\n",
       "      <td>https://www.anrdoezrs.net/click-7990613-118195...</td>\n",
       "      <td>https://www.anrdoezrs.net/click-7990613-35140?...</td>\n",
       "      <td>https://bookshop.org/a/3546/9780399155345</td>\n",
       "      <td>https://www.indiebound.org/book/9780399155345?...</td>\n",
       "    </tr>\n",
       "    <tr>\n",
       "      <th>4</th>\n",
       "      <td>U IS FOR UNDERTOW</td>\n",
       "      <td>Hardcover Fiction</td>\n",
       "      <td>WEEKLY</td>\n",
       "      <td>Sue Grafton</td>\n",
       "      <td>5</td>\n",
       "      <td>039915597X</td>\n",
       "      <td>9780399155970</td>\n",
       "      <td>2009-12-19</td>\n",
       "      <td>2010-01-03</td>\n",
       "      <td>Putnam</td>\n",
       "      <td>3</td>\n",
       "      <td>http://www.amazon.com/U-Undertow-Kinsey-Millho...</td>\n",
       "      <td>https://du-gae-books-dot-nyt-du-prd.appspot.co...</td>\n",
       "      <td>https://www.anrdoezrs.net/click-7990613-118195...</td>\n",
       "      <td>https://www.anrdoezrs.net/click-7990613-35140?...</td>\n",
       "      <td>https://bookshop.org/a/3546/9780399155970</td>\n",
       "      <td>https://www.indiebound.org/book/9780399155970?...</td>\n",
       "    </tr>\n",
       "  </tbody>\n",
       "</table>\n",
       "</div>"
      ],
      "text/plain": [
       "                    Title          List_Type Update_Interval  \\\n",
       "0         THE LOST SYMBOL  Hardcover Fiction          WEEKLY   \n",
       "1              CROSS FIRE  Hardcover Fiction          WEEKLY   \n",
       "2  UNDER THE DOME, PART 1  Hardcover Fiction          WEEKLY   \n",
       "3                THE HELP  Hardcover Fiction          WEEKLY   \n",
       "4       U IS FOR UNDERTOW  Hardcover Fiction          WEEKLY   \n",
       "\n",
       "             Author  Rank      Isbn10         Isbn13 BestSeller_Date  \\\n",
       "0         Dan Brown     1  0385533136  9780385533133      2009-12-19   \n",
       "1   James Patterson     2  0316071900  9780316071901      2009-12-19   \n",
       "2      Stephen King     3  1439148503  9781439148501      2009-12-19   \n",
       "3  Kathryn Stockett     4  0399155341  9780399155345      2009-12-19   \n",
       "4       Sue Grafton     5  039915597X  9780399155970      2009-12-19   \n",
       "\n",
       "  List_Published_Date           Publisher  Weeks_on_List  \\\n",
       "0          2010-01-03           Doubleday             14   \n",
       "1          2010-01-03       Little, Brown              5   \n",
       "2          2010-01-03            Scribner              6   \n",
       "3          2010-01-03  Amy Einhorn/Putnam             38   \n",
       "4          2010-01-03              Putnam              3   \n",
       "\n",
       "                                         Amazon_Link  \\\n",
       "0  http://www.amazon.com/The-Lost-Symbol-Featurin...   \n",
       "1  http://www.amazon.com/I-Alex-Cross-James-Patte...   \n",
       "2  http://www.amazon.com/Under-Dome-Novel-Stephen...   \n",
       "3  http://www.amazon.com/The-Help-Kathryn-Stocket...   \n",
       "4  http://www.amazon.com/U-Undertow-Kinsey-Millho...   \n",
       "\n",
       "                                    Apple_Books_Link  \\\n",
       "0  https://du-gae-books-dot-nyt-du-prd.appspot.co...   \n",
       "1  https://du-gae-books-dot-nyt-du-prd.appspot.co...   \n",
       "2  https://du-gae-books-dot-nyt-du-prd.appspot.co...   \n",
       "3  https://du-gae-books-dot-nyt-du-prd.appspot.co...   \n",
       "4  https://du-gae-books-dot-nyt-du-prd.appspot.co...   \n",
       "\n",
       "                               Barnes_and_Nobel_Link  \\\n",
       "0  https://www.anrdoezrs.net/click-7990613-118195...   \n",
       "1  https://www.anrdoezrs.net/click-7990613-118195...   \n",
       "2  https://www.anrdoezrs.net/click-7990613-118195...   \n",
       "3  https://www.anrdoezrs.net/click-7990613-118195...   \n",
       "4  https://www.anrdoezrs.net/click-7990613-118195...   \n",
       "\n",
       "                                Books_A_Million_Link  \\\n",
       "0  https://www.anrdoezrs.net/click-7990613-35140?...   \n",
       "1  https://www.anrdoezrs.net/click-7990613-35140?...   \n",
       "2  https://www.anrdoezrs.net/click-7990613-35140?...   \n",
       "3  https://www.anrdoezrs.net/click-7990613-35140?...   \n",
       "4  https://www.anrdoezrs.net/click-7990613-35140?...   \n",
       "\n",
       "                               Bookshop_Link  \\\n",
       "0  https://bookshop.org/a/3546/9780385533133   \n",
       "1  https://bookshop.org/a/3546/9780316071901   \n",
       "2  https://bookshop.org/a/3546/9781439148501   \n",
       "3  https://bookshop.org/a/3546/9780399155345   \n",
       "4  https://bookshop.org/a/3546/9780399155970   \n",
       "\n",
       "                                     IndieBound_Link  \n",
       "0  https://www.indiebound.org/book/9780385533133?...  \n",
       "1  https://www.indiebound.org/book/9780316071901?...  \n",
       "2  https://www.indiebound.org/book/9781439148501?...  \n",
       "3  https://www.indiebound.org/book/9780399155345?...  \n",
       "4  https://www.indiebound.org/book/9780399155970?...  "
      ]
     },
     "execution_count": 5,
     "metadata": {},
     "output_type": "execute_result"
    }
   ],
   "source": [
    "new.head()"
   ]
  },
  {
   "cell_type": "code",
   "execution_count": null,
   "metadata": {},
   "outputs": [],
   "source": []
  }
 ],
 "metadata": {
  "kernelspec": {
   "display_name": "learn-env",
   "language": "python",
   "name": "learn-env"
  },
  "language_info": {
   "codemirror_mode": {
    "name": "ipython",
    "version": 3
   },
   "file_extension": ".py",
   "mimetype": "text/x-python",
   "name": "python",
   "nbconvert_exporter": "python",
   "pygments_lexer": "ipython3",
   "version": "3.6.13"
  },
  "toc": {
   "base_numbering": 1,
   "nav_menu": {},
   "number_sections": true,
   "sideBar": true,
   "skip_h1_title": false,
   "title_cell": "Table of Contents",
   "title_sidebar": "Contents",
   "toc_cell": false,
   "toc_position": {},
   "toc_section_display": true,
   "toc_window_display": false
  }
 },
 "nbformat": 4,
 "nbformat_minor": 4
}
