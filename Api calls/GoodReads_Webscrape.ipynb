{
 "cells": [
  {
   "cell_type": "code",
   "execution_count": 78,
   "id": "interesting-editing",
   "metadata": {
    "ExecuteTime": {
     "end_time": "2021-03-26T20:42:35.436491Z",
     "start_time": "2021-03-26T20:42:34.882113Z"
    }
   },
   "outputs": [],
   "source": [
    "import requests \n",
    "from bs4 import BeautifulSoup\n",
    "import numpy as np\n",
    "import pandas as pd\n",
    "from time import sleep\n",
    "from random import randint\n",
    "import datetime\n",
    "import pdb\n",
    "import re\n",
    "import os\n",
    "import json\n",
    "import time\n",
    "import datetime\n",
    "from pathlib import Path\n",
    "import pickle\n",
    "import dateutil\n",
    "import lxml\n",
    "from dateutil.relativedelta import relativedelta\n",
    "import random\n",
    "from os import system\n",
    "from math import floor\n",
    "from copy import deepcopy\n",
    "from selenium import webdriver\n",
    "from selenium.webdriver.chrome.options import Options\n",
    "from selenium.webdriver.common.by import By\n",
    "from selenium.webdriver.common.keys import Keys\n",
    "from selenium.common.exceptions import TimeoutException\n",
    "from selenium.webdriver.support.ui import WebDriverWait\n",
    "from selenium.webdriver.support import expected_conditions as EC\n",
    "from requests_html import HTMLSession"
   ]
  },
  {
   "cell_type": "code",
   "execution_count": 137,
   "id": "civil-norfolk",
   "metadata": {
    "ExecuteTime": {
     "end_time": "2021-03-26T21:34:03.487965Z",
     "start_time": "2021-03-26T21:34:03.465856Z"
    }
   },
   "outputs": [],
   "source": [
    "# options = Options()\n",
    "# options.headless = True\n",
    "# options.add_argument(\"--window-size=1920,1200\")\n",
    "\n",
    "# driver = webdriver.Chrome(options=options, executable_path=DRIVER_PATH)\n",
    "# driver.get(\"https://www.nintendo.com/\")\n",
    "# print(driver.page_source)\n",
    "# driver.quit()\n",
    "def send_request(num):\n",
    "    bad_list=[]\n",
    "    try:\n",
    "        base_url = 'https://www.goodreads.com/list/best_of_year/2015%22?id=86673.Best_Books_of_2015&page=1'\n",
    "        s = HTMLSession()\n",
    "        headers = {'Accept-Language': 'en-US,en;q=0.5',\n",
    "                    'User-Agent': 'Mozilla/5.0 (Macintosh; Intel Mac OS X 10.9; rv:50.0) Gecko/20100101 Firefox/50.0',\n",
    "                    'Referer': 'https://developer.mozilla.org/testpage.html',\n",
    "                    }\n",
    "        url = base_url+str(page)\n",
    "        r = s.get(url,headers=headers)\n",
    "        soup = BeautifulSoup(r.text,'html.parser')\n",
    "        table=soup.find('table')\n",
    "        blank = []\n",
    "        for booklist in table.find_all('tr'):\n",
    "            for book in booklist.find_all('a',href=True,title=True,class_=False):\n",
    "                blank.append(book['href'])\n",
    "        return blank\n",
    "    except KeyError as e:\n",
    "        bad_list.append(response)\n",
    "        print(bad_list)\n",
    "        print(e)\n",
    "    "
   ]
  },
  {
   "cell_type": "code",
   "execution_count": 175,
   "id": "aerial-blade",
   "metadata": {
    "ExecuteTime": {
     "end_time": "2021-03-26T21:51:21.268439Z",
     "start_time": "2021-03-26T21:51:21.258693Z"
    }
   },
   "outputs": [],
   "source": [
    "#new = send_request(25)"
   ]
  },
  {
   "cell_type": "code",
   "execution_count": 174,
   "id": "egyptian-cream",
   "metadata": {
    "ExecuteTime": {
     "end_time": "2021-03-26T21:43:35.951872Z",
     "start_time": "2021-03-26T21:43:32.097577Z"
    }
   },
   "outputs": [],
   "source": [
    "\n",
    "url = 'https://www.goodreads.com/list/best_of_year/2015%22?id=86673.Best_Books_of_2015&page=10'\n",
    "s = HTMLSession()\n",
    "headers = {'Accept-Language': 'en-US,en;q=0.5',\n",
    "           'User-Agent': 'Mozilla/5.0 (Macintosh; Intel Mac OS X 10.9; rv:50.0) Gecko/20100101 Firefox/50.0',\n",
    "           'Referer': 'https://developer.mozilla.org/testpage.html',\n",
    "          }\n",
    "r = s.get(base_url,headers=headers)\n",
    "soup = BeautifulSoup(r.text,'html.parser')"
   ]
  },
  {
   "cell_type": "code",
   "execution_count": 173,
   "id": "solved-bracket",
   "metadata": {
    "ExecuteTime": {
     "end_time": "2021-03-26T21:43:25.642554Z",
     "start_time": "2021-03-26T21:43:25.566230Z"
    }
   },
   "outputs": [
    {
     "data": {
      "text/plain": [
       "900"
      ]
     },
     "execution_count": 173,
     "metadata": {},
     "output_type": "execute_result"
    }
   ],
   "source": [
    "table=soup.find('table')\n",
    "for booklist in table.find_all('tr'):\n",
    "    for book in booklist.find_all('a',href=True,title=True,class_=False):\n",
    "        blank.append(book['href'])\n",
    "            # links = books.find_all('a', 'href')\n",
    "# blank = []\n",
    "# for item in books:\n",
    "#     for link in item.find_all('a', href =True):\n",
    "#         blank.append(link)\n",
    "len(blank)"
   ]
  },
  {
   "cell_type": "code",
   "execution_count": 219,
   "id": "suspected-suspect",
   "metadata": {
    "ExecuteTime": {
     "end_time": "2021-03-27T00:29:12.357398Z",
     "start_time": "2021-03-27T00:27:27.642563Z"
    }
   },
   "outputs": [
    {
     "data": {
      "text/plain": [
       "26245"
      ]
     },
     "execution_count": 219,
     "metadata": {},
     "output_type": "execute_result"
    }
   ],
   "source": [
    "# for x in range(1,18):\n",
    "#     s = HTMLSession()\n",
    "#     headers = {'Accept-Language': 'en-US,en;q=0.5',\n",
    "#                'User-Agent': 'Mozilla/5.0 (Macintosh; Intel Mac OS X 10.9; rv:50.0) Gecko/20100101 Firefox/50.0',\n",
    "#                'Referer': 'https://developer.mozilla.org/testpage.html',\n",
    "#               }\n",
    "#     url = f'https://www.goodreads.com/list/best_of_year/2008%22?id=4.Best_Books_of_2008&page={x}'\n",
    "#     r = s.get(url,headers=headers)\n",
    "#     soup = BeautifulSoup(r.text,'html.parser')\n",
    "#     table=soup.find('table')\n",
    "#     for booklist in table.find_all('tr'):\n",
    "#         for book in booklist.find_all('a',href=True,title=True,class_=False):\n",
    "#             blank.append(book['href'])\n",
    "#     sequence = [x/10 for x in range(10, 24)]\n",
    "#     time.sleep(random.choice(sequence))\n",
    "# len(blank)"
   ]
  },
  {
   "cell_type": "code",
   "execution_count": 409,
   "id": "czech-baghdad",
   "metadata": {
    "ExecuteTime": {
     "end_time": "2021-03-28T23:59:11.324113Z",
     "start_time": "2021-03-28T23:59:11.280281Z"
    }
   },
   "outputs": [
    {
     "data": {
      "text/plain": [
       "26226"
      ]
     },
     "execution_count": 409,
     "metadata": {},
     "output_type": "execute_result"
    }
   ],
   "source": [
    "len(blank)"
   ]
  },
  {
   "cell_type": "code",
   "execution_count": 223,
   "id": "athletic-closure",
   "metadata": {
    "ExecuteTime": {
     "end_time": "2021-03-27T00:39:09.904298Z",
     "start_time": "2021-03-27T00:39:09.730274Z"
    }
   },
   "outputs": [],
   "source": [
    "pd.to_pickle(blank,'./good_reads_book_ids.pkl','zip')"
   ]
  },
  {
   "cell_type": "code",
   "execution_count": 220,
   "id": "light-council",
   "metadata": {
    "ExecuteTime": {
     "end_time": "2021-03-27T00:29:34.192928Z",
     "start_time": "2021-03-27T00:29:34.182493Z"
    }
   },
   "outputs": [],
   "source": [
    "set_blank = set(blank)"
   ]
  },
  {
   "cell_type": "code",
   "execution_count": 221,
   "id": "social-candy",
   "metadata": {
    "ExecuteTime": {
     "end_time": "2021-03-27T00:29:37.123738Z",
     "start_time": "2021-03-27T00:29:37.113377Z"
    }
   },
   "outputs": [],
   "source": [
    "blank = list(set_blank)\n"
   ]
  },
  {
   "cell_type": "code",
   "execution_count": 404,
   "id": "swiss-experience",
   "metadata": {
    "ExecuteTime": {
     "end_time": "2021-03-28T20:40:47.584924Z",
     "start_time": "2021-03-28T20:40:47.560524Z"
    }
   },
   "outputs": [],
   "source": [
    "blank2 = blank[403:]"
   ]
  },
  {
   "cell_type": "code",
   "execution_count": 224,
   "id": "measured-master",
   "metadata": {
    "ExecuteTime": {
     "end_time": "2021-03-27T01:34:31.154055Z",
     "start_time": "2021-03-27T01:34:31.137552Z"
    }
   },
   "outputs": [],
   "source": [
    "blankTest = blank[:10]"
   ]
  },
  {
   "cell_type": "code",
   "execution_count": 225,
   "id": "weighted-candidate",
   "metadata": {
    "ExecuteTime": {
     "end_time": "2021-03-27T01:34:44.746110Z",
     "start_time": "2021-03-27T01:34:44.715004Z"
    }
   },
   "outputs": [
    {
     "data": {
      "text/plain": [
       "['/book/show/17559899-three',\n",
       " '/book/show/20561858-just-breathe',\n",
       " '/book/show/7150174-the-strange-case-of-origami-yoda',\n",
       " '/book/show/18007449-tumbleweeds',\n",
       " '/book/show/2205171.The_Art_of_Keeping_Secrets',\n",
       " '/book/show/13033665-the-good-dream',\n",
       " '/book/show/37503259-william-shakespeare-s-jedi-the-last',\n",
       " '/book/show/20609992-sleep-soundly-every-night-feel-fantastic-every-day',\n",
       " '/book/show/24611452-the-exhibitionist',\n",
       " '/book/show/29571343-merle']"
      ]
     },
     "execution_count": 225,
     "metadata": {},
     "output_type": "execute_result"
    }
   ],
   "source": [
    "blankTest"
   ]
  },
  {
   "cell_type": "code",
   "execution_count": 407,
   "id": "varied-belle",
   "metadata": {
    "ExecuteTime": {
     "end_time": "2021-03-28T22:44:32.374552Z",
     "start_time": "2021-03-28T22:19:51.634810Z"
    },
    "scrolled": true
   },
   "outputs": [
    {
     "name": "stdout",
     "output_type": "stream",
     "text": [
      "1\n",
      "2\n",
      "3\n",
      "4\n",
      "5\n",
      "6\n",
      "7\n",
      "8\n",
      "9\n",
      "10\n",
      "11\n",
      "12\n",
      "13\n",
      "14\n",
      "15\n",
      "16\n",
      "17\n",
      "18\n",
      "19\n",
      "20\n",
      "21\n",
      "22\n",
      "23\n",
      "24\n",
      "25\n",
      "26\n",
      "27\n",
      "28\n",
      "29\n",
      "30\n",
      "31\n",
      "32\n",
      "33\n",
      "34\n",
      "35\n",
      "36\n",
      "37\n",
      "38\n",
      "39\n",
      "40\n",
      "41\n",
      "42\n",
      "43\n",
      "44\n",
      "45\n",
      "46\n",
      "47\n",
      "48\n",
      "49\n",
      "50\n",
      "51\n",
      "52\n",
      "53\n",
      "54\n",
      "55\n",
      "56\n",
      "57\n",
      "58\n",
      "59\n",
      "60\n",
      "61\n",
      "62\n",
      "63\n",
      "64\n",
      "65\n",
      "66\n",
      "67\n",
      "68\n",
      "69\n",
      "70\n",
      "71\n",
      "72\n",
      "73\n",
      "74\n",
      "75\n",
      "76\n",
      "77\n",
      "78\n",
      "79\n",
      "80\n",
      "81\n",
      "82\n",
      "83\n",
      "84\n",
      "85\n",
      "86\n",
      "87\n",
      "88\n",
      "89\n",
      "90\n",
      "91\n",
      "92\n",
      "93\n",
      "94\n",
      "95\n",
      "96\n",
      "97\n",
      "98\n",
      "99\n",
      "100\n",
      "101\n",
      "102\n",
      "103\n",
      "104\n",
      "105\n",
      "106\n",
      "107\n",
      "108\n",
      "109\n",
      "110\n",
      "111\n",
      "112\n",
      "113\n",
      "114\n",
      "115\n",
      "116\n",
      "117\n",
      "118\n",
      "119\n",
      "120\n",
      "121\n",
      "122\n",
      "123\n",
      "124\n",
      "125\n",
      "126\n",
      "127\n",
      "128\n",
      "129\n",
      "130\n",
      "131\n",
      "132\n",
      "133\n",
      "134\n",
      "135\n",
      "136\n",
      "137\n",
      "138\n",
      "139\n",
      "140\n",
      "141\n",
      "142\n",
      "143\n",
      "144\n",
      "145\n",
      "146\n",
      "147\n",
      "148\n",
      "149\n",
      "150\n",
      "151\n",
      "152\n",
      "153\n",
      "154\n",
      "155\n",
      "156\n",
      "157\n",
      "158\n",
      "159\n",
      "160\n",
      "161\n",
      "162\n",
      "163\n",
      "164\n",
      "165\n",
      "166\n",
      "167\n",
      "168\n",
      "169\n",
      "170\n",
      "171\n",
      "172\n",
      "173\n",
      "174\n",
      "175\n",
      "176\n",
      "177\n",
      "178\n",
      "179\n",
      "180\n",
      "181\n",
      "['/book/show/21548148-veiled-warriors']\n",
      "'NoneType' object has no attribute 'text'\n"
     ]
    }
   ],
   "source": [
    "try:\n",
    "    masterList2 = []\n",
    "    badList = []\n",
    "    num = 0\n",
    "    for x in blank2:\n",
    "        num+= 1\n",
    "        print(num)\n",
    "        s = HTMLSession()\n",
    "        headers = {'Accept-Language': 'en-US,en;q=0.5',\n",
    "               'User-Agent': 'Mozilla/5.0 (Macintosh; Intel Mac OS X 10.9; rv:50.0) Gecko/20100101 Firefox/50.0',\n",
    "               'Referer': 'https://developer.mozilla.org/testpage.html',\n",
    "              }\n",
    "        url = f'https://www.goodreads.com{x}'\n",
    "        r = s.get(url,headers=headers)\n",
    "        soup = BeautifulSoup(r.text,'html.parser')\n",
    "        bookDict={\n",
    "        'Title':[],\n",
    "        'Author':[],\n",
    "        'AverageRating':[],\n",
    "        'NumOfPages':[],\n",
    "        'PubInfo':[],\n",
    "        'ASIN/ISBN':[],\n",
    "        'FirstGenre':[],\n",
    "        'SecondGenre':[],\n",
    "        'Reviews':[]\n",
    "            }\n",
    "        s = HTMLSession()\n",
    "        headers = {'Accept-Language': 'en-US,en;q=0.5',\n",
    "            'User-Agent': 'Mozilla/5.0 (Macintosh; Intel Mac OS X 10.9; rv:50.0) Gecko/20100101 Firefox/50.0',\n",
    "            'Referer': 'https://developer.mozilla.org/testpage.html',\n",
    "                }\n",
    "        url = f'https://www.goodreads.com{blankTest[0]}'\n",
    "        r = s.get(url,headers=headers)\n",
    "        soup = BeautifulSoup(r.text,'html.parser')\n",
    "        bookDict['Title'].append(soup.find('h1',id=\"bookTitle\").text.strip())\n",
    "        bookDict['Author'].append(soup.find('span',itemprop=\"name\").text)\n",
    "        bookDict['AverageRating'].append(soup.find('span',itemprop=\"ratingValue\").text.strip())\n",
    "        bookDict['NumOfPages'].append(soup.find('span',itemprop=\"numberOfPages\").text)\n",
    "        bookDict['PubInfo'].append(soup.find('div',class_=\"row\").find_next_sibling().text.strip().split())####needs to be joined with spaces\n",
    "        bookDict['ASIN/ISBN'].append(soup.find('div',itemprop=\"isbn\").text)\n",
    "        bookDict['FirstGenre'].append(soup.find('a',class_='bookPageGenreLink').text)\n",
    "        bookDict['SecondGenre'].append(soup.find('a',class_='bookPageGenreLink').find_next().text)\n",
    "        reviewsTotal = soup.find('div',id='bookReviews')\n",
    "        reviewlist = []\n",
    "        for reviews in reviewsTotal.find_all('span', id=True, style=\"display:none\"):\n",
    "            for review in reviews:\n",
    "                reviewlist.append(review)\n",
    "        bookDict['Reviews'].append(reviewlist)\n",
    "        masterList.append(pd.DataFrame(bookDict)) \n",
    "        sequence = [x/10 for x in range(10, 24)]\n",
    "        time.sleep(random.choice(sequence))\n",
    "except AttributeError as e:\n",
    "    badList.append(x)\n",
    "    print(badList)\n",
    "    print(e)\n",
    "        \n",
    "    "
   ]
  },
  {
   "cell_type": "code",
   "execution_count": 403,
   "id": "powerful-arena",
   "metadata": {
    "ExecuteTime": {
     "end_time": "2021-03-28T20:39:06.242858Z",
     "start_time": "2021-03-28T20:39:06.212224Z"
    },
    "scrolled": true
   },
   "outputs": [
    {
     "data": {
      "text/plain": [
       "401"
      ]
     },
     "execution_count": 403,
     "metadata": {},
     "output_type": "execute_result"
    }
   ],
   "source": [
    "len(masterList)"
   ]
  },
  {
   "cell_type": "code",
   "execution_count": 422,
   "id": "indian-polls",
   "metadata": {
    "ExecuteTime": {
     "end_time": "2021-03-29T00:54:39.294701Z",
     "start_time": "2021-03-29T00:54:35.183430Z"
    }
   },
   "outputs": [
    {
     "name": "stdout",
     "output_type": "stream",
     "text": [
      "1\n",
      "['/book/show/17559899-three']\n",
      "'HTMLResponse' object has no attribute 'getresponse'\n"
     ]
    }
   ],
   "source": [
    "try:\n",
    "    masterList = []\n",
    "    badList = []\n",
    "    num = 0\n",
    "    for x in blank:\n",
    "        num += 1\n",
    "        print(num)\n",
    "        s = HTMLSession()\n",
    "        headers = {'Accept-Language': 'en-US,en;q=0.5',\n",
    "               'User-Agent': 'Mozilla/5.0 (Macintosh; Intel Mac OS X 10.9; rv:50.0) Gecko/20100101 Firefox/50.0',\n",
    "               'Referer': 'https://developer.mozilla.org/testpage.html',\n",
    "              }\n",
    "        url = f'https://www.goodreads.com{x}'\n",
    "        r = s.get(url,headers=headers)\n",
    "        if r.getresponse().status == 200:\n",
    "            soup = BeautifulSoup(r.text,'html.parser')\n",
    "            bookDict={\n",
    "            'Title':[],\n",
    "            'Author':[],\n",
    "            'AverageRating':[],\n",
    "            'NumOfPages':[],\n",
    "            'PubInfo':[],\n",
    "            'ASIN/ISBN':[],\n",
    "            'FirstGenre':[],\n",
    "            'SecondGenre':[],\n",
    "            'Reviews':[]\n",
    "                }\n",
    "            if soup.find('h1',id=\"bookTitle\").text:\n",
    "                bookDict['Title'].append(soup.find('h1',id=\"bookTitle\").text.strip())\n",
    "            else:\n",
    "                bookDict['Title'].append('None')\n",
    "            if soup.find('span',itemprop=\"name\").text:\n",
    "                bookDict['Author'].append(soup.find('span',itemprop=\"name\").text)\n",
    "            else:\n",
    "                bookDict['Author'].append(\"None\")\n",
    "            if soup.find('span',itemprop=\"ratingValue\").text:\n",
    "                bookDict['AverageRating'].append(soup.find('span',itemprop=\"ratingValue\").text.strip())\n",
    "            else:\n",
    "                bookDict['AverageRating'].append('None')\n",
    "            if soup.find('span',itemprop=\"numberOfPages\").text:\n",
    "                bookDict['NumOfPages'].append(soup.find('span',itemprop=\"numberOfPages\").text)\n",
    "            else:\n",
    "                bookDict['NumOfPages'].append('None')\n",
    "            if soup.find('div',class_=\"row\").find_next_sibling().text:\n",
    "                bookDict['PubInfo'].append(soup.find('div',class_=\"row\").find_next_sibling().text.strip().split())####needs to be joined with spaces\n",
    "            else:\n",
    "                bookDict['PubInfo'].append('None')\n",
    "            if soup.find('div',itemprop=\"isbn\").text:\n",
    "                bookDict['ASIN/ISBN'].append(soup.find('div',itemprop=\"isbn\").text)\n",
    "            else:\n",
    "                bookDict['ASIN/ISBN'].append(\"None\")\n",
    "            if soup.find('a',class_='bookPageGenreLink').text:\n",
    "                bookDict['FirstGenre'].append(soup.find('a',class_='bookPageGenreLink').text)\n",
    "            else:\n",
    "                bookDict['FirstGenre'].append('None')\n",
    "            if soup.find('a',class_='bookPageGenreLink').find_next().text:\n",
    "                bookDict['SecondGenre'].append(soup.find('a',class_='bookPageGenreLink').find_next().text)\n",
    "            else:\n",
    "                bookDict['SecondGenre'].append('None')\n",
    "            reviewsTotal = soup.find('div',id='bookReviews')\n",
    "            reviewlist = []\n",
    "            for reviews in reviewsTotal.find_all('span', id=True, style=\"display:none\"):\n",
    "                for review in reviews:\n",
    "                    reviewlist.append(review)\n",
    "            bookDict['Reviews'].append(reviewlist)\n",
    "            masterList.append(pd.DataFrame(bookDict)) \n",
    "            sequence = [x/10 for x in range(12, 24)]\n",
    "            time.sleep(random.choice(sequence))\n",
    "except AttributeError as e:\n",
    "    badList.append(x)\n",
    "    print(badList)\n",
    "    print(e)"
   ]
  },
  {
   "cell_type": "code",
   "execution_count": 392,
   "id": "legitimate-affairs",
   "metadata": {
    "ExecuteTime": {
     "end_time": "2021-03-28T18:16:03.799758Z",
     "start_time": "2021-03-28T18:15:59.787926Z"
    }
   },
   "outputs": [],
   "source": [
    "book1Dict={\n",
    "    'Title':[],\n",
    "    'Author':[],\n",
    "    'AverageRating':[],\n",
    "    'NumOfPages':[],\n",
    "    'PubInfo':[],\n",
    "    'ASIN/ISBN':[],\n",
    "    'FirstGenre':[],\n",
    "    'SecondGenre':[],\n",
    "    'Reviews':[]\n",
    "}\n",
    "s = HTMLSession()\n",
    "headers = {'Accept-Language': 'en-US,en;q=0.5',\n",
    "            'User-Agent': 'Mozilla/5.0 (Macintosh; Intel Mac OS X 10.9; rv:50.0) Gecko/20100101 Firefox/50.0',\n",
    "            'Referer': 'https://developer.mozilla.org/testpage.html',\n",
    "            }\n",
    "url = f'https://www.goodreads.com{blankTest[0]}'\n",
    "r = s.get(url,headers=headers)\n",
    "soup = BeautifulSoup(r.text,'html.parser')\n",
    "book1Dict['Title'].append(soup.find('h1',id=\"bookTitle\").text.strip())\n",
    "book1Dict['Author'].append(soup.find('span',itemprop=\"name\").text)\n",
    "book1Dict['AverageRating'].append(soup.find('span',itemprop=\"ratingValue\").text.strip())\n",
    "book1Dict['NumOfPages'].append(soup.find('span',itemprop=\"numberOfPages\").text)\n",
    "book1Dict['PubInfo'].append(soup.find('div',class_=\"row\").find_next_sibling().text.strip().split())####needs to be joined with spaces\n",
    "book1Dict['ASIN/ISBN'].append(soup.find('div',itemprop=\"isbn\").text)\n",
    "book1Dict['FirstGenre'].append(soup.find('a',class_='bookPageGenreLink').text)\n",
    "book1Dict['SecondGenre'].append(soup.find('a',class_='bookPageGenreLink').find_next().text)\n",
    "reviewsTotal = soup.find('div',id='bookReviews')\n",
    "reviewlist = []\n",
    "for reviews in reviewsTotal.find_all('span', id=True, style=\"display:none\"):\n",
    "    for review in reviews:\n",
    "        reviewlist.append(review)\n",
    "book1Dict['Reviews'].append(reviewlist)\n",
    "sequence = [x/10 for x in range(10, 24)]\n",
    "time.sleep(random.choice(sequence))"
   ]
  },
  {
   "cell_type": "code",
   "execution_count": 390,
   "id": "comic-albania",
   "metadata": {
    "ExecuteTime": {
     "end_time": "2021-03-28T18:10:46.503460Z",
     "start_time": "2021-03-28T18:10:46.315246Z"
    }
   },
   "outputs": [
    {
     "data": {
      "text/html": [
       "<div>\n",
       "<style scoped>\n",
       "    .dataframe tbody tr th:only-of-type {\n",
       "        vertical-align: middle;\n",
       "    }\n",
       "\n",
       "    .dataframe tbody tr th {\n",
       "        vertical-align: top;\n",
       "    }\n",
       "\n",
       "    .dataframe thead th {\n",
       "        text-align: right;\n",
       "    }\n",
       "</style>\n",
       "<table border=\"1\" class=\"dataframe\">\n",
       "  <thead>\n",
       "    <tr style=\"text-align: right;\">\n",
       "      <th></th>\n",
       "      <th>Title</th>\n",
       "      <th>Author</th>\n",
       "      <th>AverageRating</th>\n",
       "      <th>NumOfPages</th>\n",
       "      <th>PubInfo</th>\n",
       "      <th>ASIN/ISBN</th>\n",
       "      <th>FirstGenre</th>\n",
       "      <th>SecondGenre</th>\n",
       "      <th>Reviews</th>\n",
       "    </tr>\n",
       "  </thead>\n",
       "  <tbody>\n",
       "    <tr>\n",
       "      <th>0</th>\n",
       "      <td>Three</td>\n",
       "      <td>Kristen Simmons</td>\n",
       "      <td>4.07</td>\n",
       "      <td>384 pages</td>\n",
       "      <td>[Published, February, 11th, 2014, by, Tor, Teen]</td>\n",
       "      <td>B00EGJ6L3Q</td>\n",
       "      <td>Science Fiction</td>\n",
       "      <td>Dystopia</td>\n",
       "      <td>[Dear Kristen Simmons:, [], [\\n, [], \\n], [], ...</td>\n",
       "    </tr>\n",
       "  </tbody>\n",
       "</table>\n",
       "</div>"
      ],
      "text/plain": [
       "   Title           Author AverageRating NumOfPages  \\\n",
       "0  Three  Kristen Simmons          4.07  384 pages   \n",
       "\n",
       "                                            PubInfo   ASIN/ISBN  \\\n",
       "0  [Published, February, 11th, 2014, by, Tor, Teen]  B00EGJ6L3Q   \n",
       "\n",
       "        FirstGenre SecondGenre  \\\n",
       "0  Science Fiction    Dystopia   \n",
       "\n",
       "                                             Reviews  \n",
       "0  [Dear Kristen Simmons:, [], [\\n, [], \\n], [], ...  "
      ]
     },
     "execution_count": 390,
     "metadata": {},
     "output_type": "execute_result"
    }
   ],
   "source": [
    "pd.DataFrame(book1Dict)"
   ]
  },
  {
   "cell_type": "code",
   "execution_count": 259,
   "id": "fewer-comedy",
   "metadata": {
    "ExecuteTime": {
     "end_time": "2021-03-27T02:36:33.183651Z",
     "start_time": "2021-03-27T02:36:33.170361Z"
    }
   },
   "outputs": [],
   "source": [
    "#title = soup.find('h1',id=\"bookTitle\").text.strip()\n",
    "#author = soup.find('span',itemprop=\"name\").text\n",
    "#rating = soup.find('span',itemprop=\"ratingValue\").text.strip()\n",
    "#NumOfPages = soup.find('span',itemprop=\"numberOfPages\").text\n",
    "#pubInfo = soup.find('div',class_=\"row\").find_next_sibling().text.strip().split()####needs to be joined with spaces\n",
    "#asin/isbn = soup.find('div',itemprop=\"isbn\").text\n",
    "#first_genre = soup.find('a',class_='bookPageGenreLink').text\n",
    "#second_genre = soup.find('a',class_='bookPageGenreLink').find_next().text\n",
    "reviwsTotal = soup.find('div',id='bookReviews')\n",
    "for reviews in bookinfo.find_all('span', id=True, style=\"display:none\"):\n",
    "    for review in reviews:\n",
    "        append review to list\n"
   ]
  },
  {
   "cell_type": "code",
   "execution_count": null,
   "id": "changed-screen",
   "metadata": {},
   "outputs": [],
   "source": []
  }
 ],
 "metadata": {
  "kernelspec": {
   "display_name": "learn-env",
   "language": "python",
   "name": "learn-env"
  },
  "language_info": {
   "codemirror_mode": {
    "name": "ipython",
    "version": 3
   },
   "file_extension": ".py",
   "mimetype": "text/x-python",
   "name": "python",
   "nbconvert_exporter": "python",
   "pygments_lexer": "ipython3",
   "version": "3.6.13"
  },
  "toc": {
   "base_numbering": 1,
   "nav_menu": {},
   "number_sections": true,
   "sideBar": true,
   "skip_h1_title": false,
   "title_cell": "Table of Contents",
   "title_sidebar": "Contents",
   "toc_cell": false,
   "toc_position": {},
   "toc_section_display": true,
   "toc_window_display": false
  }
 },
 "nbformat": 4,
 "nbformat_minor": 5
}
