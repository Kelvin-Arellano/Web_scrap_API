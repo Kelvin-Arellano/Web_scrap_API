{
 "cells": [
  {
   "cell_type": "code",
   "execution_count": 2,
   "id": "isolated-aside",
   "metadata": {
    "ExecuteTime": {
     "end_time": "2021-03-28T18:45:37.534756Z",
     "start_time": "2021-03-28T18:45:23.827400Z"
    }
   },
   "outputs": [],
   "source": [
    "import pandas as pd\n",
    "import numpy as np\n",
    "import xgboost as xgb\n",
    "from tqdm import tqdm\n",
    "from sklearn.svm import SVC\n",
    "from keras.models import Sequential\n",
    "from keras.layers.recurrent import LSTM, GRU\n",
    "from keras.layers.core import Dense, Activation, Dropout\n",
    "from keras.layers.embeddings import Embedding\n",
    "from keras.layers.normalization import BatchNormalization\n",
    "from keras.utils import np_utils\n",
    "from sklearn import preprocessing, decomposition, model_selection, metrics, pipeline\n",
    "from sklearn.model_selection import GridSearchCV\n",
    "from sklearn.feature_extraction.text import TfidfVectorizer, CountVectorizer\n",
    "from sklearn.decomposition import TruncatedSVD\n",
    "from sklearn.linear_model import LogisticRegression\n",
    "from sklearn.model_selection import train_test_split\n",
    "from sklearn.naive_bayes import MultinomialNB\n",
    "from keras.layers import GlobalMaxPooling1D, Conv1D, MaxPooling1D, Flatten, Bidirectional, SpatialDropout1D\n",
    "from keras.preprocessing import sequence, text\n",
    "from keras.callbacks import EarlyStopping\n",
    "from nltk import word_tokenize\n",
    "from nltk.corpus import stopwords\n",
    "stop_words = stopwords.words('english')"
   ]
  },
  {
   "cell_type": "code",
   "execution_count": 8,
   "id": "necessary-flight",
   "metadata": {
    "ExecuteTime": {
     "end_time": "2021-03-28T19:02:45.439727Z",
     "start_time": "2021-03-28T19:02:43.633648Z"
    }
   },
   "outputs": [],
   "source": [
    "pos = pd.read_csv('../data/possitive_case.csv')\n",
    "neg = pd.read_csv('../data/negative_case.csv')"
   ]
  },
  {
   "cell_type": "code",
   "execution_count": 9,
   "id": "valid-yellow",
   "metadata": {
    "ExecuteTime": {
     "end_time": "2021-03-28T19:03:08.716013Z",
     "start_time": "2021-03-28T19:03:08.709556Z"
    }
   },
   "outputs": [],
   "source": [
    "neg_columns = ['Unnamed: 0','marketplace','star_rating','helpful_votes','total_votes','verified_purchase','review_headline','review_date','product_title']"
   ]
  },
  {
   "cell_type": "code",
   "execution_count": 10,
   "id": "atlantic-texas",
   "metadata": {
    "ExecuteTime": {
     "end_time": "2021-03-28T19:03:32.719452Z",
     "start_time": "2021-03-28T19:03:32.695675Z"
    }
   },
   "outputs": [],
   "source": [
    "neg_reviews_df = neg.drop(columns=neg_columns)"
   ]
  },
  {
   "cell_type": "code",
   "execution_count": 11,
   "id": "chief-polish",
   "metadata": {
    "ExecuteTime": {
     "end_time": "2021-03-28T19:03:35.471770Z",
     "start_time": "2021-03-28T19:03:35.460866Z"
    }
   },
   "outputs": [],
   "source": [
    "pos['Status'] = 1"
   ]
  },
  {
   "cell_type": "code",
   "execution_count": 12,
   "id": "bigger-grave",
   "metadata": {
    "ExecuteTime": {
     "end_time": "2021-03-28T19:03:44.256587Z",
     "start_time": "2021-03-28T19:03:44.232637Z"
    }
   },
   "outputs": [],
   "source": [
    "pos_reviews_df = pos.drop(columns=neg_columns)"
   ]
  },
  {
   "cell_type": "code",
   "execution_count": 13,
   "id": "rotary-sponsorship",
   "metadata": {
    "ExecuteTime": {
     "end_time": "2021-03-28T19:03:56.499765Z",
     "start_time": "2021-03-28T19:03:56.495346Z"
    }
   },
   "outputs": [],
   "source": [
    "join = [pos_reviews_df,neg_reviews_df]"
   ]
  },
  {
   "cell_type": "code",
   "execution_count": 14,
   "id": "ambient-monroe",
   "metadata": {
    "ExecuteTime": {
     "end_time": "2021-03-28T19:04:05.258023Z",
     "start_time": "2021-03-28T19:04:05.229216Z"
    }
   },
   "outputs": [],
   "source": [
    "joined = pd.concat(join)"
   ]
  },
  {
   "cell_type": "code",
   "execution_count": 15,
   "id": "received-sterling",
   "metadata": {
    "ExecuteTime": {
     "end_time": "2021-03-28T19:04:20.507738Z",
     "start_time": "2021-03-28T19:04:20.409535Z"
    }
   },
   "outputs": [],
   "source": [
    "joined = joined.dropna()"
   ]
  },
  {
   "cell_type": "code",
   "execution_count": null,
   "id": "palestinian-damage",
   "metadata": {},
   "outputs": [],
   "source": []
  }
 ],
 "metadata": {
  "kernelspec": {
   "display_name": "learn-env",
   "language": "python",
   "name": "learn-env"
  },
  "language_info": {
   "codemirror_mode": {
    "name": "ipython",
    "version": 3
   },
   "file_extension": ".py",
   "mimetype": "text/x-python",
   "name": "python",
   "nbconvert_exporter": "python",
   "pygments_lexer": "ipython3",
   "version": "3.6.13"
  },
  "toc": {
   "base_numbering": 1,
   "nav_menu": {},
   "number_sections": true,
   "sideBar": true,
   "skip_h1_title": false,
   "title_cell": "Table of Contents",
   "title_sidebar": "Contents",
   "toc_cell": false,
   "toc_position": {},
   "toc_section_display": true,
   "toc_window_display": false
  }
 },
 "nbformat": 4,
 "nbformat_minor": 5
}
