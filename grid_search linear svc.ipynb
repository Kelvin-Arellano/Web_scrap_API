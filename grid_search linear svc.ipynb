{
 "cells": [
  {
   "cell_type": "code",
   "execution_count": 1,
   "id": "enabling-tobacco",
   "metadata": {
    "ExecuteTime": {
     "end_time": "2021-03-24T00:50:32.401693Z",
     "start_time": "2021-03-24T00:50:16.140362Z"
    }
   },
   "outputs": [],
   "source": [
    "import numpy as np\n",
    "import pandas as pd\n",
    "import matplotlib.pyplot as plt\n",
    "import seaborn as sns\n",
    "from wordcloud import WordCloud\n",
    "from time import sleep\n",
    "from random import randint\n",
    "import pdb\n",
    "import re\n",
    "import os\n",
    "import time\n",
    "from pathlib import Path\n",
    "import pickle\n",
    "import random\n",
    "from os import system\n",
    "from copy import deepcopy\n",
    "from dask import dataframe as dd\n",
    "from sklearn.metrics import classification_report\n",
    "import xgboost as xgb\n",
    "from tqdm import tqdm\n",
    "from sklearn.svm import SVC\n",
    "from sklearn.metrics import confusion_matrix\n",
    "from sklearn import preprocessing, decomposition, model_selection, metrics, pipeline\n",
    "from sklearn.model_selection import GridSearchCV\n",
    "from sklearn.feature_extraction.text import TfidfVectorizer, CountVectorizer\n",
    "from sklearn.decomposition import TruncatedSVD\n",
    "from sklearn.svm import LinearSVC\n",
    "from sklearn.naive_bayes import BernoulliNB\n",
    "from sklearn.linear_model import LogisticRegression\n",
    "from sklearn.model_selection import train_test_split\n",
    "from nltk import word_tokenize\n",
    "from nltk.stem import WordNetLemmatizer\n",
    "from nltk.corpus import stopwords\n",
    "stop_words = stopwords.words('english')"
   ]
  },
  {
   "cell_type": "code",
   "execution_count": 2,
   "id": "passing-bidder",
   "metadata": {
    "ExecuteTime": {
     "end_time": "2021-03-24T00:51:25.960390Z",
     "start_time": "2021-03-24T00:51:15.282424Z"
    }
   },
   "outputs": [],
   "source": [
    "pos = pd.read_csv('./data/possitive_case.csv')\n",
    "neg = pd.read_csv('./data/negative_case.csv')"
   ]
  },
  {
   "cell_type": "code",
   "execution_count": 3,
   "id": "sporting-swaziland",
   "metadata": {
    "ExecuteTime": {
     "end_time": "2021-03-24T00:52:28.996139Z",
     "start_time": "2021-03-24T00:52:28.974978Z"
    }
   },
   "outputs": [],
   "source": [
    "neg_columns = ['Unnamed: 0','marketplace','star_rating','helpful_votes','total_votes','verified_purchase','review_headline','review_date','product_title']"
   ]
  },
  {
   "cell_type": "code",
   "execution_count": 4,
   "id": "ordered-investigator",
   "metadata": {
    "ExecuteTime": {
     "end_time": "2021-03-24T00:52:29.500295Z",
     "start_time": "2021-03-24T00:52:29.426320Z"
    }
   },
   "outputs": [],
   "source": [
    "neg_reviews_df = neg.drop(columns=neg_columns)"
   ]
  },
  {
   "cell_type": "code",
   "execution_count": 5,
   "id": "hourly-egyptian",
   "metadata": {
    "ExecuteTime": {
     "end_time": "2021-03-24T00:52:29.711748Z",
     "start_time": "2021-03-24T00:52:29.689069Z"
    }
   },
   "outputs": [],
   "source": [
    "pos['Status'] = 1"
   ]
  },
  {
   "cell_type": "code",
   "execution_count": 6,
   "id": "julian-challenge",
   "metadata": {
    "ExecuteTime": {
     "end_time": "2021-03-24T00:52:30.021286Z",
     "start_time": "2021-03-24T00:52:29.997394Z"
    }
   },
   "outputs": [],
   "source": [
    "pos_reviews_df = pos.drop(columns=neg_columns)"
   ]
  },
  {
   "cell_type": "code",
   "execution_count": 7,
   "id": "thorough-sucking",
   "metadata": {
    "ExecuteTime": {
     "end_time": "2021-03-24T00:52:30.400663Z",
     "start_time": "2021-03-24T00:52:30.395185Z"
    }
   },
   "outputs": [],
   "source": [
    "join = [pos_reviews_df,neg_reviews_df]"
   ]
  },
  {
   "cell_type": "code",
   "execution_count": 8,
   "id": "opposite-chinese",
   "metadata": {
    "ExecuteTime": {
     "end_time": "2021-03-24T00:52:30.782099Z",
     "start_time": "2021-03-24T00:52:30.755535Z"
    }
   },
   "outputs": [],
   "source": [
    "joined = pd.concat(join)"
   ]
  },
  {
   "cell_type": "code",
   "execution_count": 9,
   "id": "absolute-barbados",
   "metadata": {
    "ExecuteTime": {
     "end_time": "2021-03-24T00:52:31.349007Z",
     "start_time": "2021-03-24T00:52:31.141997Z"
    }
   },
   "outputs": [],
   "source": [
    "joined = joined.dropna()"
   ]
  },
  {
   "cell_type": "code",
   "execution_count": 10,
   "id": "continued-webcam",
   "metadata": {
    "ExecuteTime": {
     "end_time": "2021-03-24T00:52:32.065807Z",
     "start_time": "2021-03-24T00:52:31.442155Z"
    }
   },
   "outputs": [],
   "source": [
    "text, status = list(joined['review_body']), list(joined['Status'])\n"
   ]
  },
  {
   "cell_type": "code",
   "execution_count": 11,
   "id": "italian-morning",
   "metadata": {
    "ExecuteTime": {
     "end_time": "2021-03-24T00:52:32.401432Z",
     "start_time": "2021-03-24T00:52:32.093125Z"
    }
   },
   "outputs": [],
   "source": [
    "emojis = {':)': 'smile', ':-)': 'smile', ';d': 'wink', ':-E': 'vampire', ':(': 'sad', \n",
    "          ':-(': 'sad', ':-<': 'sad', ':P': 'raspberry', ':O': 'surprised',\n",
    "          ':-@': 'shocked', ':@': 'shocked',':-$': 'confused', ':\\\\': 'annoyed', \n",
    "          ':#': 'mute', ':X': 'mute', ':^)': 'smile', ':-&': 'confused', '$_$': 'greedy',\n",
    "          '@@': 'eyeroll', ':-!': 'confused', ':-D': 'smile', ':-0': 'yell', 'O.o': 'confused',\n",
    "          '<(-_-)>': 'robot', 'd[-_-]b': 'dj', \":'-)\": 'sadsmile', ';)': 'wink', \n",
    "          ';-)': 'wink', 'O:-)': 'angel','O*-)': 'angel','(:-D': 'gossip', '=^.^=': 'cat'}\n",
    "\n",
    "Url_Pattern = r\"((http://)[^ ]*|(https://)[^ ]*|( www\\.)[^ ]*)\"\n",
    "User_Pattern = '@[^\\s]+'\n",
    "Alph_Num_Pattern = \"[^a-zA-Z0-9]\"\n",
    "Repeat_Pattern = r\"(.)\\1\\1+\"\n",
    "Replace_Pattern = r\"\\1\\1\"\n",
    "\n",
    "def process_words(text):\n",
    "    processed_text = []\n",
    "    wordLemm = WordNetLemmatizer()\n",
    "    for review in text:\n",
    "        review = re.sub(Alph_Num_Pattern, ' ', review)\n",
    "        review = review.lower()\n",
    "        review = re.sub(Url_Pattern, 'Url', review)\n",
    "        for emoji in emojis.keys():\n",
    "            review = review.replace(emoji, emojis[emoji])\n",
    "        review = re.sub(User_Pattern, 'User', review)\n",
    "        review = re.sub(Repeat_Pattern, Replace_Pattern, review)\n",
    "        review_words = ''\n",
    "        for word in review.split():\n",
    "            if len(word)>1:\n",
    "                word = wordLemm.lemmatize(word)\n",
    "                review_words += (word+' ')\n",
    "                \n",
    "        processed_text.append(review_words)\n",
    "    return processed_text\n",
    "    "
   ]
  },
  {
   "cell_type": "code",
   "execution_count": 12,
   "id": "selective-service",
   "metadata": {
    "ExecuteTime": {
     "end_time": "2021-03-24T01:00:10.294215Z",
     "start_time": "2021-03-24T00:52:32.434617Z"
    }
   },
   "outputs": [
    {
     "name": "stdout",
     "output_type": "stream",
     "text": [
      "Text Preprocessing complete.\n",
      "Time Taken: 458 seconds\n"
     ]
    }
   ],
   "source": [
    "t = time.time()\n",
    "processedtext = process_words(text)\n",
    "print(f'Text Preprocessing complete.')\n",
    "print(f'Time Taken: {round(time.time()-t)} seconds')"
   ]
  },
  {
   "cell_type": "code",
   "execution_count": 13,
   "id": "material-rebound",
   "metadata": {
    "ExecuteTime": {
     "end_time": "2021-03-24T01:00:12.613796Z",
     "start_time": "2021-03-24T01:00:10.317773Z"
    }
   },
   "outputs": [
    {
     "name": "stdout",
     "output_type": "stream",
     "text": [
      "Data Split done.\n"
     ]
    }
   ],
   "source": [
    "X_train, X_test, y_train, y_test = train_test_split(processedtext, status,\n",
    "                                                    test_size = 0.2, random_state = 0)\n",
    "print(f'Data Split done.')"
   ]
  },
  {
   "cell_type": "code",
   "execution_count": 14,
   "id": "responsible-underwear",
   "metadata": {
    "ExecuteTime": {
     "end_time": "2021-03-24T01:03:33.857508Z",
     "start_time": "2021-03-24T01:00:12.694565Z"
    }
   },
   "outputs": [
    {
     "name": "stdout",
     "output_type": "stream",
     "text": [
      "Vectoriser fitted.\n",
      "No. of feature_words:  400000\n"
     ]
    }
   ],
   "source": [
    "vectoriser = TfidfVectorizer(ngram_range=(1,2), max_features=400000)\n",
    "X_train = vectoriser.fit_transform(X_train)\n",
    "X_test = vectoriser.transform(X_test)\n",
    "print(f'Vectoriser fitted.')\n",
    "print('No. of feature_words: ', len(vectoriser.get_feature_names()))"
   ]
  },
  {
   "cell_type": "code",
   "execution_count": 15,
   "id": "popular-sponsorship",
   "metadata": {
    "ExecuteTime": {
     "end_time": "2021-03-24T01:03:34.137728Z",
     "start_time": "2021-03-24T01:03:34.046823Z"
    }
   },
   "outputs": [],
   "source": [
    "def model_Evaluate(model):\n",
    "    \n",
    "    # Predict values for Test dataset\n",
    "    y_pred = model.predict(X_test)\n",
    "\n",
    "    # Print the evaluation metrics for the dataset.\n",
    "    print(classification_report(y_test, y_pred))\n",
    "    \n",
    "    # Compute and plot the Confusion matrix\n",
    "    cf_matrix = confusion_matrix(y_test, y_pred)\n",
    "\n",
    "    categories  = ['Negative','Positive']\n",
    "    group_names = ['True Neg','False Pos', 'False Neg','True Pos']\n",
    "    group_percentages = ['{0:.2%}'.format(value) for value in cf_matrix.flatten() / np.sum(cf_matrix)]\n",
    "\n",
    "    labels = [f'{v1}\\n{v2}' for v1, v2 in zip(group_names,group_percentages)]\n",
    "    labels = np.asarray(labels).reshape(2,2)\n",
    "\n",
    "    sns.heatmap(cf_matrix, annot = labels, cmap = 'Blues',fmt = '',\n",
    "                xticklabels = categories, yticklabels = categories)\n",
    "\n",
    "    plt.xlabel(\"Predicted values\", fontdict = {'size':14}, labelpad = 10)\n",
    "    plt.ylabel(\"Actual values\"   , fontdict = {'size':14}, labelpad = 10)\n",
    "    plt.title (\"Confusion Matrix\", fontdict = {'size':18}, pad = 20)"
   ]
  },
  {
   "cell_type": "code",
   "execution_count": 16,
   "id": "stock-sauce",
   "metadata": {
    "ExecuteTime": {
     "end_time": "2021-03-24T01:04:14.699763Z",
     "start_time": "2021-03-24T01:03:34.145258Z"
    }
   },
   "outputs": [
    {
     "name": "stdout",
     "output_type": "stream",
     "text": [
      "              precision    recall  f1-score   support\n",
      "\n",
      "           0       0.75      0.75      0.75     31484\n",
      "           1       0.74      0.75      0.74     30777\n",
      "\n",
      "    accuracy                           0.75     62261\n",
      "   macro avg       0.75      0.75      0.75     62261\n",
      "weighted avg       0.75      0.75      0.75     62261\n",
      "\n"
     ]
    },
    {
     "data": {
      "image/png": "[encoded data removed]",
      "text/plain": [
       "<Figure size 432x288 with 2 Axes>"
      ]
     },
     "metadata": {
      "needs_background": "light"
     },
     "output_type": "display_data"
    }
   ],
   "source": [
    "LineSVCmodel = LinearSVC()\n",
    "LineSVCmodel.fit(X_train, y_train)\n",
    "model_Evaluate(LineSVCmodel)"
   ]
  },
  {
   "cell_type": "code",
   "execution_count": 17,
   "id": "pressed-webster",
   "metadata": {
    "ExecuteTime": {
     "end_time": "2021-03-24T01:04:14.722710Z",
     "start_time": "2021-03-24T01:04:14.708218Z"
    }
   },
   "outputs": [],
   "source": [
    "LinearSVCParams = {\n",
    "    'penalty':['l1','l2'],\n",
    "    'loss':['square','squared_hinge'],\n",
    "    'C':[1.0,10.0,100.0,1000.0],\n",
    "    'tol':[1e-5,1e-4,1e-3,1e-2,1e-1]\n",
    "}"
   ]
  },
  {
   "cell_type": "code",
   "execution_count": 20,
   "id": "removed-apollo",
   "metadata": {
    "ExecuteTime": {
     "end_time": "2021-03-24T11:19:05.979797Z",
     "start_time": "2021-03-24T11:19:05.740555Z"
    }
   },
   "outputs": [],
   "source": [
    "\n",
    "grid_LinearSVC = GridSearchCV(estimator=LinearSVC(),\n",
    "                    param_grid=LinearSVCParams,\n",
    "                    scoring='accuracy',\n",
    "                    verbose=1,\n",
    "                    n_jobs=-1)\n",
    "\n",
    "#result_grid_SVC = grid_LinearSVC.fit(X_train, y_train)"
   ]
  },
  {
   "cell_type": "code",
   "execution_count": null,
   "id": "checked-maintenance",
   "metadata": {},
   "outputs": [],
   "source": []
  }
 ],
 "metadata": {
  "kernelspec": {
   "display_name": "learn-env",
   "language": "python",
   "name": "learn-env"
  },
  "language_info": {
   "codemirror_mode": {
    "name": "ipython",
    "version": 3
   },
   "file_extension": ".py",
   "mimetype": "text/x-python",
   "name": "python",
   "nbconvert_exporter": "python",
   "pygments_lexer": "ipython3",
   "version": "3.6.13"
  },
  "toc": {
   "base_numbering": 1,
   "nav_menu": {},
   "number_sections": true,
   "sideBar": true,
   "skip_h1_title": false,
   "title_cell": "Table of Contents",
   "title_sidebar": "Contents",
   "toc_cell": false,
   "toc_position": {},
   "toc_section_display": true,
   "toc_window_display": false
  }
 },
 "nbformat": 4,
 "nbformat_minor": 5
}
