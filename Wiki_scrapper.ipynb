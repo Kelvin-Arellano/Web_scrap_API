{
 "cells": [
  {
   "cell_type": "code",
   "execution_count": 24,
   "id": "attractive-stopping",
   "metadata": {
    "ExecuteTime": {
     "end_time": "2021-03-17T19:04:07.394504Z",
     "start_time": "2021-03-17T19:04:07.308015Z"
    }
   },
   "outputs": [],
   "source": [
    "import requests \n",
    "from bs4 import BeautifulSoup\n",
    "import numpy as np\n",
    "import pandas as pd\n",
    "from time import sleep\n",
    "from random import randint\n",
    "import datetime\n",
    "import pdb\n",
    "import re\n",
    "import os\n",
    "import json\n",
    "import time\n",
    "import datetime\n",
    "from pathlib import Path\n",
    "import pickle\n",
    "import dateutil\n",
    "from selenium import webdriver\n",
    "import lxml\n",
    "from dateutil.relativedelta import relativedelta\n",
    "import time\n",
    "import random\n",
    "from os import system\n",
    "from math import floor\n",
    "from copy import deepcopy\n",
    "from selenium.webdriver.common.by import By\n",
    "from selenium.webdriver.common.keys import Keys\n",
    "from selenium.common.exceptions import TimeoutException\n",
    "from selenium.webdriver.support.ui import WebDriverWait\n",
    "from selenium.webdriver.support import expected_conditions as EC\n"
   ]
  },
  {
   "cell_type": "code",
   "execution_count": 11,
   "id": "dominant-dominant",
   "metadata": {
    "ExecuteTime": {
     "end_time": "2021-03-16T15:54:05.109715Z",
     "start_time": "2021-03-16T15:54:04.951618Z"
    }
   },
   "outputs": [],
   "source": [
    "response = requests.get(url='https://en.wikipedia.org/wiki/1635:_The_Eastern_Front')"
   ]
  },
  {
   "cell_type": "code",
   "execution_count": 19,
   "id": "upper-spelling",
   "metadata": {
    "ExecuteTime": {
     "end_time": "2021-03-16T15:58:22.794781Z",
     "start_time": "2021-03-16T15:58:22.604452Z"
    }
   },
   "outputs": [],
   "source": [
    "soup = BeautifulSoup(response.content, 'html.parser')"
   ]
  },
  {
   "cell_type": "code",
   "execution_count": 20,
   "id": "fatal-monitoring",
   "metadata": {
    "ExecuteTime": {
     "end_time": "2021-03-16T15:58:23.681347Z",
     "start_time": "2021-03-16T15:58:23.667209Z"
    }
   },
   "outputs": [],
   "source": [
    "title = soup.find(id='firstHeading')"
   ]
  },
  {
   "cell_type": "code",
   "execution_count": 22,
   "id": "sustainable-identification",
   "metadata": {
    "ExecuteTime": {
     "end_time": "2021-03-16T15:59:20.878518Z",
     "start_time": "2021-03-16T15:59:20.869355Z"
    }
   },
   "outputs": [
    {
     "data": {
      "text/plain": [
       "'1635: The Eastern Front'"
      ]
     },
     "execution_count": 22,
     "metadata": {},
     "output_type": "execute_result"
    }
   ],
   "source": [
    "\n",
    "title.string"
   ]
  },
  {
   "cell_type": "code",
   "execution_count": null,
   "id": "powered-breach",
   "metadata": {},
   "outputs": [],
   "source": [
    "def scrape_books(url):\n",
    "    response = requests.get(url=url,)\n",
    "    soup = BeautifulSoup(response.content, 'html.parser')\n",
    "    title = soup.find(id=\"firstHeading\")"
   ]
  }
 ],
 "metadata": {
  "kernelspec": {
   "display_name": "learn-env",
   "language": "python",
   "name": "learn-env"
  },
  "language_info": {
   "codemirror_mode": {
    "name": "ipython",
    "version": 3
   },
   "file_extension": ".py",
   "mimetype": "text/x-python",
   "name": "python",
   "nbconvert_exporter": "python",
   "pygments_lexer": "ipython3",
   "version": "3.6.13"
  },
  "toc": {
   "base_numbering": 1,
   "nav_menu": {},
   "number_sections": true,
   "sideBar": true,
   "skip_h1_title": false,
   "title_cell": "Table of Contents",
   "title_sidebar": "Contents",
   "toc_cell": false,
   "toc_position": {},
   "toc_section_display": true,
   "toc_window_display": false
  }
 },
 "nbformat": 4,
 "nbformat_minor": 5
}
