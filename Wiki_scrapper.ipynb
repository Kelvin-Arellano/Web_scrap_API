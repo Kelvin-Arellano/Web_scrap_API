{
 "cells": [
  {
   "cell_type": "code",
   "execution_count": 2,
   "id": "downtown-magazine",
   "metadata": {
    "ExecuteTime": {
     "end_time": "2021-03-19T13:22:50.369489Z",
     "start_time": "2021-03-19T13:22:50.328673Z"
    }
   },
   "outputs": [],
   "source": [
    "import requests \n",
    "from bs4 import BeautifulSoup\n",
    "import numpy as np\n",
    "import pandas as pd\n",
    "from time import sleep\n",
    "from random import randint\n",
    "import datetime\n",
    "import pdb\n",
    "import re\n",
    "import os\n",
    "import json\n",
    "import time\n",
    "import datetime\n",
    "from pathlib import Path\n",
    "import pickle\n",
    "import dateutil\n",
    "from selenium import webdriver\n",
    "import lxml\n",
    "from dateutil.relativedelta import relativedelta\n",
    "import time\n",
    "import random\n",
    "import wikipedia\n",
    "from os import system\n",
    "from math import floor\n",
    "from copy import deepcopy\n",
    "from selenium.webdriver.common.by import By\n",
    "from selenium.webdriver.common.keys import Keys\n",
    "from selenium.common.exceptions import TimeoutException\n",
    "from selenium.webdriver.support.ui import WebDriverWait\n",
    "from selenium.webdriver.support import expected_conditions as EC\n"
   ]
  },
  {
   "cell_type": "code",
   "execution_count": null,
   "id": "classical-telling",
   "metadata": {},
   "outputs": [],
   "source": [
    "for i in year_list:\n",
    "    html = requests.get(f'https://en.wikipedia.org/wiki/{i}_in_literature')\n",
    "    soup = BeautifulSoup(html.text,'lxml')\n",
    "    for i in soup_1.find_all(name = 'li'):\n",
    "        for link in i\n",
    "    \n",
    "    "
   ]
  },
  {
   "cell_type": "code",
   "execution_count": 184,
   "id": "healthy-turkish",
   "metadata": {
    "ExecuteTime": {
     "end_time": "2021-03-19T16:36:04.067046Z",
     "start_time": "2021-03-19T16:36:04.063325Z"
    }
   },
   "outputs": [],
   "source": [
    "full_links"
   ]
  },
  {
   "cell_type": "code",
   "execution_count": 353,
   "id": "indonesian-treatment",
   "metadata": {
    "ExecuteTime": {
     "end_time": "2021-03-19T17:25:45.346089Z",
     "start_time": "2021-03-19T17:25:44.916115Z"
    }
   },
   "outputs": [],
   "source": [
    "html_1 = requests.get('https://en.wikipedia.org/wiki/2015_in_literature')\n",
    "soup_1 = BeautifulSoup(html_1.text,'lxml')\n",
    "links = []\n",
    "for i in soup_1.find_all(name = 'li'):\n",
    "    for link in i.find_all('a', href=True):\n",
    "        links.append(link['href'])    \n",
    "#2008links = links[81:-507]\n",
    "#2009links = links[105:-591]\n",
    "#2010links = links[118:-721]\n",
    "#2011links = links[76:-982]\n",
    "#2012links = links[97:-581]\n",
    "#2013links = links[111:-646]\n",
    "#2014links = links[159:-565]\n",
    "#2015links = links[121:-510]\n"
   ]
  },
  {
   "cell_type": "code",
   "execution_count": 358,
   "id": "damaged-database",
   "metadata": {
    "ExecuteTime": {
     "end_time": "2021-03-19T17:25:54.314671Z",
     "start_time": "2021-03-19T17:25:54.294612Z"
    }
   },
   "outputs": [
    {
     "data": {
      "text/plain": [
       "1888"
      ]
     },
     "execution_count": 358,
     "metadata": {},
     "output_type": "execute_result"
    }
   ],
   "source": [
    "len(full_links)"
   ]
  },
  {
   "cell_type": "code",
   "execution_count": 357,
   "id": "graphic-venice",
   "metadata": {
    "ExecuteTime": {
     "end_time": "2021-03-19T17:25:51.498145Z",
     "start_time": "2021-03-19T17:25:51.493184Z"
    }
   },
   "outputs": [],
   "source": [
    "full_links.extend(links)"
   ]
  },
  {
   "cell_type": "code",
   "execution_count": 54,
   "id": "frequent-endorsement",
   "metadata": {
    "ExecuteTime": {
     "end_time": "2021-03-19T15:36:10.157687Z",
     "start_time": "2021-03-19T15:36:09.914557Z"
    }
   },
   "outputs": [],
   "source": [
    "html = requests.get('https://en.wikipedia.org/wiki/The_White_Tiger_(Adiga_novel)')\n",
    "soup = BeautifulSoup(html.text, 'lxml')\n",
    "tables = []\n",
    "for t in soup.find_all(name = 'table', class_='infobox vcard'):\n",
    "    for i in t.find_all('a', href=True, class_=''):\n",
    "        tables.append(i.text)"
   ]
  },
  {
   "cell_type": "code",
   "execution_count": 41,
   "id": "dietary-verse",
   "metadata": {
    "ExecuteTime": {
     "end_time": "2021-03-19T14:55:12.879975Z",
     "start_time": "2021-03-19T14:55:12.860648Z"
    }
   },
   "outputs": [
    {
     "data": {
      "text/plain": [
       "['Aravind Adiga',\n",
       " 'Picaresque novel',\n",
       " 'Atlantic Books',\n",
       " 'HarperCollins',\n",
       " 'hardback',\n",
       " '1-4165-6259-1',\n",
       " 'Dewey Decimal']"
      ]
     },
     "execution_count": 41,
     "metadata": {},
     "output_type": "execute_result"
    }
   ],
   "source": [
    "tables\n",
    "#lstm\n",
    "#adding features before embedding\n",
    "#look into tfidf\n",
    "#rnn fo rreviews and tweets and concatinate then add exojinous\n",
    "#combining hidden states\n",
    "#then combining in a feet forward model for neural networks\n",
    "#going into lexiconal\n",
    "#going into the neural network\n",
    "#gru transformers"
   ]
  },
  {
   "cell_type": "code",
   "execution_count": null,
   "id": "freelance-avatar",
   "metadata": {},
   "outputs": [],
   "source": []
  }
 ],
 "metadata": {
  "kernelspec": {
   "display_name": "learn-env",
   "language": "python",
   "name": "learn-env"
  },
  "language_info": {
   "codemirror_mode": {
    "name": "ipython",
    "version": 3
   },
   "file_extension": ".py",
   "mimetype": "text/x-python",
   "name": "python",
   "nbconvert_exporter": "python",
   "pygments_lexer": "ipython3",
   "version": "3.6.13"
  },
  "toc": {
   "base_numbering": 1,
   "nav_menu": {},
   "number_sections": true,
   "sideBar": true,
   "skip_h1_title": false,
   "title_cell": "Table of Contents",
   "title_sidebar": "Contents",
   "toc_cell": false,
   "toc_position": {},
   "toc_section_display": true,
   "toc_window_display": false
  }
 },
 "nbformat": 4,
 "nbformat_minor": 5
}
