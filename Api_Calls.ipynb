{
 "cells": [
  {
   "cell_type": "code",
   "execution_count": 334,
   "metadata": {
    "ExecuteTime": {
     "end_time": "2021-03-16T22:55:21.190290Z",
     "start_time": "2021-03-16T22:55:21.146781Z"
    }
   },
   "outputs": [
    {
     "ename": "ImportError",
     "evalue": "cannot import name 'to_csv'",
     "output_type": "error",
     "traceback": [
      "\u001b[0;31m---------------------------------------------------------------------------\u001b[0m",
      "\u001b[0;31mImportError\u001b[0m                               Traceback (most recent call last)",
      "\u001b[0;32m<ipython-input-334-0ead135684a0>\u001b[0m in \u001b[0;36m<module>\u001b[0;34m()\u001b[0m\n\u001b[1;32m     13\u001b[0m \u001b[0;32mimport\u001b[0m \u001b[0mdatetime\u001b[0m\u001b[0;34m\u001b[0m\u001b[0;34m\u001b[0m\u001b[0m\n\u001b[1;32m     14\u001b[0m \u001b[0;32mimport\u001b[0m \u001b[0mpickle\u001b[0m\u001b[0;34m\u001b[0m\u001b[0;34m\u001b[0m\u001b[0m\n\u001b[0;32m---> 15\u001b[0;31m \u001b[0;32mfrom\u001b[0m \u001b[0mpandas\u001b[0m \u001b[0;32mimport\u001b[0m \u001b[0mto_csv\u001b[0m\u001b[0;34m\u001b[0m\u001b[0;34m\u001b[0m\u001b[0m\n\u001b[0m\u001b[1;32m     16\u001b[0m \u001b[0;32mimport\u001b[0m \u001b[0mdateutil\u001b[0m\u001b[0;34m\u001b[0m\u001b[0;34m\u001b[0m\u001b[0m\n\u001b[1;32m     17\u001b[0m \u001b[0;32mfrom\u001b[0m \u001b[0mdateutil\u001b[0m\u001b[0;34m.\u001b[0m\u001b[0mrelativedelta\u001b[0m \u001b[0;32mimport\u001b[0m \u001b[0mrelativedelta\u001b[0m\u001b[0;34m\u001b[0m\u001b[0;34m\u001b[0m\u001b[0m\n",
      "\u001b[0;31mImportError\u001b[0m: cannot import name 'to_csv'"
     ]
    }
   ],
   "source": [
    "import requests \n",
    "from bs4 import BeautifulSoup\n",
    "import numpy as np\n",
    "import pandas as pd\n",
    "from time import sleep\n",
    "from random import randint\n",
    "import datetime\n",
    "import pdb\n",
    "import re\n",
    "import os\n",
    "import json\n",
    "import time\n",
    "import datetime\n",
    "import pickle\n",
    "import dateutil\n",
    "from dateutil.relativedelta import relativedelta\n"
   ]
  },
  {
   "cell_type": "code",
   "execution_count": 88,
   "metadata": {
    "ExecuteTime": {
     "end_time": "2021-03-15T19:03:45.073880Z",
     "start_time": "2021-03-15T19:03:45.064055Z"
    }
   },
   "outputs": [],
   "source": [
    "# numweeks = 533\n",
    "# base = datetime.datetime.today()\n",
    "# date_list = [base - datetime.timedelta(weeks = x) for x in range(numweeks)]"
   ]
  },
  {
   "cell_type": "code",
   "execution_count": 299,
   "metadata": {
    "ExecuteTime": {
     "end_time": "2021-03-16T20:41:55.209419Z",
     "start_time": "2021-03-16T20:41:55.181022Z"
    }
   },
   "outputs": [],
   "source": [
    "def send_request(date):\n",
    "    bad_list=[]\n",
    "    try:\n",
    "        headers = {'Accept-Language': 'en-US,en;q=0.5'}\n",
    "        api_key = 'zRJXJxjyXQ4wICf08bZbSFmyPpeNAoVW'\n",
    "        base_url = 'https://api.nytimes.com/svc/books/v3/lists/overview.json?published_date='\n",
    "        url = base_url +date+'&api-key='+api_key+'&ref_=adv_nxt'\n",
    "        response = requests.get(url, headers=headers).json()\n",
    "        NYT_DATA = parse_response(response)\n",
    "        time.sleep(randint(6,10))\n",
    "        return NYT_DATA\n",
    "    except KeyError as e:\n",
    "        bad_list.append(response)\n",
    "        print(bad_list)\n",
    "        print(e)"
   ]
  },
  {
   "cell_type": "code",
   "execution_count": 300,
   "metadata": {
    "ExecuteTime": {
     "end_time": "2021-03-16T20:41:56.328388Z",
     "start_time": "2021-03-16T20:41:56.156825Z"
    }
   },
   "outputs": [],
   "source": [
    "def parse_response(response):\n",
    "    '''Parses and returns response as pandas data frame.'''\n",
    "    data = {\n",
    "        'Title':[],\n",
    "        'List_Type': [], \n",
    "        'Update_Interval': [],\n",
    "        'Author': [],\n",
    "        'Rank':[],\n",
    "        'Isbn10': [],\n",
    "        'Isbn13': [],\n",
    "        'BestSeller_Date':[],\n",
    "        'List_Published_Date':[],\n",
    "        'Publisher':[],\n",
    "        'Weeks_on_List':[],\n",
    "        'Amazon_Link':[],\n",
    "        'Apple_Books_Link':[],\n",
    "        'Barnes_and_Nobel_Link':[],\n",
    "        'Books_A_Million_Link':[],\n",
    "        'Bookshop_Link':[],\n",
    "        'IndieBound_Link':[],\n",
    "        }\n",
    "    status = response['status']\n",
    "    if status == 'OK':\n",
    "        lists = response['results']['lists']\n",
    "        pub_date = dateutil.parser.parse(response['results']['published_date'])\n",
    "        sell_date = dateutil.parser.parse(response['results']['bestsellers_date'])\n",
    "        for lis in lists: \n",
    "            #this_list = list[lis]\n",
    "            for book in lis['books']:\n",
    "                data['Title'].append(book['title'])\n",
    "                data['Author'].append(book['author'])\n",
    "                data['Rank'].append(book['rank'])\n",
    "                data['Isbn10'].append(book['primary_isbn10'])\n",
    "                data['Isbn13'].append(book['primary_isbn13'])\n",
    "                data['Publisher'].append(book['publisher'])\n",
    "                data['Weeks_on_List'].append(book['weeks_on_list'])\n",
    "                data['List_Type'].append(lis['list_name'])\n",
    "                data['Update_Interval'].append(lis['updated'])\n",
    "                data['List_Published_Date'].append(pub_date)\n",
    "                data['BestSeller_Date'].append(sell_date)\n",
    "                data['Amazon_Link'].append(book['buy_links'][0]['url'])\n",
    "                data['Apple_Books_Link'].append(book['buy_links'][1]['url'])\n",
    "                data['Barnes_and_Nobel_Link'].append(book['buy_links'][2]['url'])\n",
    "                data['Books_A_Million_Link'].append(book['buy_links'][3]['url'])\n",
    "                data['Bookshop_Link'].append(book['buy_links'][4]['url'])\n",
    "                data['IndieBound_Link'].append(book['buy_links'][5]['url'])\n",
    "    NYT_Data = pd.DataFrame(data) \n",
    "    #pd.to\n",
    "    return NYT_Data\n",
    "               "
   ]
  },
  {
   "cell_type": "code",
   "execution_count": 317,
   "metadata": {
    "ExecuteTime": {
     "end_time": "2021-03-16T22:00:46.442915Z",
     "start_time": "2021-03-16T22:00:46.375162Z"
    }
   },
   "outputs": [],
   "source": [
    "def get_full_data(date):\n",
    "    #inputing date to start loop\n",
    "    full_data = []\n",
    "    bad_dates =[]\n",
    "    for date in weeks_in_range:\n",
    "        try:\n",
    "            \n",
    "            #loop will continue until start_date is equal to end_date\n",
    "            #setting start and end_dates\n",
    "            new_request = send_request(date[0]+'-'+date[1]+'-'+date[2])\n",
    "            full_data.append(new_request)\n",
    "            print(date)\n",
    "        \n",
    "        except KeyError as e:\n",
    "            bad_dates.append(date)\n",
    "    return full_data"
   ]
  },
  {
   "cell_type": "code",
   "execution_count": 315,
   "metadata": {
    "ExecuteTime": {
     "end_time": "2021-03-16T22:00:26.478982Z",
     "start_time": "2021-03-16T22:00:26.322581Z"
    }
   },
   "outputs": [],
   "source": [
    "weeks_in_range = [x.split(' ') for x in pd.date_range(first_end_date, end_date, freq='W').strftime(\"%Y %m %d\").tolist()]"
   ]
  },
  {
   "cell_type": "code",
   "execution_count": 320,
   "metadata": {
    "ExecuteTime": {
     "end_time": "2021-03-16T22:07:38.897938Z",
     "start_time": "2021-03-16T22:07:38.850282Z"
    }
   },
   "outputs": [],
   "source": [
    "#weeks_in_range"
   ]
  },
  {
   "cell_type": "code",
   "execution_count": 293,
   "metadata": {
    "ExecuteTime": {
     "end_time": "2021-03-16T20:40:12.297572Z",
     "start_time": "2021-03-16T20:40:12.283248Z"
    }
   },
   "outputs": [],
   "source": [
    "#start_date =datetime.date(2010,1,1)\n",
    "end_date = datetime.date(2021,3,14)\n",
    "first_end_date = datetime.date(2016,10,30)"
   ]
  },
  {
   "cell_type": "code",
   "execution_count": 260,
   "metadata": {
    "ExecuteTime": {
     "end_time": "2021-03-16T20:20:52.083475Z",
     "start_time": "2021-03-16T20:20:52.078741Z"
    }
   },
   "outputs": [],
   "source": [
    "#first_weeks_in_range = [x.split(' ') for x in pd.date_range(start_date, first_end_date, freq=\"W\").strftime(\"%Y %-m %d\").tolist()]"
   ]
  },
  {
   "cell_type": "code",
   "execution_count": 289,
   "metadata": {
    "ExecuteTime": {
     "end_time": "2021-03-16T20:36:50.007315Z",
     "start_time": "2021-03-16T20:36:49.982202Z"
    }
   },
   "outputs": [],
   "source": [
    "#two_weeks_in_range = [x.split(' ') for x in pd.date_range(start_date, end_date, freq=\"W\").strftime(\"%Y %m %d\").tolist()]"
   ]
  },
  {
   "cell_type": "code",
   "execution_count": 322,
   "metadata": {
    "ExecuteTime": {
     "end_time": "2021-03-16T22:42:24.344013Z",
     "start_time": "2021-03-16T22:42:24.297996Z"
    },
    "scrolled": false
   },
   "outputs": [],
   "source": [
    "#y = get_full_data(first_end_date)"
   ]
  },
  {
   "cell_type": "code",
   "execution_count": 323,
   "metadata": {
    "ExecuteTime": {
     "end_time": "2021-03-16T22:42:33.564351Z",
     "start_time": "2021-03-16T22:42:33.546965Z"
    }
   },
   "outputs": [
    {
     "data": {
      "text/plain": [
       "357"
      ]
     },
     "execution_count": 323,
     "metadata": {},
     "output_type": "execute_result"
    }
   ],
   "source": [
    "len(x)"
   ]
  },
  {
   "cell_type": "code",
   "execution_count": 324,
   "metadata": {
    "ExecuteTime": {
     "end_time": "2021-03-16T22:42:40.861520Z",
     "start_time": "2021-03-16T22:42:40.852997Z"
    }
   },
   "outputs": [
    {
     "data": {
      "text/plain": [
       "229"
      ]
     },
     "execution_count": 324,
     "metadata": {},
     "output_type": "execute_result"
    }
   ],
   "source": [
    "len(y)"
   ]
  },
  {
   "cell_type": "code",
   "execution_count": 325,
   "metadata": {
    "ExecuteTime": {
     "end_time": "2021-03-16T22:42:44.732851Z",
     "start_time": "2021-03-16T22:42:44.722119Z"
    }
   },
   "outputs": [],
   "source": [
    "x.extend(y)"
   ]
  },
  {
   "cell_type": "code",
   "execution_count": 326,
   "metadata": {
    "ExecuteTime": {
     "end_time": "2021-03-16T22:42:54.422489Z",
     "start_time": "2021-03-16T22:42:54.414029Z"
    }
   },
   "outputs": [
    {
     "data": {
      "text/plain": [
       "586"
      ]
     },
     "execution_count": 326,
     "metadata": {},
     "output_type": "execute_result"
    }
   ],
   "source": [
    "len(x)"
   ]
  },
  {
   "cell_type": "code",
   "execution_count": 274,
   "metadata": {
    "ExecuteTime": {
     "end_time": "2021-03-16T20:26:47.693942Z",
     "start_time": "2021-03-16T20:26:47.666967Z"
    }
   },
   "outputs": [
    {
     "name": "stdout",
     "output_type": "stream",
     "text": [
      "2010,1,03\n",
      "2010,1,10\n"
     ]
    }
   ],
   "source": [
    "for date in two_weeks_in_range:\n",
    "    print(date[0]+','+date[1]+','+date[2])"
   ]
  },
  {
   "cell_type": "code",
   "execution_count": 333,
   "metadata": {
    "ExecuteTime": {
     "end_time": "2021-03-16T22:53:05.875507Z",
     "start_time": "2021-03-16T22:53:05.859813Z"
    }
   },
   "outputs": [
    {
     "ename": "AttributeError",
     "evalue": "'list' object has no attribute 'to_pickle'",
     "output_type": "error",
     "traceback": [
      "\u001b[0;31m---------------------------------------------------------------------------\u001b[0m",
      "\u001b[0;31mAttributeError\u001b[0m                            Traceback (most recent call last)",
      "\u001b[0;32m<ipython-input-333-e4a3877904a5>\u001b[0m in \u001b[0;36m<module>\u001b[0;34m()\u001b[0m\n\u001b[0;32m----> 1\u001b[0;31m \u001b[0mx\u001b[0m\u001b[0;34m.\u001b[0m\u001b[0mto_pickle\u001b[0m\u001b[0;34m(\u001b[0m\u001b[0;34m'./NYT_API_CALLS.pkl'\u001b[0m\u001b[0;34m)\u001b[0m\u001b[0;34m\u001b[0m\u001b[0;34m\u001b[0m\u001b[0m\n\u001b[0m",
      "\u001b[0;31mAttributeError\u001b[0m: 'list' object has no attribute 'to_pickle'"
     ]
    }
   ],
   "source": [
    "pd.to_pickle(x,'./NYT_API_CALLS.pkl')"
   ]
  },
  {
   "cell_type": "code",
   "execution_count": 331,
   "metadata": {
    "ExecuteTime": {
     "end_time": "2021-03-16T22:48:27.694361Z",
     "start_time": "2021-03-16T22:48:25.784991Z"
    }
   },
   "outputs": [],
   "source": [
    "pd.to_pickle(x,'./NYT_API_CALL.pkl','zip')"
   ]
  },
  {
   "cell_type": "code",
   "execution_count": 332,
   "metadata": {
    "ExecuteTime": {
     "end_time": "2021-03-16T22:49:28.627305Z",
     "start_time": "2021-03-16T22:49:28.550528Z"
    }
   },
   "outputs": [
    {
     "ename": "FileNotFoundError",
     "evalue": "[Errno 2] No such file or directory: './NTY_API_CALL.pkl'",
     "output_type": "error",
     "traceback": [
      "\u001b[0;31m---------------------------------------------------------------------------\u001b[0m",
      "\u001b[0;31mFileNotFoundError\u001b[0m                         Traceback (most recent call last)",
      "\u001b[0;32m<ipython-input-332-e66701ff28cd>\u001b[0m in \u001b[0;36m<module>\u001b[0;34m()\u001b[0m\n\u001b[0;32m----> 1\u001b[0;31m \u001b[0mpd\u001b[0m\u001b[0;34m.\u001b[0m\u001b[0mread_pickle\u001b[0m\u001b[0;34m(\u001b[0m\u001b[0;34m'./NTY_API_CALL.pkl'\u001b[0m\u001b[0;34m)\u001b[0m\u001b[0;34m\u001b[0m\u001b[0;34m\u001b[0m\u001b[0m\n\u001b[0m",
      "\u001b[0;32m/Users/kelvinarellano/opt/anaconda3/envs/learn-env/lib/python3.6/site-packages/pandas/io/pickle.py\u001b[0m in \u001b[0;36mread_pickle\u001b[0;34m(filepath_or_buffer, compression)\u001b[0m\n\u001b[1;32m    167\u001b[0m     \u001b[0;32mif\u001b[0m \u001b[0;32mnot\u001b[0m \u001b[0misinstance\u001b[0m\u001b[0;34m(\u001b[0m\u001b[0mfp_or_buf\u001b[0m\u001b[0;34m,\u001b[0m \u001b[0mstr\u001b[0m\u001b[0;34m)\u001b[0m \u001b[0;32mand\u001b[0m \u001b[0mcompression\u001b[0m \u001b[0;34m==\u001b[0m \u001b[0;34m\"infer\"\u001b[0m\u001b[0;34m:\u001b[0m\u001b[0;34m\u001b[0m\u001b[0;34m\u001b[0m\u001b[0m\n\u001b[1;32m    168\u001b[0m         \u001b[0mcompression\u001b[0m \u001b[0;34m=\u001b[0m \u001b[0;32mNone\u001b[0m\u001b[0;34m\u001b[0m\u001b[0;34m\u001b[0m\u001b[0m\n\u001b[0;32m--> 169\u001b[0;31m     \u001b[0mf\u001b[0m\u001b[0;34m,\u001b[0m \u001b[0mfh\u001b[0m \u001b[0;34m=\u001b[0m \u001b[0mget_handle\u001b[0m\u001b[0;34m(\u001b[0m\u001b[0mfp_or_buf\u001b[0m\u001b[0;34m,\u001b[0m \u001b[0;34m\"rb\"\u001b[0m\u001b[0;34m,\u001b[0m \u001b[0mcompression\u001b[0m\u001b[0;34m=\u001b[0m\u001b[0mcompression\u001b[0m\u001b[0;34m,\u001b[0m \u001b[0mis_text\u001b[0m\u001b[0;34m=\u001b[0m\u001b[0;32mFalse\u001b[0m\u001b[0;34m)\u001b[0m\u001b[0;34m\u001b[0m\u001b[0;34m\u001b[0m\u001b[0m\n\u001b[0m\u001b[1;32m    170\u001b[0m \u001b[0;34m\u001b[0m\u001b[0m\n\u001b[1;32m    171\u001b[0m     \u001b[0;31m# 1) try standard library Pickle\u001b[0m\u001b[0;34m\u001b[0m\u001b[0;34m\u001b[0m\u001b[0;34m\u001b[0m\u001b[0m\n",
      "\u001b[0;32m/Users/kelvinarellano/opt/anaconda3/envs/learn-env/lib/python3.6/site-packages/pandas/io/common.py\u001b[0m in \u001b[0;36mget_handle\u001b[0;34m(path_or_buf, mode, encoding, compression, memory_map, is_text, errors)\u001b[0m\n\u001b[1;32m    497\u001b[0m         \u001b[0;32melse\u001b[0m\u001b[0;34m:\u001b[0m\u001b[0;34m\u001b[0m\u001b[0;34m\u001b[0m\u001b[0m\n\u001b[1;32m    498\u001b[0m             \u001b[0;31m# Binary mode\u001b[0m\u001b[0;34m\u001b[0m\u001b[0;34m\u001b[0m\u001b[0;34m\u001b[0m\u001b[0m\n\u001b[0;32m--> 499\u001b[0;31m             \u001b[0mf\u001b[0m \u001b[0;34m=\u001b[0m \u001b[0mopen\u001b[0m\u001b[0;34m(\u001b[0m\u001b[0mpath_or_buf\u001b[0m\u001b[0;34m,\u001b[0m \u001b[0mmode\u001b[0m\u001b[0;34m)\u001b[0m\u001b[0;34m\u001b[0m\u001b[0;34m\u001b[0m\u001b[0m\n\u001b[0m\u001b[1;32m    500\u001b[0m         \u001b[0mhandles\u001b[0m\u001b[0;34m.\u001b[0m\u001b[0mappend\u001b[0m\u001b[0;34m(\u001b[0m\u001b[0mf\u001b[0m\u001b[0;34m)\u001b[0m\u001b[0;34m\u001b[0m\u001b[0;34m\u001b[0m\u001b[0m\n\u001b[1;32m    501\u001b[0m \u001b[0;34m\u001b[0m\u001b[0m\n",
      "\u001b[0;31mFileNotFoundError\u001b[0m: [Errno 2] No such file or directory: './NTY_API_CALL.pkl'"
     ]
    }
   ],
   "source": [
    "pd.read_pickle('./NTY_API_CALL.pkl')"
   ]
  },
  {
   "cell_type": "code",
   "execution_count": 1,
   "metadata": {
    "ExecuteTime": {
     "end_time": "2021-03-15T11:20:22.677839Z",
     "start_time": "2021-03-15T11:20:22.672901Z"
    }
   },
   "outputs": [],
   "source": [
    "#NYT_Data"
   ]
  },
  {
   "cell_type": "code",
   "execution_count": 17,
   "metadata": {
    "ExecuteTime": {
     "end_time": "2021-03-14T21:58:50.135111Z",
     "start_time": "2021-03-14T21:58:50.120947Z"
    }
   },
   "outputs": [],
   "source": [
    "# url='https://api.nytimes.com/svc/books/v3/lists/overview.json?published_date='\n",
    "# def get_api_calls(url):\n",
    "#     try:\n",
    "#         start_date = str(datetime.date(2010,1,1))\n",
    "#         end_date = str(datetime.date(2020,12,31))\n",
    "#         delta = datetime.timedelta(days=1)\n",
    "#         api_key='8H770iyWiY9GaSuw2eULzJjGZVKw73AF'\n",
    "#         headers = {'Accept-Language': 'en-US,en;q=0.5'}\n",
    "#         while start_date <= end_date:\n",
    "#             df = pd.DataFrame()\n",
    "#             r = requests.get(url+start_date+'&api-key='+ api_key + '&ref_=adv_nxt', headers=headers)\n",
    "#             sleep(randint(2,10))\n",
    "#             x = r.json()\n",
    "#             x_df = pd.DataFrame(x['results'])\n",
    "#             if x_df.shape[0] == 0:\n",
    "#                 start_date += delta\n",
    "#                 r = requests.get(url+start_date+'&api-key='+ api_key + '&ref_=adv_nxt', headers=headers)\n",
    "#                 sleep(randint(2,10))\n",
    "#                 x = r.json()\n",
    "#                 x_df = pd.DataFrame(x['results'])\n",
    "#             if df.shape[0] == 0:\n",
    "#                 df = pd.concat([df,x_df])\n",
    "#             elif df['published_date'].iloc[-1] == x_df['published_date'].iloc[1]:\n",
    "#                 continue\n",
    "#             else:\n",
    "#                 df = pd.concat([df,x_df])\n",
    "#                 start_date += delta\n",
    "#         return df\n",
    "#     except IndexError as e: print(e)"
   ]
  },
  {
   "cell_type": "code",
   "execution_count": 336,
   "metadata": {
    "ExecuteTime": {
     "end_time": "2021-03-16T22:58:10.292131Z",
     "start_time": "2021-03-16T22:58:08.716335Z"
    }
   },
   "outputs": [
    {
     "name": "stdout",
     "output_type": "stream",
     "text": [
      "\n",
      "INSTALLED VERSIONS\n",
      "------------------\n",
      "commit           : db08276bc116c438d3fdee492026f8223584c477\n",
      "python           : 3.6.13.final.0\n",
      "python-bits      : 64\n",
      "OS               : Darwin\n",
      "OS-release       : 19.6.0\n",
      "Version          : Darwin Kernel Version 19.6.0: Thu Oct 29 22:56:45 PDT 2020; root:xnu-6153.141.2.2~1/RELEASE_X86_64\n",
      "machine          : x86_64\n",
      "processor        : i386\n",
      "byteorder        : little\n",
      "LC_ALL           : None\n",
      "LANG             : en_US.UTF-8\n",
      "LOCALE           : en_US.UTF-8\n",
      "\n",
      "pandas           : 1.1.3\n",
      "numpy            : 1.19.2\n",
      "pytz             : 2021.1\n",
      "dateutil         : 2.8.1\n",
      "pip              : 21.0.1\n",
      "setuptools       : 52.0.0.post20210125\n",
      "Cython           : 0.29.22\n",
      "pytest           : None\n",
      "hypothesis       : None\n",
      "sphinx           : None\n",
      "blosc            : None\n",
      "feather          : None\n",
      "xlsxwriter       : None\n",
      "lxml.etree       : 4.6.2\n",
      "html5lib         : None\n",
      "pymysql          : None\n",
      "psycopg2         : None\n",
      "jinja2           : 2.11.3\n",
      "IPython          : 5.8.0\n",
      "pandas_datareader: None\n",
      "bs4              : 4.9.3\n",
      "bottleneck       : None\n",
      "fsspec           : None\n",
      "fastparquet      : None\n",
      "gcsfs            : None\n",
      "matplotlib       : 3.3.4\n",
      "numexpr          : None\n",
      "odfpy            : None\n",
      "openpyxl         : None\n",
      "pandas_gbq       : None\n",
      "pyarrow          : None\n",
      "pytables         : None\n",
      "pyxlsb           : None\n",
      "s3fs             : None\n",
      "scipy            : 1.5.2\n",
      "sqlalchemy       : None\n",
      "tables           : None\n",
      "tabulate         : None\n",
      "xarray           : None\n",
      "xlrd             : 1.2.0\n",
      "xlwt             : None\n",
      "numba            : None\n"
     ]
    }
   ],
   "source": [
    "pd.show_versions()"
   ]
  },
  {
   "cell_type": "code",
   "execution_count": null,
   "metadata": {},
   "outputs": [],
   "source": []
  }
 ],
 "metadata": {
  "kernelspec": {
   "display_name": "learn-env",
   "language": "python",
   "name": "learn-env"
  },
  "language_info": {
   "codemirror_mode": {
    "name": "ipython",
    "version": 3
   },
   "file_extension": ".py",
   "mimetype": "text/x-python",
   "name": "python",
   "nbconvert_exporter": "python",
   "pygments_lexer": "ipython3",
   "version": "3.6.13"
  },
  "toc": {
   "base_numbering": 1,
   "nav_menu": {},
   "number_sections": true,
   "sideBar": true,
   "skip_h1_title": false,
   "title_cell": "Table of Contents",
   "title_sidebar": "Contents",
   "toc_cell": false,
   "toc_position": {},
   "toc_section_display": true,
   "toc_window_display": false
  }
 },
 "nbformat": 4,
 "nbformat_minor": 4
}
