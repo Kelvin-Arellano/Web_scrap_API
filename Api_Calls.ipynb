{
 "cells": [
  {
   "cell_type": "code",
   "execution_count": 2,
   "metadata": {
    "ExecuteTime": {
     "end_time": "2021-03-15T11:20:33.708531Z",
     "start_time": "2021-03-15T11:20:26.943634Z"
    }
   },
   "outputs": [],
   "source": [
    "import requests \n",
    "from bs4 import BeautifulSoup\n",
    "import numpy as np\n",
    "import pandas as pd\n",
    "from time import sleep\n",
    "from random import randint\n",
    "import datetime\n",
    "import pdb\n",
    "import re\n",
    "import os\n",
    "import json\n",
    "import time\n",
    "import datetime\n",
    "import dateutil\n",
    "from dateutil.relativedelta import relativedelta\n"
   ]
  },
  {
   "cell_type": "code",
   "execution_count": 88,
   "metadata": {
    "ExecuteTime": {
     "end_time": "2021-03-15T19:03:45.073880Z",
     "start_time": "2021-03-15T19:03:45.064055Z"
    }
   },
   "outputs": [],
   "source": [
    "# numweeks = 533\n",
    "# base = datetime.datetime.today()\n",
    "# date_list = [base - datetime.timedelta(weeks = x) for x in range(numweeks)]"
   ]
  },
  {
   "cell_type": "code",
   "execution_count": 299,
   "metadata": {
    "ExecuteTime": {
     "end_time": "2021-03-16T20:41:55.209419Z",
     "start_time": "2021-03-16T20:41:55.181022Z"
    }
   },
   "outputs": [],
   "source": [
    "def send_request(date):\n",
    "    bad_list=[]\n",
    "    try:\n",
    "        headers = {'Accept-Language': 'en-US,en;q=0.5'}\n",
    "        api_key = 'zRJXJxjyXQ4wICf08bZbSFmyPpeNAoVW'\n",
    "        base_url = 'https://api.nytimes.com/svc/books/v3/lists/overview.json?published_date='\n",
    "        url = base_url +date+'&api-key='+api_key+'&ref_=adv_nxt'\n",
    "        response = requests.get(url, headers=headers).json()\n",
    "        NYT_DATA = parse_response(response)\n",
    "        time.sleep(randint(6,10))\n",
    "        return NYT_DATA\n",
    "    except KeyError as e:\n",
    "        bad_list.append(response)\n",
    "        print(bad_list)\n",
    "        print(e)"
   ]
  },
  {
   "cell_type": "code",
   "execution_count": 300,
   "metadata": {
    "ExecuteTime": {
     "end_time": "2021-03-16T20:41:56.328388Z",
     "start_time": "2021-03-16T20:41:56.156825Z"
    }
   },
   "outputs": [],
   "source": [
    "def parse_response(response):\n",
    "    '''Parses and returns response as pandas data frame.'''\n",
    "    data = {\n",
    "        'Title':[],\n",
    "        'List_Type': [], \n",
    "        'Update_Interval': [],\n",
    "        'Author': [],\n",
    "        'Rank':[],\n",
    "        'Isbn10': [],\n",
    "        'Isbn13': [],\n",
    "        'BestSeller_Date':[],\n",
    "        'List_Published_Date':[],\n",
    "        'Publisher':[],\n",
    "        'Weeks_on_List':[],\n",
    "        'Amazon_Link':[],\n",
    "        'Apple_Books_Link':[],\n",
    "        'Barnes_and_Nobel_Link':[],\n",
    "        'Books_A_Million_Link':[],\n",
    "        'Bookshop_Link':[],\n",
    "        'IndieBound_Link':[],\n",
    "        }\n",
    "    status = response['status']\n",
    "    if status == 'OK':\n",
    "        lists = response['results']['lists']\n",
    "        pub_date = dateutil.parser.parse(response['results']['published_date'])\n",
    "        sell_date = dateutil.parser.parse(response['results']['bestsellers_date'])\n",
    "        for lis in lists: \n",
    "            #this_list = list[lis]\n",
    "            for book in lis['books']:\n",
    "                data['Title'].append(book['title'])\n",
    "                data['Author'].append(book['author'])\n",
    "                data['Rank'].append(book['rank'])\n",
    "                data['Isbn10'].append(book['primary_isbn10'])\n",
    "                data['Isbn13'].append(book['primary_isbn13'])\n",
    "                data['Publisher'].append(book['publisher'])\n",
    "                data['Weeks_on_List'].append(book['weeks_on_list'])\n",
    "                data['List_Type'].append(lis['list_name'])\n",
    "                data['Update_Interval'].append(lis['updated'])\n",
    "                data['List_Published_Date'].append(pub_date)\n",
    "                data['BestSeller_Date'].append(sell_date)\n",
    "                data['Amazon_Link'].append(book['buy_links'][0]['url'])\n",
    "                data['Apple_Books_Link'].append(book['buy_links'][1]['url'])\n",
    "                data['Barnes_and_Nobel_Link'].append(book['buy_links'][2]['url'])\n",
    "                data['Books_A_Million_Link'].append(book['buy_links'][3]['url'])\n",
    "                data['Bookshop_Link'].append(book['buy_links'][4]['url'])\n",
    "                data['IndieBound_Link'].append(book['buy_links'][5]['url'])\n",
    "    NYT_Data = pd.DataFrame(data) \n",
    "    #pd.to\n",
    "    return NYT_Data\n",
    "               "
   ]
  },
  {
   "cell_type": "code",
   "execution_count": 317,
   "metadata": {
    "ExecuteTime": {
     "end_time": "2021-03-16T22:00:46.442915Z",
     "start_time": "2021-03-16T22:00:46.375162Z"
    }
   },
   "outputs": [],
   "source": [
    "def get_full_data(date):\n",
    "    #inputing date to start loop\n",
    "    full_data = []\n",
    "    bad_dates =[]\n",
    "    for date in weeks_in_range:\n",
    "        try:\n",
    "            \n",
    "            #loop will continue until start_date is equal to end_date\n",
    "            #setting start and end_dates\n",
    "            new_request = send_request(date[0]+'-'+date[1]+'-'+date[2])\n",
    "            full_data.append(new_request)\n",
    "            print(date)\n",
    "        \n",
    "        except KeyError as e:\n",
    "            bad_dates.append(date)\n",
    "    return full_data"
   ]
  },
  {
   "cell_type": "code",
   "execution_count": 315,
   "metadata": {
    "ExecuteTime": {
     "end_time": "2021-03-16T22:00:26.478982Z",
     "start_time": "2021-03-16T22:00:26.322581Z"
    }
   },
   "outputs": [],
   "source": [
    "weeks_in_range = [x.split(' ') for x in pd.date_range(first_end_date, end_date, freq='W').strftime(\"%Y %m %d\").tolist()]"
   ]
  },
  {
   "cell_type": "code",
   "execution_count": 320,
   "metadata": {
    "ExecuteTime": {
     "end_time": "2021-03-16T22:07:38.897938Z",
     "start_time": "2021-03-16T22:07:38.850282Z"
    }
   },
   "outputs": [],
   "source": [
    "#weeks_in_range"
   ]
  },
  {
   "cell_type": "code",
   "execution_count": 293,
   "metadata": {
    "ExecuteTime": {
     "end_time": "2021-03-16T20:40:12.297572Z",
     "start_time": "2021-03-16T20:40:12.283248Z"
    }
   },
   "outputs": [],
   "source": [
    "#start_date =datetime.date(2010,1,1)\n",
    "end_date = datetime.date(2021,3,14)\n",
    "first_end_date = datetime.date(2016,10,30)"
   ]
  },
  {
   "cell_type": "code",
   "execution_count": 260,
   "metadata": {
    "ExecuteTime": {
     "end_time": "2021-03-16T20:20:52.083475Z",
     "start_time": "2021-03-16T20:20:52.078741Z"
    }
   },
   "outputs": [],
   "source": [
    "#first_weeks_in_range = [x.split(' ') for x in pd.date_range(start_date, first_end_date, freq=\"W\").strftime(\"%Y %-m %d\").tolist()]"
   ]
  },
  {
   "cell_type": "code",
   "execution_count": 289,
   "metadata": {
    "ExecuteTime": {
     "end_time": "2021-03-16T20:36:50.007315Z",
     "start_time": "2021-03-16T20:36:49.982202Z"
    }
   },
   "outputs": [],
   "source": [
    "#two_weeks_in_range = [x.split(' ') for x in pd.date_range(start_date, end_date, freq=\"W\").strftime(\"%Y %m %d\").tolist()]"
   ]
  },
  {
   "cell_type": "code",
   "execution_count": null,
   "metadata": {
    "ExecuteTime": {
     "start_time": "2021-03-16T22:08:13.500Z"
    },
    "scrolled": true
   },
   "outputs": [
    {
     "name": "stdout",
     "output_type": "stream",
     "text": [
      "['2016', '10', '30']\n",
      "['2016', '11', '06']\n",
      "['2016', '11', '13']\n",
      "['2016', '11', '20']\n",
      "['2016', '11', '27']\n",
      "['2016', '12', '04']\n",
      "['2016', '12', '11']\n",
      "['2016', '12', '18']\n",
      "['2016', '12', '25']\n",
      "['2017', '01', '01']\n",
      "['2017', '01', '08']\n",
      "['2017', '01', '15']\n",
      "['2017', '01', '22']\n",
      "['2017', '01', '29']\n",
      "['2017', '02', '05']\n",
      "['2017', '02', '12']\n",
      "['2017', '02', '19']\n",
      "['2017', '02', '26']\n",
      "['2017', '03', '05']\n",
      "['2017', '03', '12']\n",
      "['2017', '03', '19']\n",
      "['2017', '03', '26']\n",
      "['2017', '04', '02']\n",
      "['2017', '04', '09']\n",
      "['2017', '04', '16']\n",
      "['2017', '04', '23']\n",
      "['2017', '04', '30']\n",
      "['2017', '05', '07']\n",
      "['2017', '05', '14']\n",
      "['2017', '05', '21']\n",
      "['2017', '05', '28']\n",
      "['2017', '06', '04']\n",
      "['2017', '06', '11']\n",
      "['2017', '06', '18']\n",
      "['2017', '06', '25']\n",
      "['2017', '07', '02']\n",
      "['2017', '07', '09']\n"
     ]
    }
   ],
   "source": [
    "y = get_full_data(first_end_date)"
   ]
  },
  {
   "cell_type": "code",
   "execution_count": 314,
   "metadata": {
    "ExecuteTime": {
     "end_time": "2021-03-16T21:40:39.662931Z",
     "start_time": "2021-03-16T21:40:39.658676Z"
    }
   },
   "outputs": [],
   "source": [
    "#x"
   ]
  },
  {
   "cell_type": "code",
   "execution_count": 274,
   "metadata": {
    "ExecuteTime": {
     "end_time": "2021-03-16T20:26:47.693942Z",
     "start_time": "2021-03-16T20:26:47.666967Z"
    }
   },
   "outputs": [
    {
     "name": "stdout",
     "output_type": "stream",
     "text": [
      "2010,1,03\n",
      "2010,1,10\n"
     ]
    }
   ],
   "source": [
    "for date in two_weeks_in_range:\n",
    "    print(date[0]+','+date[1]+','+date[2])"
   ]
  },
  {
   "cell_type": "code",
   "execution_count": 104,
   "metadata": {
    "ExecuteTime": {
     "end_time": "2021-03-15T02:22:40.435622Z",
     "start_time": "2021-03-15T02:22:40.431508Z"
    }
   },
   "outputs": [],
   "source": [
    "#parse_response(send_request(start_date))"
   ]
  },
  {
   "cell_type": "code",
   "execution_count": 1,
   "metadata": {
    "ExecuteTime": {
     "end_time": "2021-03-15T11:20:22.677839Z",
     "start_time": "2021-03-15T11:20:22.672901Z"
    }
   },
   "outputs": [],
   "source": [
    "#NYT_Data"
   ]
  },
  {
   "cell_type": "code",
   "execution_count": 17,
   "metadata": {
    "ExecuteTime": {
     "end_time": "2021-03-14T21:58:50.135111Z",
     "start_time": "2021-03-14T21:58:50.120947Z"
    }
   },
   "outputs": [],
   "source": [
    "# url='https://api.nytimes.com/svc/books/v3/lists/overview.json?published_date='\n",
    "# def get_api_calls(url):\n",
    "#     try:\n",
    "#         start_date = str(datetime.date(2010,1,1))\n",
    "#         end_date = str(datetime.date(2020,12,31))\n",
    "#         delta = datetime.timedelta(days=1)\n",
    "#         api_key='8H770iyWiY9GaSuw2eULzJjGZVKw73AF'\n",
    "#         headers = {'Accept-Language': 'en-US,en;q=0.5'}\n",
    "#         while start_date <= end_date:\n",
    "#             df = pd.DataFrame()\n",
    "#             r = requests.get(url+start_date+'&api-key='+ api_key + '&ref_=adv_nxt', headers=headers)\n",
    "#             sleep(randint(2,10))\n",
    "#             x = r.json()\n",
    "#             x_df = pd.DataFrame(x['results'])\n",
    "#             if x_df.shape[0] == 0:\n",
    "#                 start_date += delta\n",
    "#                 r = requests.get(url+start_date+'&api-key='+ api_key + '&ref_=adv_nxt', headers=headers)\n",
    "#                 sleep(randint(2,10))\n",
    "#                 x = r.json()\n",
    "#                 x_df = pd.DataFrame(x['results'])\n",
    "#             if df.shape[0] == 0:\n",
    "#                 df = pd.concat([df,x_df])\n",
    "#             elif df['published_date'].iloc[-1] == x_df['published_date'].iloc[1]:\n",
    "#                 continue\n",
    "#             else:\n",
    "#                 df = pd.concat([df,x_df])\n",
    "#                 start_date += delta\n",
    "#         return df\n",
    "#     except IndexError as e: print(e)"
   ]
  }
 ],
 "metadata": {
  "kernelspec": {
   "display_name": "learn-env",
   "language": "python",
   "name": "learn-env"
  },
  "language_info": {
   "codemirror_mode": {
    "name": "ipython",
    "version": 3
   },
   "file_extension": ".py",
   "mimetype": "text/x-python",
   "name": "python",
   "nbconvert_exporter": "python",
   "pygments_lexer": "ipython3",
   "version": "3.6.13"
  },
  "toc": {
   "base_numbering": 1,
   "nav_menu": {},
   "number_sections": true,
   "sideBar": true,
   "skip_h1_title": false,
   "title_cell": "Table of Contents",
   "title_sidebar": "Contents",
   "toc_cell": false,
   "toc_position": {},
   "toc_section_display": true,
   "toc_window_display": false
  }
 },
 "nbformat": 4,
 "nbformat_minor": 4
}
